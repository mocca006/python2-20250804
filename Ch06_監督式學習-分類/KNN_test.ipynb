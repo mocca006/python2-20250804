{
 "cells": [
  {
   "cell_type": "code",
   "execution_count": null,
   "metadata": {
    "executionInfo": {
     "elapsed": 1710,
     "status": "ok",
     "timestamp": 1686659886524,
     "user": {
      "displayName": "ELSA",
      "userId": "12819283556995342183"
     },
     "user_tz": -480
    },
    "id": "ZN0LJEs8wPSF"
   },
   "outputs": [],
   "source": [
    "from sklearn import datasets\n",
    "from sklearn.neighbors import KNeighborsClassifier # 載入KNN分類器\n",
    "from sklearn.model_selection import train_test_split # 載入資料分割模組\n",
    "from sklearn.metrics import accuracy_score # 載入準確率計算模組\n",
    "import numpy as np\n",
    "\n",
    "np.random.seed(0) # 設定隨機種子\n",
    "\n",
    "iris=datasets.load_iris() # 載入鳶尾花資料集"
   ]
  },
  {
   "cell_type": "code",
   "execution_count": 2,
   "metadata": {
    "executionInfo": {
     "elapsed": 509,
     "status": "ok",
     "timestamp": 1686660540991,
     "user": {
      "displayName": "ELSA",
      "userId": "12819283556995342183"
     },
     "user_tz": -480
    },
    "id": "JZntKPtNwPSK"
   },
   "outputs": [],
   "source": [
    "iris_x=iris.data\n",
    "iris_y=iris.target\n",
    "\n",
    "# import pandas as pd\n",
    "# iris_x = pd.DataFrame(iris.data)\n",
    "# iris_x=iris_x.iloc[:, :2]"
   ]
  },
  {
   "cell_type": "markdown",
   "metadata": {},
   "source": [
    "## 資料分割\n",
    "手動切割資料的程式撰寫方式\n"
   ]
  },
  {
   "cell_type": "code",
   "execution_count": 3,
   "metadata": {},
   "outputs": [],
   "source": [
    "#permutation接收一個數作為參數(150),產生一個0-149的一維陣列並隨機打亂\n",
    "indices = np.random.permutation(len(iris_x))\n",
    "\n",
    "iris_x_train = iris_x[indices[:-10]]#隨機選取140個樣本,:-10表示從頭到倒數第10個(不包含倒數第10個)\n",
    "iris_y_train = iris_y[indices[:-10]]#取得140個樣本的標籤\n",
    "\n",
    "iris_x_test = iris_x[indices[-10:]]#測試資料集,選取最後10個樣本\n",
    "iris_y_test = iris_y[indices[-10:]]#測試資料集的標籤,最後10個樣本的標籤\n"
   ]
  },
  {
   "cell_type": "code",
   "execution_count": 8,
   "metadata": {
    "executionInfo": {
     "elapsed": 553,
     "status": "ok",
     "timestamp": 1686660550623,
     "user": {
      "displayName": "ELSA",
      "userId": "12819283556995342183"
     },
     "user_tz": -480
    },
    "id": "j_3cC-AQwPSK"
   },
   "outputs": [
    {
     "ename": "SyntaxError",
     "evalue": "invalid syntax (3434432122.py, line 1)",
     "output_type": "error",
     "traceback": [
      "  \u001b[36mCell\u001b[39m\u001b[36m \u001b[39m\u001b[32mIn[8]\u001b[39m\u001b[32m, line 1\u001b[39m\n\u001b[31m    \u001b[39m\u001b[31mKNeighborsClassifier? # 查看說明\u001b[39m\n                        ^\n\u001b[31mSyntaxError\u001b[39m\u001b[31m:\u001b[39m invalid syntax\n"
     ]
    }
   ],
   "source": [
    "KNeighborsClassifier? # 查看說明"
   ]
  },
  {
   "cell_type": "code",
   "execution_count": null,
   "metadata": {
    "colab": {
     "base_uri": "https://localhost:8080/"
    },
    "executionInfo": {
     "elapsed": 373,
     "status": "ok",
     "timestamp": 1686661041173,
     "user": {
      "displayName": "ELSA",
      "userId": "12819283556995342183"
     },
     "user_tz": -480
    },
    "id": "cM-ys6KCwPSL",
    "outputId": "22851ded-eecc-463f-de42-30b72a818205"
   },
   "outputs": [
    {
     "name": "stdout",
     "output_type": "stream",
     "text": [
      "iris_y_predict =  [1 2 1 0 0 0 2 1 2 0]\n",
      "iris_y_test =  [1 1 1 0 0 0 2 1 2 0]\n",
      "score: 0.9\n",
      "probility: [[0.         1.         0.        ]\n",
      " [0.         0.29791809 0.70208191]\n",
      " [0.         1.         0.        ]\n",
      " [1.         0.         0.        ]\n",
      " [1.         0.         0.        ]\n",
      " [1.         0.         0.        ]\n",
      " [0.         0.         1.        ]\n",
      " [0.         1.         0.        ]\n",
      " [0.         0.         1.        ]\n",
      " [1.         0.         0.        ]]\n",
      "neighborpoint: [[ 71  81 127  63  38]\n",
      " [119  33  76  60  52]\n",
      " [ 79 132   1  13  27]\n",
      " [ 44 113 107  68  32]\n",
      " [122  87  99  97  68]\n",
      " [106  93  61  82 134]\n",
      " [ 46  30  86  70  34]\n",
      " [ 39 128 127  50  63]\n",
      " [116 104  80  51 121]\n",
      " [ 75  41  96  78 123]]\n"
     ]
    }
   ],
   "source": [
    "#預設參數：n_neighbors=5， p=2(歐氏距離)/(p=1:曼哈頓距離)\n",
    "knn = KNeighborsClassifier(p=2, n_neighbors=5, weights='distance') # k=5\n",
    "\n",
    "knn.fit(iris_x_train, iris_y_train)\n",
    "\n",
    "iris_y_predict = knn.predict(iris_x_test) # 預測,返回預測標籤,knn.predict(X)返回的是類別標籤\n",
    "probility=knn.predict_proba(iris_x_test) # 預測各類別的機率,返回各類別的機率,knn.predict_proba(X)返回的是各類別的機率\n",
    "#  knn.kneighbors(X, n_neighbors=5, return_distance=True)返回距離和索引\n",
    "#  1. return_distance=True返回距離和索引\n",
    "#  2. return_distance=False返回索引\n",
    "#  3. n_neighbors:鄰居數\n",
    "#  4. X:測試資料集\n",
    "#  5. kneighbors返回的是距離和索引\n",
    "\n",
    "\n",
    "neighborpoint=knn.kneighbors(iris_x_test,5,False)# 返回鄰居點的索引\n",
    "score=knn.score(iris_x_test,iris_y_test,sample_weight=None)\n",
    "\n",
    "print('iris_y_predict = ',iris_y_predict) # 預測標籤\n",
    "print('iris_y_test = ', iris_y_test) # 測試標籤\n",
    "print('score:',score)\n",
    "print('probility:',probility) # 各類別的機率\n",
    "print('neighborpoint:',neighborpoint) # 鄰居點的索引"
   ]
  },
  {
   "cell_type": "markdown",
   "metadata": {},
   "source": [
    "第2筆資料預測錯誤\n",
    "\n",
    "修改K值為1,11,第二筆資料還是錯誤,可能是原始測試資料分類就錯誤"
   ]
  },
  {
   "cell_type": "code",
   "execution_count": 10,
   "metadata": {
    "colab": {
     "base_uri": "https://localhost:8080/"
    },
    "executionInfo": {
     "elapsed": 488,
     "status": "ok",
     "timestamp": 1686661272924,
     "user": {
      "displayName": "ELSA",
      "userId": "12819283556995342183"
     },
     "user_tz": -480
    },
    "id": "p3_XjI1205KG",
    "outputId": "6e7c52b5-9999-4c81-cf9d-9588384ab85f"
   },
   "outputs": [
    {
     "name": "stdout",
     "output_type": "stream",
     "text": [
      "Accuracy: 0.9\n",
      "測試點最近的鄰居index: [[ 71  81 127  63  38]\n",
      " [119  33  76  60  52]\n",
      " [ 79 132   1  13  27]\n",
      " [ 44 113 107  68  32]\n",
      " [122  87  99  97  68]\n",
      " [106  93  61  82 134]\n",
      " [ 46  30  86  70  34]\n",
      " [ 39 128 127  50  63]\n",
      " [116 104  80  51 121]\n",
      " [ 75  41  96  78 123]]\n"
     ]
    }
   ],
   "source": [
    "print('Accuracy:', score)\n",
    "print('測試點最近的鄰居index:', neighborpoint)\n"
   ]
  },
  {
   "cell_type": "markdown",
   "metadata": {},
   "source": [
    "測試資料第二筆是錯誤\n",
    "\n",
    "使用下面程式列印出資料內容\n",
    "\n",
    "丟到KNN_iris.ipynb (使用sklearn模型)\n",
    "\n",
    "驗證測試結果-2025.10.10"
   ]
  },
  {
   "cell_type": "code",
   "execution_count": 11,
   "metadata": {
    "id": "0LC7N2MpwPSM"
   },
   "outputs": [
    {
     "name": "stdout",
     "output_type": "stream",
     "text": [
      "[5.9 3.2 4.8 1.8]\n",
      "[[6.  3.  4.8 1.8]\n",
      " [6.1 3.  4.9 1.8]\n",
      " [5.9 3.  5.1 1.8]\n",
      " [6.  3.4 4.5 1.6]\n",
      " [6.3 3.3 4.7 1.6]]\n",
      "[2 2 2 1 1]\n",
      "[2 1 0 2 0 2 0 1 1 1 2 1 1 1 1 0 1 1 0 0 2 1 0 0 2 0 0 1 1 0 2 1 0 2 2 1 0\n",
      " 1 1 1 2 0 2 0 0 1 2 2 2 2 1 2 1 1 2 2 2 2 1 2 1 0 2 1 1 1 1 2 0 0 2 1 0 0\n",
      " 1 0 2 1 0 1 2 1 0 2 2 2 2 0 0 2 2 0 2 0 2 2 0 0 2 0 0 0 1 2 2 0 0 0 1 1 0\n",
      " 0 1 0 2 1 2 1 0 2 0 2 0 0 2 0 2 1 1 1 2 2 1 1 0 1 2 2 0 1]\n"
     ]
    }
   ],
   "source": [
    "print(iris_x_test[1]) # 測試資料集的第二個樣本\n",
    "print(iris_x_train[neighborpoint[1]]) # 測試資料集的第二個樣本的鄰居點\n",
    "print(iris_y_train[neighborpoint[1]]) # 測試資料集的第二個樣本的鄰居點的標籤\n",
    "print(iris_y_train) # 訓練資料集的標籤"
   ]
  }
 ],
 "metadata": {
  "colab": {
   "provenance": []
  },
  "kernelspec": {
   "display_name": "Python 3",
   "language": "python",
   "name": "python3"
  },
  "language_info": {
   "codemirror_mode": {
    "name": "ipython",
    "version": 3
   },
   "file_extension": ".py",
   "mimetype": "text/x-python",
   "name": "python",
   "nbconvert_exporter": "python",
   "pygments_lexer": "ipython3",
   "version": "3.12.10"
  }
 },
 "nbformat": 4,
 "nbformat_minor": 0
}
