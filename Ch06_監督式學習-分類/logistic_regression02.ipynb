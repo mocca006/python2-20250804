{
 "cells": [
  {
   "cell_type": "code",
   "execution_count": 1,
   "metadata": {},
   "outputs": [],
   "source": [
    "import joblib\n",
    "from sklearn.linear_model import LogisticRegression\n",
    "from sklearn.model_selection import train_test_split\n",
    "from sklearn.metrics import accuracy_score\n",
    "import numpy as np"
   ]
  },
  {
   "cell_type": "code",
   "execution_count": null,
   "metadata": {},
   "outputs": [],
   "source": [
    "# 20個申請人，包括年齡、年收入、已有的債務金額\n",
    "applicants = np.array([\n",
    "    [25, 50000, 10000],\n",
    "    [35, 60000, 8000],\n",
    "    [45, 70000, 12000],\n",
    "    [55, 80000, 10000],\n",
    "    [65, 60000, 9000],\n",
    "    [30, 40000, 12000],\n",
    "    [40, 70000, 8000],#6\n",
    "    [50, 60000, 10000],\n",
    "    [60, 80000, 8000],\n",
    "    [33, 50000, 11000],\n",
    "    [26, 55000, 15000],\n",
    "    [36, 65000, 7500],\n",
    "    [46, 75000, 13000],\n",
    "    [56, 85000, 10000],\n",
    "    [66, 65000, 8500],\n",
    "    [31, 45000, 11000],\n",
    "    [41, 75000, 8500],\n",
    "    [51, 65000, 9500],\n",
    "    [61, 85000, 8500],\n",
    "    [34, 55000, 12000]\n",
    "])\n",
    "\n",
    "# 對應的違約記錄, 1 表示違約, 0 表示未違約\n",
    "defaults = np.array([1,0,0,0,1,1,0,0,0,1,1,0,0,0,1,1,0,0,0,1])\n"
   ]
  },
  {
   "cell_type": "code",
   "execution_count": 3,
   "metadata": {},
   "outputs": [],
   "source": [
    "# 拆分資料集為訓練集和測試集\n",
    "X_train, X_test, y_train, y_test = train_test_split(applicants,\n",
    "                          defaults, test_size=0.3, random_state=15)\n"
   ]
  },
  {
   "cell_type": "code",
   "execution_count": 4,
   "metadata": {},
   "outputs": [
    {
     "name": "stdout",
     "output_type": "stream",
     "text": [
      "準確度 Accuracy : 1.0\n",
      "測試數據真實\n",
      "[1 1 0 1 1 0]\n",
      "測試數據預估\n",
      "[1 1 0 1 1 0]\n"
     ]
    }
   ],
   "source": [
    "# 建立邏輯迴歸模型\n",
    "model = LogisticRegression()#solver='liblinear',class_weight={1:2.5, 0:0.5}\n",
    "\n",
    "# 使用訓練集訓練模型\n",
    "model.fit(X_train, y_train)\n",
    "\n",
    "# 使用模型對測試集進行預測\n",
    "y_pred = model.predict(X_test)\n",
    "print(f\"準確度 Accuracy : {accuracy_score(y_test, y_pred)}\")\n",
    "print(f\"測試數據真實\\n{y_test}\")\n",
    "print(f\"測試數據預估\\n{y_pred}\")\n"
   ]
  },
  {
   "cell_type": "code",
   "execution_count": 5,
   "metadata": {},
   "outputs": [
    {
     "data": {
      "text/plain": [
       "['bank2.joblib']"
      ]
     },
     "execution_count": 5,
     "metadata": {},
     "output_type": "execute_result"
    }
   ],
   "source": [
    "\n",
    "joblib.dump(model, 'bank2.joblib')   # 儲存模型\n"
   ]
  },
  {
   "cell_type": "code",
   "execution_count": null,
   "metadata": {},
   "outputs": [],
   "source": []
  }
 ],
 "metadata": {
  "kernelspec": {
   "display_name": "mypy312",
   "language": "python",
   "name": "python3"
  },
  "language_info": {
   "codemirror_mode": {
    "name": "ipython",
    "version": 3
   },
   "file_extension": ".py",
   "mimetype": "text/x-python",
   "name": "python",
   "nbconvert_exporter": "python",
   "pygments_lexer": "ipython3",
   "version": "3.12.10"
  }
 },
 "nbformat": 4,
 "nbformat_minor": 2
}
