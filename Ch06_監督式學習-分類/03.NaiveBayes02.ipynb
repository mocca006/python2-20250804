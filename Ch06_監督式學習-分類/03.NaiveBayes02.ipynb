{
 "cells": [
  {
   "cell_type": "markdown",
   "metadata": {},
   "source": [
    "## 樸素貝氏分類"
   ]
  },
  {
   "cell_type": "code",
   "execution_count": null,
   "metadata": {
    "collapsed": false,
    "deletable": true,
    "editable": true
   },
   "outputs": [],
   "source": [
    "from sklearn.feature_extraction.text import CountVectorizer \n",
    "# sklearn.feature_extraction.text 提供文字特徵抽取工具\n",
    "\n",
    "from sklearn.naive_bayes import MultinomialNB\n",
    "# sklearn.naive_bayes 提供多項式樸素貝氏分類器"
   ]
  },
  {
   "cell_type": "code",
   "execution_count": null,
   "metadata": {},
   "outputs": [],
   "source": [
    "# 垃圾郵件資料集\n",
    "spam_emails = [\n",
    "    \"Get a free gift card now!\",\n",
    "    \"Limited time offer: Claim your prize!\",\n",
    "    \"You have won a free iPhone!\",\n",
    "]\n",
    "\n",
    "# 正常郵件資料集\n",
    "ham_emails = [\n",
    "    \"Meeting rescheduled for tomorrow\",\n",
    "    \"Can we discuss the report later?\",\n",
    "    \"Thank you for your prompt reply\",\n",
    "]\n",
    "\n",
    "# 建立資料集和對應的標籤, 1: 垃圾郵件, 0: 正常郵件\n",
    "emails = spam_emails + ham_emails # 合併垃圾郵件和正常郵件\n",
    "labels = [1] * len(spam_emails) + [0] * len(ham_emails) # 1: 垃圾郵件, 0: 正常郵件\n"
   ]
  },
  {
   "cell_type": "code",
   "execution_count": 9,
   "metadata": {},
   "outputs": [
    {
     "name": "stdout",
     "output_type": "stream",
     "text": [
      "[[0 1 0 0 0 1 1 1 0 0 0 0 0 1 0 0 0 0 0 0 0 0 0 0 0 0 0 0]\n",
      " [0 0 1 0 0 0 0 0 0 0 0 1 0 0 1 1 0 0 0 0 0 0 1 0 0 0 0 1]\n",
      " [0 0 0 0 0 1 0 0 1 1 0 0 0 0 0 0 0 0 0 0 0 0 0 0 0 1 1 0]\n",
      " [0 0 0 0 1 0 0 0 0 0 0 0 1 0 0 0 0 0 0 1 0 0 0 1 0 0 0 0]\n",
      " [1 0 0 1 0 0 0 0 0 0 1 0 0 0 0 0 0 0 1 0 0 1 0 0 1 0 0 0]\n",
      " [0 0 0 0 1 0 0 0 0 0 0 0 0 0 0 0 1 1 0 0 1 0 0 0 0 0 1 1]]\n",
      "----------------------------------------------------------------------\n",
      "[1, 1, 1, 0, 0, 0]\n",
      "++++++++++++++++++++++++++++++++++++++++++++++++++++++++++++++++++++++\n",
      "['can' 'card' 'claim' 'discuss' 'for' 'free' 'get' 'gift' 'have' 'iphone'\n",
      " 'later' 'limited' 'meeting' 'now' 'offer' 'prize' 'prompt' 'reply'\n",
      " 'report' 'rescheduled' 'thank' 'the' 'time' 'tomorrow' 'we' 'won' 'you'\n",
      " 'your']\n",
      "**********************************************************************\n",
      "<Compressed Sparse Row sparse matrix of dtype 'int64'\n",
      "\twith 32 stored elements and shape (6, 28)>\n",
      "  Coords\tValues\n",
      "  (0, 6)\t1\n",
      "  (0, 5)\t1\n",
      "  (0, 7)\t1\n",
      "  (0, 1)\t1\n",
      "  (0, 13)\t1\n",
      "  (1, 11)\t1\n",
      "  (1, 22)\t1\n",
      "  (1, 14)\t1\n",
      "  (1, 2)\t1\n",
      "  (1, 27)\t1\n",
      "  (1, 15)\t1\n",
      "  (2, 5)\t1\n",
      "  (2, 26)\t1\n",
      "  (2, 8)\t1\n",
      "  (2, 25)\t1\n",
      "  (2, 9)\t1\n",
      "  (3, 12)\t1\n",
      "  (3, 19)\t1\n",
      "  (3, 4)\t1\n",
      "  (3, 23)\t1\n",
      "  (4, 0)\t1\n",
      "  (4, 24)\t1\n",
      "  (4, 3)\t1\n",
      "  (4, 21)\t1\n",
      "  (4, 18)\t1\n",
      "  (4, 10)\t1\n",
      "  (5, 27)\t1\n",
      "  (5, 26)\t1\n",
      "  (5, 4)\t1\n",
      "  (5, 20)\t1\n",
      "  (5, 16)\t1\n",
      "  (5, 17)\t1\n",
      "----------------------------------------------------------------------\n",
      "[1 1 1 0 0 0]\n"
     ]
    }
   ],
   "source": [
    "# 使用CountVectorizer來轉換郵件內容為數字矩陣\n",
    "vectorizer = CountVectorizer()\n",
    "features = vectorizer.fit_transform(emails)\n",
    "# print(features)\n",
    "\n",
    "# 使用Multinomial Naive Bayes模型來訓練\n",
    "classifier = MultinomialNB()\n",
    "classifier.fit(features, labels) # 訓練模型, features: 特徵矩陣, labels: 標籤\n",
    "\n",
    "print(features.toarray()) # 轉換後的數字矩陣\n",
    "print('-'*70)\n",
    "print(labels) # 標籤\n",
    "print('+'*70)\n",
    "print(vectorizer.get_feature_names_out()) # 特徵名稱\n",
    "print('*'*70)\n",
    "print(features) # 特徵矩陣\n",
    "print('-'*70)\n",
    "print(classifier.predict(features)) # 預測結果"
   ]
  },
  {
   "cell_type": "code",
   "execution_count": null,
   "metadata": {},
   "outputs": [
    {
     "name": "stdout",
     "output_type": "stream",
     "text": [
      "測試分類器與結果\n",
      "郵件: 'Claim your free gift now' 分類結果 : 垃圾郵件\n"
     ]
    }
   ],
   "source": [
    "\n",
    "# 測試分類器\n",
    "print(\"測試分類器與結果\")\n",
    "test_email = [\"Claim your free gift now\"] # 測試郵件,隨便輸入一段標題\n",
    "test_features = vectorizer.transform(test_email)\n",
    "print(f\"郵件: '{test_email[0]}' 分類結果 : \\\n",
    "{'垃圾郵件' if classifier.predict(test_features)[0] else '非垃圾郵件'}\") \n",
    "# test_email[0] 表示郵件內容, classifier.predict(test_features)[0] 表示預測結果\n",
    "# '垃圾郵件' if 條件 else '非垃圾郵件' 三元運算子\n",
    "# [0] 取出陣列中的第一個元素\n"
   ]
  },
  {
   "cell_type": "code",
   "execution_count": 5,
   "metadata": {},
   "outputs": [
    {
     "name": "stdout",
     "output_type": "stream",
     "text": [
      "郵件: 'Can we discuss your decision tomorrow' 分類結果 : 非垃圾郵件\n"
     ]
    }
   ],
   "source": [
    "\n",
    "test_email = [\"Can we discuss your decision tomorrow\"]\n",
    "test_features = vectorizer.transform(test_email)\n",
    "print(f\"郵件: '{test_email[0]}' 分類結果 : \\\n",
    "{'垃圾郵件' if classifier.predict(test_features)[0] else '非垃圾郵件'}\")\n",
    "\n"
   ]
  }
 ],
 "metadata": {
  "kernelspec": {
   "display_name": "Python 3",
   "language": "python",
   "name": "python3"
  },
  "language_info": {
   "codemirror_mode": {
    "name": "ipython",
    "version": 3
   },
   "file_extension": ".py",
   "mimetype": "text/x-python",
   "name": "python",
   "nbconvert_exporter": "python",
   "pygments_lexer": "ipython3",
   "version": "3.12.10"
  }
 },
 "nbformat": 4,
 "nbformat_minor": 2
}
