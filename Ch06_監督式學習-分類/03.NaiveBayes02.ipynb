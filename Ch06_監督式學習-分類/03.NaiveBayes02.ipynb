{
 "cells": [
  {
   "cell_type": "markdown",
   "metadata": {},
   "source": [
    "## 樸素貝氏分類"
   ]
  },
  {
   "cell_type": "code",
   "execution_count": null,
   "metadata": {
    "collapsed": false,
    "deletable": true,
    "editable": true
   },
   "outputs": [],
   "source": [
    "from sklearn.feature_extraction.text import CountVectorizer \n",
    "# sklearn.feature_extraction.text 提供文字特徵抽取工具\n",
    "\n",
    "from sklearn.naive_bayes import MultinomialNB\n",
    "# sklearn.naive_bayes 提供多項式樸素貝氏分類器"
   ]
  },
  {
   "cell_type": "code",
   "execution_count": null,
   "metadata": {},
   "outputs": [],
   "source": [
    "# 垃圾郵件資料集\n",
    "spam_emails = [\n",
    "    \"Get a free gift card now!\",\n",
    "    \"Limited time offer: Claim your prize!\",\n",
    "    \"You have won a free iPhone!\",\n",
    "]\n",
    "\n",
    "# 正常郵件資料集\n",
    "ham_emails = [\n",
    "    \"Meeting rescheduled for tomorrow\",\n",
    "    \"Can we discuss the report later?\",\n",
    "    \"Thank you for your prompt reply\",\n",
    "]\n",
    "\n",
    "# 建立資料集和對應的標籤, 1: 垃圾郵件, 0: 正常郵件\n",
    "emails = spam_emails + ham_emails # 合併垃圾郵件和正常郵件\n",
    "labels = [1] * len(spam_emails) + [0] * len(ham_emails) # 1: 垃圾郵件, 0: 正常郵件\n"
   ]
  },
  {
   "cell_type": "code",
   "execution_count": null,
   "metadata": {},
   "outputs": [
    {
     "name": "stdout",
     "output_type": "stream",
     "text": [
      "[[0 1 0 0 0 1 1 1 0 0 0 0 0 1 0 0 0 0 0 0 0 0 0 0 0 0 0 0]\n",
      " [0 0 1 0 0 0 0 0 0 0 0 1 0 0 1 1 0 0 0 0 0 0 1 0 0 0 0 1]\n",
      " [0 0 0 0 0 1 0 0 1 1 0 0 0 0 0 0 0 0 0 0 0 0 0 0 0 1 1 0]\n",
      " [0 0 0 0 1 0 0 0 0 0 0 0 1 0 0 0 0 0 0 1 0 0 0 1 0 0 0 0]\n",
      " [1 0 0 1 0 0 0 0 0 0 1 0 0 0 0 0 0 0 1 0 0 1 0 0 1 0 0 0]\n",
      " [0 0 0 0 1 0 0 0 0 0 0 0 0 0 0 0 1 1 0 0 1 0 0 0 0 0 1 1]]\n"
     ]
    }
   ],
   "source": [
    "# 使用CountVectorizer來轉換郵件內容為數字矩陣\n",
    "vectorizer = CountVectorizer()\n",
    "features = vectorizer.fit_transform(emails)\n",
    "# print(features)\n",
    "\n",
    "# 使用Multinomial Naive Bayes模型來訓練\n",
    "classifier = MultinomialNB()\n",
    "classifier.fit(features, labels)\n",
    "\n",
    "print(features.toarray()) # 轉換後的數字矩陣\n",
    "# print(classifier.predict(features)) # 預測結果"
   ]
  },
  {
   "cell_type": "code",
   "execution_count": 4,
   "metadata": {},
   "outputs": [
    {
     "name": "stdout",
     "output_type": "stream",
     "text": [
      "測試分類器與結果\n",
      "郵件: 'Claim your free gift now' 分類結果 : 垃圾郵件\n"
     ]
    }
   ],
   "source": [
    "\n",
    "# 測試分類器\n",
    "print(\"測試分類器與結果\")\n",
    "test_email = [\"Claim your free gift now\"]\n",
    "test_features = vectorizer.transform(test_email)\n",
    "print(f\"郵件: '{test_email[0]}' 分類結果 : \\\n",
    "{'垃圾郵件' if classifier.predict(test_features)[0] else '非垃圾郵件'}\")\n"
   ]
  },
  {
   "cell_type": "code",
   "execution_count": 5,
   "metadata": {},
   "outputs": [
    {
     "name": "stdout",
     "output_type": "stream",
     "text": [
      "郵件: 'Can we discuss your decision tomorrow' 分類結果 : 非垃圾郵件\n"
     ]
    }
   ],
   "source": [
    "\n",
    "test_email = [\"Can we discuss your decision tomorrow\"]\n",
    "test_features = vectorizer.transform(test_email)\n",
    "print(f\"郵件: '{test_email[0]}' 分類結果 : \\\n",
    "{'垃圾郵件' if classifier.predict(test_features)[0] else '非垃圾郵件'}\")\n",
    "\n"
   ]
  }
 ],
 "metadata": {
  "kernelspec": {
   "display_name": "Python 3",
   "language": "python",
   "name": "python3"
  },
  "language_info": {
   "codemirror_mode": {
    "name": "ipython",
    "version": 3
   },
   "file_extension": ".py",
   "mimetype": "text/x-python",
   "name": "python",
   "nbconvert_exporter": "python",
   "pygments_lexer": "ipython3",
   "version": "3.12.10"
  }
 },
 "nbformat": 4,
 "nbformat_minor": 2
}
