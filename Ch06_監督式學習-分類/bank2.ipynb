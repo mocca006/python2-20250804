{
 "cells": [
  {
   "cell_type": "markdown",
   "id": "1c3061f2",
   "metadata": {},
   "source": [
    "接續: logistic_regression02.ipynb"
   ]
  },
  {
   "cell_type": "code",
   "execution_count": null,
   "id": "cff23d95",
   "metadata": {},
   "outputs": [
    {
     "ename": "",
     "evalue": "",
     "output_type": "error",
     "traceback": [
      "\u001b[1;31m無法啟動 Kernel 'Python 3.12.10'，因為等候連接埠的使用逾時。\n",
      "\u001b[1;31m如需進一步詳細資料，請檢視 Jupyter <a href='command:jupyter.viewOutput'>記錄</a>。"
     ]
    }
   ],
   "source": [
    "import joblib\n",
    "\n",
    "model = joblib.load('bank2.joblib')"
   ]
  },
  {
   "cell_type": "code",
   "execution_count": null,
   "id": "833d594a",
   "metadata": {},
   "outputs": [
    {
     "name": "stdout",
     "output_type": "stream",
     "text": [
      "準確度 Accuracy : 1.0\n",
      "測試數據真實\n",
      " 0\n",
      "測試數據預估\n",
      "[0]\n"
     ]
    }
   ],
   "source": [
    "from sklearn.metrics import accuracy_score\n",
    "\n",
    "y_pred = model.predict([[40, 70000, 8000]])\n",
    "# print(f\"準確度 Accuracy : {accuracy_score([0], y_pred)}\")\n",
    "print(f\"測試數據真實\\n 0\")\n",
    "print(f\"測試數據預估\\n{y_pred}\")"
   ]
  }
 ],
 "metadata": {
  "kernelspec": {
   "display_name": "Python 3",
   "language": "python",
   "name": "python3"
  },
  "language_info": {
   "codemirror_mode": {
    "name": "ipython",
    "version": 3
   },
   "file_extension": ".py",
   "mimetype": "text/x-python",
   "name": "python",
   "nbconvert_exporter": "python",
   "pygments_lexer": "ipython3",
   "version": "3.12.10"
  }
 },
 "nbformat": 4,
 "nbformat_minor": 5
}
