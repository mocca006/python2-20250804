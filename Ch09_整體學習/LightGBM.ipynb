{
 "cells": [
  {
   "cell_type": "raw",
   "id": "3cb20730",
   "metadata": {},
   "source": [
    "常見參數\n",
    "num_leaves：控制樹的複雜度（越大越精確，但可能過擬合）\n",
    "max_depth：限制樹的深度，防止過擬合\n",
    "learning_rate：每次迭代的步長\n",
    "n_estimators：樹的數量\n",
    "feature_fraction：每次建樹時隨機選取的特徵比例\n",
    "bagging_fraction、bagging_freq：控制樣本隨機抽樣（類似 Bagging）\n",
    "lambda_l1、lambda_l2：L1、L2 正則化"
   ]
  },
  {
   "cell_type": "code",
   "execution_count": null,
   "id": "2c562006",
   "metadata": {},
   "outputs": [],
   "source": [
    "import lightgbm as lgb\n",
    "from sklearn.datasets import load_breast_cancer\n",
    "from sklearn.model_selection import train_test_split\n",
    "from sklearn.metrics import accuracy_score\n"
   ]
  },
  {
   "cell_type": "code",
   "execution_count": null,
   "id": "d6f2cc5c",
   "metadata": {},
   "outputs": [],
   "source": [
    "# 1. 載入資料\n",
    "X, y = load_breast_cancer(return_X_y=True)\n",
    "X_train, X_test, y_train, y_test = train_test_split(X, y, test_size=0.2, random_state=42)\n",
    "\n",
    "# 2. 建立模型\n",
    "clf = lgb.LGBMClassifier(\n",
    "    num_leaves=31,\n",
    "    max_depth=-1,\n",
    "    learning_rate=0.05,\n",
    "    n_estimators=100,\n",
    "    random_state=42\n",
    ")\n",
    "\n",
    "# 3. 訓練\n",
    "clf.fit(X_train, y_train)\n",
    "\n",
    "# 4. 預測與評估\n",
    "y_pred = clf.predict(X_test)\n",
    "print(\"Accuracy:\", accuracy_score(y_test, y_pred))\n"
   ]
  }
 ],
 "metadata": {
  "language_info": {
   "name": "python"
  }
 },
 "nbformat": 4,
 "nbformat_minor": 5
}
