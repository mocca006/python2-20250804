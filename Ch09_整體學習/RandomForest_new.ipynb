{
 "cells": [
  {
   "cell_type": "code",
   "execution_count": 1,
   "metadata": {},
   "outputs": [],
   "source": [
    "from sklearn.model_selection import cross_val_score\n",
    "from sklearn.datasets import make_blobs\n",
    "from sklearn.ensemble import RandomForestClassifier\n",
    "from sklearn.ensemble import ExtraTreesClassifier\n",
    "from sklearn.tree import DecisionTreeClassifier"
   ]
  },
  {
   "cell_type": "code",
   "execution_count": 2,
   "metadata": {},
   "outputs": [
    {
     "name": "stdout",
     "output_type": "stream",
     "text": [
      "DecisionTree準確率= 0.9823000000000001\n",
      "RandomForest準確率= 0.9997\n"
     ]
    }
   ],
   "source": [
    "X, y = make_blobs(n_samples=10000, n_features=10, centers=100,\n",
    "    random_state=0) # 產生測試資料, \n",
    "\n",
    "clf = DecisionTreeClassifier(max_depth=None, min_samples_split=2,random_state=0)\n",
    "scores = cross_val_score(clf, X, y)#cv=5\n",
    "print('DecisionTree準確率=', scores.mean())                             \n",
    "\n",
    "# n_estimators: 要產生幾棵樹\n",
    "clf = RandomForestClassifier(n_estimators=10, max_depth=None,\n",
    "    min_samples_split=2, random_state=0)\n",
    "scores = cross_val_score(clf, X, y)\n",
    "print('RandomForest準確率=', scores.mean())                             \n"
   ]
  },
  {
   "cell_type": "markdown",
   "metadata": {},
   "source": [
    "#### ExtraTreesClassifier極限隨機樹分類\n",
    "1. Random Forest中訓練每個Decision Tree的時候，訓練資料是隨機挑選且資料可重複的，而Extra Tree訓練每個Decision Tree的時候，訓練資料和原始資料相同。\n",
    "\n",
    "2. Random Forest中的Decision Tree在找最適當的切割線的時候，是從當前的Node底下找出一個impurity值最低的解，而Extra Tree中的Decision Tree在找最適當的切割線的時候，是隨機產生K個切割線然後從K條線中選出一個impurity值最低的解。\n",
    "\n",
    "決策樹是先評估再決定切點\n",
    "\n",
    "ExtraTrees是隨機挑5組切點再評估,速度比較快"
   ]
  },
  {
   "cell_type": "code",
   "execution_count": null,
   "metadata": {},
   "outputs": [
    {
     "name": "stdout",
     "output_type": "stream",
     "text": [
      "ExtraTrees準確率= 1.0\n"
     ]
    }
   ],
   "source": [
    "#ExtraTreesClassifier極限隨機樹分類\n",
    "clf = ExtraTreesClassifier(n_estimators=10, max_depth=None,\n",
    "    min_samples_split=2, random_state=0) \n",
    "# n_estimators: 要產生幾棵樹, max_depth: 樹的最大深度, min_samples_split: 內部節點再切分所需的最少樣本數, random_state: 隨機數種子\n",
    "scores = cross_val_score(clf, X, y) # cv=5\n",
    "print('ExtraTrees準確率=', scores.mean()) # > 0.999"
   ]
  },
  {
   "cell_type": "code",
   "execution_count": null,
   "metadata": {},
   "outputs": [],
   "source": []
  }
 ],
 "metadata": {
  "kernelspec": {
   "display_name": "Python 3",
   "language": "python",
   "name": "python3"
  },
  "language_info": {
   "codemirror_mode": {
    "name": "ipython",
    "version": 3
   },
   "file_extension": ".py",
   "mimetype": "text/x-python",
   "name": "python",
   "nbconvert_exporter": "python",
   "pygments_lexer": "ipython3",
   "version": "3.12.10"
  }
 },
 "nbformat": 4,
 "nbformat_minor": 2
}
