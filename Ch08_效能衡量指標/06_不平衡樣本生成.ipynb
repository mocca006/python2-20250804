{
 "cells": [
  {
   "attachments": {},
   "cell_type": "markdown",
   "metadata": {},
   "source": [
    "\n",
    "# 不平衡樣本測試及評估"
   ]
  },
  {
   "cell_type": "markdown",
   "metadata": {},
   "source": [
    "https://imbalanced-learn.org/stable/references/generated/imblearn.combine.SMOTEENN.html"
   ]
  },
  {
   "cell_type": "code",
   "execution_count": 2,
   "metadata": {},
   "outputs": [
    {
     "name": "stdout",
     "output_type": "stream",
     "text": [
      "Requirement already satisfied: imbalanced-learn in c:\\users\\monic\\appdata\\local\\programs\\python\\python312\\lib\\site-packages (0.14.0)\n",
      "Requirement already satisfied: numpy<3,>=1.25.2 in c:\\users\\monic\\appdata\\local\\programs\\python\\python312\\lib\\site-packages (from imbalanced-learn) (2.3.2)\n",
      "Requirement already satisfied: scipy<2,>=1.11.4 in c:\\users\\monic\\appdata\\local\\programs\\python\\python312\\lib\\site-packages (from imbalanced-learn) (1.16.1)\n",
      "Requirement already satisfied: scikit-learn<2,>=1.4.2 in c:\\users\\monic\\appdata\\local\\programs\\python\\python312\\lib\\site-packages (from imbalanced-learn) (1.7.1)\n",
      "Requirement already satisfied: joblib<2,>=1.2.0 in c:\\users\\monic\\appdata\\local\\programs\\python\\python312\\lib\\site-packages (from imbalanced-learn) (1.5.1)\n",
      "Requirement already satisfied: threadpoolctl<4,>=2.0.0 in c:\\users\\monic\\appdata\\local\\programs\\python\\python312\\lib\\site-packages (from imbalanced-learn) (3.6.0)\n",
      "Note: you may need to restart the kernel to use updated packages.\n"
     ]
    }
   ],
   "source": [
    "# !pip install -U imbalanced-learn\n",
    "# 20250922 執行過了\n",
    "%pip install -U imbalanced-learn"
   ]
  },
  {
   "cell_type": "code",
   "execution_count": 3,
   "metadata": {},
   "outputs": [],
   "source": [
    "from sklearn import datasets\n",
    "from sklearn.svm import LinearSVC\n",
    "from sklearn.model_selection import train_test_split\n",
    "#from imblearn import pipeline as pl\n"
   ]
  },
  {
   "cell_type": "code",
   "execution_count": 4,
   "metadata": {},
   "outputs": [],
   "source": [
    "# 生成不平衡樣本\n",
    "RANDOM_STATE = 42\n",
    "X, y = datasets.make_classification(n_classes=2, class_sep=2,\n",
    "                                    weights=[0.1, 0.9], n_informative=10,\n",
    "                                    n_redundant=1, flip_y=0, n_features=20,\n",
    "                                    n_clusters_per_class=4, n_samples=5000,\n",
    "                                    random_state=RANDOM_STATE) \n",
    "# n_classes=2 代表二分類;class_sep=2 代表類別分離度;weights=[0.1, 0.9] 代表類別不平衡比例; n_informative=10 代表有用特徵數量; n_redundant=1 代表冗餘特徵數量; \n",
    "# flip_y=0 代表標籤不會被隨機翻轉; n_features=20 代表總特徵數量; n_clusters_per_class=4 代表每個類別的群集數量; n_samples=5000 代表樣本數量; \n",
    "# random_state=RANDOM_STATE 代表隨機種子  \n",
    "# X 為特徵矩陣, y 為標籤向量\n",
    "# X.shape  # (5000, 20)\n",
    "# y.shape  # (5000,)\n",
    "# X_train, X_test, y_train, y_test = train_test_split(X, y, test_size=0.3, random_state=RANDOM_STATE) # 切分訓練集與測試集,測試集佔30% "
   ]
  },
  {
   "cell_type": "code",
   "execution_count": 5,
   "metadata": {},
   "outputs": [
    {
     "name": "stdout",
     "output_type": "stream",
     "text": [
      "[ 500 4500]\n"
     ]
    }
   ],
   "source": [
    "import numpy as np\n",
    "print(np.bincount(y)) # 類別0有500個樣本,類別1有4500個樣本"
   ]
  },
  {
   "cell_type": "code",
   "execution_count": 6,
   "metadata": {},
   "outputs": [
    {
     "name": "stdout",
     "output_type": "stream",
     "text": [
      "[0 0 0 ... 1 1 1]\n",
      "[4500 4373]\n"
     ]
    }
   ],
   "source": [
    "from imblearn.combine import SMOTEENN # 先做過取樣再做欠取樣\n",
    "\n",
    "sm = SMOTEENN()\n",
    "newX, newY = sm.fit_resample(X, y) # 重新取樣\n",
    "print(newY)\n",
    "print(np.bincount(newY)) # 類別0有4500個樣本,類別1有4375個樣本"
   ]
  },
  {
   "cell_type": "code",
   "execution_count": 7,
   "metadata": {},
   "outputs": [
    {
     "name": "stdout",
     "output_type": "stream",
     "text": [
      "[1 0 1 ... 0 0 0]\n",
      "[4500 4500]\n"
     ]
    }
   ],
   "source": [
    "from imblearn.over_sampling import SMOTE # 只做過取樣\n",
    "\n",
    "sm2 = SMOTE() # \n",
    "newX2, newY2 = sm2.fit_resample(X, y) # \n",
    "print(newY2)\n",
    "print(np.bincount(newY2))"
   ]
  },
  {
   "cell_type": "code",
   "execution_count": 8,
   "metadata": {},
   "outputs": [
    {
     "name": "stdout",
     "output_type": "stream",
     "text": [
      "0.9488\n"
     ]
    }
   ],
   "source": [
    "# 採用 SVM + 原始資料\n",
    "#pipeline = pl.make_pipeline(LinearSVC(random_state=RANDOM_STATE))\n",
    "svc = LinearSVC(random_state=RANDOM_STATE) # \n",
    "\n",
    "# 資料切割\n",
    "X_train, X_test, y_train, y_test = train_test_split(X, y,\n",
    "                                                    random_state=RANDOM_STATE)\n",
    "\n",
    "# 訓練\n",
    "svc.fit(X_train, y_train) # \n",
    "\n",
    "# 評估\n",
    "y_pred_bal = svc.predict(X_test) # \n",
    "print(svc.score(X_test, y_test)) # X_test 測試資料, y_test 預測資料"
   ]
  },
  {
   "cell_type": "code",
   "execution_count": 9,
   "metadata": {},
   "outputs": [
    {
     "name": "stdout",
     "output_type": "stream",
     "text": [
      "0.9\n"
     ]
    }
   ],
   "source": [
    "# 採用 SVM-2 + SMOTE\n",
    "svc2 = LinearSVC(random_state=RANDOM_STATE)\n",
    "\n",
    "# 資料切割\n",
    "X_train2, X_test2, y_train2, y_test2 = train_test_split(newX2, newY2,\n",
    "                                                    random_state=RANDOM_STATE) # 上面SMOTE是newX2,newY2\n",
    "\n",
    "# 訓練\n",
    "svc2.fit(X_train2, y_train2)\n",
    "\n",
    "# 評估\n",
    "y_pred_bal2 = svc2.predict(X_test2)\n",
    "print(svc2.score(X_test2, y_test2))"
   ]
  },
  {
   "cell_type": "code",
   "execution_count": 10,
   "metadata": {},
   "outputs": [
    {
     "name": "stdout",
     "output_type": "stream",
     "text": [
      "0.9094186570527264\n"
     ]
    }
   ],
   "source": [
    "# 採用 SVM-3 + SMOTEENN\n",
    "svc3 = LinearSVC(random_state=RANDOM_STATE)\n",
    "\n",
    "# 資料切割\n",
    "X_train3, X_test3, y_train3, y_test3 = train_test_split(newX, newY,\n",
    "                                                    random_state=RANDOM_STATE) # 上面SMOTEENN是newX,newY\n",
    "\n",
    "# 訓練\n",
    "svc3.fit(X_train3, y_train3)\n",
    "\n",
    "# 評估\n",
    "y_pred_bal3 = svc3.predict(X_test3) # y_pred_bal3 預測資料;svc3.predict(X_test3) 預測測試資料\n",
    "print(svc3.score(X_test3, y_test3))"
   ]
  },
  {
   "cell_type": "code",
   "execution_count": 11,
   "metadata": {},
   "outputs": [
    {
     "name": "stdout",
     "output_type": "stream",
     "text": [
      "              precision    recall  f1-score   support\n",
      "\n",
      "           0       0.82      0.61      0.70       123\n",
      "           1       0.96      0.99      0.97      1127\n",
      "\n",
      "    accuracy                           0.95      1250\n",
      "   macro avg       0.89      0.80      0.84      1250\n",
      "weighted avg       0.95      0.95      0.95      1250\n",
      "\n"
     ]
    }
   ],
   "source": [
    "from sklearn.metrics import classification_report\n",
    "\n",
    "print(classification_report(y_test, y_pred_bal))"
   ]
  },
  {
   "cell_type": "code",
   "execution_count": 12,
   "metadata": {},
   "outputs": [
    {
     "name": "stdout",
     "output_type": "stream",
     "text": [
      "              precision    recall  f1-score   support\n",
      "\n",
      "           0       0.90      0.90      0.90      1140\n",
      "           1       0.90      0.90      0.90      1110\n",
      "\n",
      "    accuracy                           0.90      2250\n",
      "   macro avg       0.90      0.90      0.90      2250\n",
      "weighted avg       0.90      0.90      0.90      2250\n",
      "\n"
     ]
    }
   ],
   "source": [
    "\n",
    "print(classification_report(y_test2, y_pred_bal2))"
   ]
  },
  {
   "cell_type": "code",
   "execution_count": 13,
   "metadata": {},
   "outputs": [
    {
     "name": "stdout",
     "output_type": "stream",
     "text": [
      "              precision    recall  f1-score   support\n",
      "\n",
      "           0       0.91      0.92      0.91      1123\n",
      "           1       0.91      0.90      0.91      1096\n",
      "\n",
      "    accuracy                           0.91      2219\n",
      "   macro avg       0.91      0.91      0.91      2219\n",
      "weighted avg       0.91      0.91      0.91      2219\n",
      "\n"
     ]
    }
   ],
   "source": [
    "print(classification_report(y_test3, y_pred_bal3))"
   ]
  },
  {
   "attachments": {},
   "cell_type": "markdown",
   "metadata": {},
   "source": [
    "## imbalanced-learn分類報表"
   ]
  },
  {
   "cell_type": "code",
   "execution_count": 14,
   "metadata": {},
   "outputs": [
    {
     "name": "stdout",
     "output_type": "stream",
     "text": [
      "Requirement already satisfied: threadpoolctl in c:\\users\\monic\\appdata\\local\\programs\\python\\python312\\lib\\site-packages (3.6.0)\n",
      "Note: you may need to restart the kernel to use updated packages.\n"
     ]
    }
   ],
   "source": [
    "# 如發生錯誤：AttributeError: 'NoneType' object has no attribute 'split'\n",
    "%pip install -U threadpoolctl\n",
    "# Kernel restart"
   ]
  },
  {
   "cell_type": "code",
   "execution_count": 15,
   "metadata": {},
   "outputs": [
    {
     "data": {
      "text/plain": [
       "((9000, 20), (9000,))"
      ]
     },
     "execution_count": 15,
     "metadata": {},
     "output_type": "execute_result"
    }
   ],
   "source": [
    "from sklearn import datasets\n",
    "from sklearn.svm import LinearSVC\n",
    "from sklearn.model_selection import train_test_split\n",
    "\n",
    "from imblearn.over_sampling import SMOTE\n",
    "from imblearn import pipeline as pl\n",
    "from imblearn.metrics import classification_report_imbalanced\n",
    "\n",
    "# SMOTE\n",
    "X_res, y_res = SMOTE().fit_resample(X, y)\n",
    "\n",
    "X_res.shape, y_res.shape"
   ]
  },
  {
   "cell_type": "code",
   "execution_count": 16,
   "metadata": {
    "scrolled": true
   },
   "outputs": [
    {
     "ename": "NameError",
     "evalue": "name 'pipeline' is not defined",
     "output_type": "error",
     "traceback": [
      "\u001b[31m---------------------------------------------------------------------------\u001b[39m",
      "\u001b[31mNameError\u001b[39m                                 Traceback (most recent call last)",
      "\u001b[36mCell\u001b[39m\u001b[36m \u001b[39m\u001b[32mIn[16]\u001b[39m\u001b[32m, line 6\u001b[39m\n\u001b[32m      2\u001b[39m X_train, X_test, y_train, y_test = train_test_split(X, y,\n\u001b[32m      3\u001b[39m                                                     random_state=RANDOM_STATE)\n\u001b[32m      5\u001b[39m \u001b[38;5;66;03m# 訓練\u001b[39;00m\n\u001b[32m----> \u001b[39m\u001b[32m6\u001b[39m \u001b[43mpipeline\u001b[49m.fit(X_train, y_train) \n\u001b[32m      8\u001b[39m \u001b[38;5;66;03m# 評估\u001b[39;00m\n\u001b[32m      9\u001b[39m y_pred_bal = pipeline.predict(X_test)\n",
      "\u001b[31mNameError\u001b[39m: name 'pipeline' is not defined"
     ]
    }
   ],
   "source": [
    "# 資料切割\n",
    "X_train, X_test, y_train, y_test = train_test_split(X, y,\n",
    "                                                    random_state=RANDOM_STATE)\n",
    "\n",
    "# 訓練\n",
    "pipeline.fit(X_train, y_train) \n",
    "\n",
    "# 評估\n",
    "y_pred_bal = pipeline.predict(X_test)\n",
    "\n",
    "# Show the classification report\n",
    "print(classification_report_imbalanced(y_test, y_pred_bal))"
   ]
  },
  {
   "cell_type": "code",
   "execution_count": null,
   "metadata": {},
   "outputs": [],
   "source": [
    "from sklearn.metrics import classification_report\n",
    "print(classification_report(y_test, y_pred_bal))"
   ]
  },
  {
   "cell_type": "code",
   "execution_count": null,
   "metadata": {},
   "outputs": [],
   "source": []
  }
 ],
 "metadata": {
  "kernelspec": {
   "display_name": "Python 3",
   "language": "python",
   "name": "python3"
  },
  "language_info": {
   "codemirror_mode": {
    "name": "ipython",
    "version": 3
   },
   "file_extension": ".py",
   "mimetype": "text/x-python",
   "name": "python",
   "nbconvert_exporter": "python",
   "pygments_lexer": "ipython3",
   "version": "3.12.10"
  }
 },
 "nbformat": 4,
 "nbformat_minor": 1
}
