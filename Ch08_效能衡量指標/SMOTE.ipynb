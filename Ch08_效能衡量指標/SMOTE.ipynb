{
 "cells": [
  {
   "cell_type": "code",
   "execution_count": 1,
   "metadata": {},
   "outputs": [
    {
     "name": "stdout",
     "output_type": "stream",
     "text": [
      "Requirement already satisfied: imbalanced-learn in c:\\users\\monic\\appdata\\local\\programs\\python\\python312\\lib\\site-packages (0.14.0)\n",
      "Requirement already satisfied: numpy<3,>=1.25.2 in c:\\users\\monic\\appdata\\local\\programs\\python\\python312\\lib\\site-packages (from imbalanced-learn) (2.3.2)\n",
      "Requirement already satisfied: scipy<2,>=1.11.4 in c:\\users\\monic\\appdata\\local\\programs\\python\\python312\\lib\\site-packages (from imbalanced-learn) (1.16.1)\n",
      "Requirement already satisfied: scikit-learn<2,>=1.4.2 in c:\\users\\monic\\appdata\\local\\programs\\python\\python312\\lib\\site-packages (from imbalanced-learn) (1.7.1)\n",
      "Requirement already satisfied: joblib<2,>=1.2.0 in c:\\users\\monic\\appdata\\local\\programs\\python\\python312\\lib\\site-packages (from imbalanced-learn) (1.5.1)\n",
      "Requirement already satisfied: threadpoolctl<4,>=2.0.0 in c:\\users\\monic\\appdata\\local\\programs\\python\\python312\\lib\\site-packages (from imbalanced-learn) (3.6.0)\n",
      "Note: you may need to restart the kernel to use updated packages.\n"
     ]
    }
   ],
   "source": [
    "#!pip install imblearn\n",
    "%pip install -U imbalanced-learn"
   ]
  },
  {
   "cell_type": "code",
   "execution_count": 1,
   "metadata": {},
   "outputs": [],
   "source": [
    "import matplotlib.pyplot as plt\n",
    "from sklearn.datasets import make_classification\n",
    "from sklearn.decomposition import PCA\n",
    "import numpy as np\n",
    "import pandas as pd\n",
    "from imblearn.combine import SMOTEENN"
   ]
  },
  {
   "cell_type": "code",
   "execution_count": 2,
   "metadata": {},
   "outputs": [],
   "source": [
    "X, y = make_classification(n_classes=2, weights=[0.1, 0.9], \n",
    "                           n_samples=100,random_state=10, \n",
    "                           n_features=20)"
   ]
  },
  {
   "cell_type": "code",
   "execution_count": 3,
   "metadata": {},
   "outputs": [
    {
     "data": {
      "text/plain": [
       "array([0, 1, 1, 1, 1, 1, 1, 1, 1, 1, 1, 1, 1, 1, 1, 0, 1, 1, 1, 1, 1, 1,\n",
       "       1, 1, 1, 1, 1, 1, 1, 1, 1, 1, 1, 1, 1, 1, 1, 1, 1, 1, 1, 1, 1, 1,\n",
       "       1, 1, 1, 0, 1, 0, 1, 1, 1, 1, 0, 1, 1, 1, 1, 1, 1, 1, 1, 1, 1, 1,\n",
       "       1, 1, 1, 1, 1, 1, 1, 1, 0, 1, 1, 0, 1, 1, 1, 1, 0, 1, 0, 0, 1, 1,\n",
       "       1, 1, 0, 1, 1, 1, 1, 0, 1, 1, 1, 1])"
      ]
     },
     "execution_count": 3,
     "metadata": {},
     "output_type": "execute_result"
    }
   ],
   "source": [
    "y"
   ]
  },
  {
   "cell_type": "code",
   "execution_count": null,
   "metadata": {},
   "outputs": [
    {
     "name": "stdout",
     "output_type": "stream",
     "text": [
      "[0 0 0 0 0 0 0 0 0 0 0 0 0 0 0 0 0 0 0 0 0 0 0 0 0 0 0 0 0 0 0 0 0 0 0 0 0\n",
      " 0 0 0 0 0 0 0 0 0 0 0 0 0 0 0 0 0 0 0 0 0 0 0 0 0 0 0 0 0 0 0 0 0 0 0 0 0\n",
      " 0 0 0 0 0 0 0 0 0 0 0 0 0 0 1 1 1 1 1 1 1 1 1 1 1 1 1 1 1 1 1 1 1 1 1 1 1\n",
      " 1 1 1 1 1 1 1 1 1 1 1 1 1 1 1 1 1]\n",
      "[88 40]\n"
     ]
    }
   ],
   "source": [
    "sm = SMOTEENN()\n",
    "newX, newY = sm.fit_resample(X, y)\n",
    "print(newY)\n",
    "print(np.bincount(newY))\n",
    "# SMOTEENN是過取樣+欠取樣,數量不一定是1比1"
   ]
  },
  {
   "cell_type": "code",
   "execution_count": 5,
   "metadata": {},
   "outputs": [
    {
     "name": "stdout",
     "output_type": "stream",
     "text": [
      "[0 1 1 1 1 1 1 1 1 1 1 1 1 1 1 0 1 1 1 1 1 1 1 1 1 1 1 1 1 1 1 1 1 1 1 1 1\n",
      " 1 1 1 1 1 1 1 1 1 1 0 1 0 1 1 1 1 0 1 1 1 1 1 1 1 1 1 1 1 1 1 1 1 1 1 1 1\n",
      " 0 1 1 0 1 1 1 1 0 1 0 0 1 1 1 1 0 1 1 1 1 0 1 1 1 1 0 0 0 0 0 0 0 0 0 0 0\n",
      " 0 0 0 0 0 0 0 0 0 0 0 0 0 0 0 0 0 0 0 0 0 0 0 0 0 0 0 0 0 0 0 0 0 0 0 0 0\n",
      " 0 0 0 0 0 0 0 0 0 0 0 0 0 0 0 0 0 0 0 0 0 0 0 0 0 0 0 0]\n",
      "[88 88]\n"
     ]
    }
   ],
   "source": [
    "from imblearn.over_sampling import SMOTE\n",
    "\n",
    "sm2 = SMOTE()\n",
    "newX2, newY2 = sm2.fit_resample(X, y)\n",
    "print(newY2)\n",
    "print(np.bincount(newY2))\n",
    "# SMOTE是過取樣,數量是1比1"
   ]
  },
  {
   "cell_type": "code",
   "execution_count": 6,
   "metadata": {},
   "outputs": [
    {
     "name": "stdout",
     "output_type": "stream",
     "text": [
      "[[-1.01767522 -2.39557201  0.5039269  ...  2.31912732 -0.86785291\n",
      "   0.98007413]\n",
      " [-1.16943493  0.73717898  0.70387872 ... -0.25355802  0.63099653\n",
      "  -0.33994862]\n",
      " [ 0.94777385 -0.56298605 -0.19748563 ...  0.78499888  0.22749993\n",
      "   0.72482979]\n",
      " ...\n",
      " [ 0.73551259  1.57684549  0.51134595 ... -0.12043775  0.98299809\n",
      "   1.13844168]\n",
      " [ 0.76658344 -0.43159384 -1.96620475 ... -0.31204979  0.70868297\n",
      "  -2.50366664]\n",
      " [-0.91402339 -0.18692131 -0.27707039 ... -1.13469532  0.9561419\n",
      "  -0.29465808]]\n"
     ]
    }
   ],
   "source": [
    "print(X)"
   ]
  },
  {
   "cell_type": "code",
   "execution_count": null,
   "metadata": {},
   "outputs": [
    {
     "name": "stdout",
     "output_type": "stream",
     "text": [
      "<class 'pandas.core.frame.DataFrame'>\n",
      "Index: 228 entries, 0 to 127\n",
      "Data columns (total 20 columns):\n",
      " #   Column  Non-Null Count  Dtype  \n",
      "---  ------  --------------  -----  \n",
      " 0   0       228 non-null    float64\n",
      " 1   1       228 non-null    float64\n",
      " 2   2       228 non-null    float64\n",
      " 3   3       228 non-null    float64\n",
      " 4   4       228 non-null    float64\n",
      " 5   5       228 non-null    float64\n",
      " 6   6       228 non-null    float64\n",
      " 7   7       228 non-null    float64\n",
      " 8   8       228 non-null    float64\n",
      " 9   9       228 non-null    float64\n",
      " 10  10      228 non-null    float64\n",
      " 11  11      228 non-null    float64\n",
      " 12  12      228 non-null    float64\n",
      " 13  13      228 non-null    float64\n",
      " 14  14      228 non-null    float64\n",
      " 15  15      228 non-null    float64\n",
      " 16  16      228 non-null    float64\n",
      " 17  17      228 non-null    float64\n",
      " 18  18      228 non-null    float64\n",
      " 19  19      228 non-null    float64\n",
      "dtypes: float64(20)\n",
      "memory usage: 37.4 KB\n",
      "None\n",
      "**************************************************\n",
      "<class 'pandas.core.frame.DataFrame'>\n",
      "RangeIndex: 100 entries, 0 to 99\n",
      "Data columns (total 20 columns):\n",
      " #   Column  Non-Null Count  Dtype  \n",
      "---  ------  --------------  -----  \n",
      " 0   0       100 non-null    float64\n",
      " 1   1       100 non-null    float64\n",
      " 2   2       100 non-null    float64\n",
      " 3   3       100 non-null    float64\n",
      " 4   4       100 non-null    float64\n",
      " 5   5       100 non-null    float64\n",
      " 6   6       100 non-null    float64\n",
      " 7   7       100 non-null    float64\n",
      " 8   8       100 non-null    float64\n",
      " 9   9       100 non-null    float64\n",
      " 10  10      100 non-null    float64\n",
      " 11  11      100 non-null    float64\n",
      " 12  12      100 non-null    float64\n",
      " 13  13      100 non-null    float64\n",
      " 14  14      100 non-null    float64\n",
      " 15  15      100 non-null    float64\n",
      " 16  16      100 non-null    float64\n",
      " 17  17      100 non-null    float64\n",
      " 18  18      100 non-null    float64\n",
      " 19  19      100 non-null    float64\n",
      "dtypes: float64(20)\n",
      "memory usage: 15.8 KB\n",
      "None\n",
      "**************************************************\n",
      "<class 'pandas.core.frame.DataFrame'>\n",
      "RangeIndex: 128 entries, 0 to 127\n",
      "Data columns (total 20 columns):\n",
      " #   Column  Non-Null Count  Dtype  \n",
      "---  ------  --------------  -----  \n",
      " 0   0       128 non-null    float64\n",
      " 1   1       128 non-null    float64\n",
      " 2   2       128 non-null    float64\n",
      " 3   3       128 non-null    float64\n",
      " 4   4       128 non-null    float64\n",
      " 5   5       128 non-null    float64\n",
      " 6   6       128 non-null    float64\n",
      " 7   7       128 non-null    float64\n",
      " 8   8       128 non-null    float64\n",
      " 9   9       128 non-null    float64\n",
      " 10  10      128 non-null    float64\n",
      " 11  11      128 non-null    float64\n",
      " 12  12      128 non-null    float64\n",
      " 13  13      128 non-null    float64\n",
      " 14  14      128 non-null    float64\n",
      " 15  15      128 non-null    float64\n",
      " 16  16      128 non-null    float64\n",
      " 17  17      128 non-null    float64\n",
      " 18  18      128 non-null    float64\n",
      " 19  19      128 non-null    float64\n",
      "dtypes: float64(20)\n",
      "memory usage: 20.1 KB\n",
      "None\n"
     ]
    }
   ],
   "source": [
    "df1 = pd.DataFrame(X)#原始的\n",
    "df2 = pd.DataFrame(newX)#SMOTTEN\n",
    "df = pd.concat([df1,df2]) #合併,縱向合併,merge是橫向合併;原始100筆+新增131筆;欄位特徵維持20筆\n",
    "print(df.info())\n"
   ]
  },
  {
   "cell_type": "code",
   "execution_count": 9,
   "metadata": {},
   "outputs": [
    {
     "name": "stdout",
     "output_type": "stream",
     "text": [
      "<class 'pandas.core.frame.DataFrame'>\n",
      "RangeIndex: 100 entries, 0 to 99\n",
      "Data columns (total 20 columns):\n",
      " #   Column  Non-Null Count  Dtype  \n",
      "---  ------  --------------  -----  \n",
      " 0   0       100 non-null    float64\n",
      " 1   1       100 non-null    float64\n",
      " 2   2       100 non-null    float64\n",
      " 3   3       100 non-null    float64\n",
      " 4   4       100 non-null    float64\n",
      " 5   5       100 non-null    float64\n",
      " 6   6       100 non-null    float64\n",
      " 7   7       100 non-null    float64\n",
      " 8   8       100 non-null    float64\n",
      " 9   9       100 non-null    float64\n",
      " 10  10      100 non-null    float64\n",
      " 11  11      100 non-null    float64\n",
      " 12  12      100 non-null    float64\n",
      " 13  13      100 non-null    float64\n",
      " 14  14      100 non-null    float64\n",
      " 15  15      100 non-null    float64\n",
      " 16  16      100 non-null    float64\n",
      " 17  17      100 non-null    float64\n",
      " 18  18      100 non-null    float64\n",
      " 19  19      100 non-null    float64\n",
      "dtypes: float64(20)\n",
      "memory usage: 15.8 KB\n",
      "None\n"
     ]
    }
   ],
   "source": [
    "print(df1.info())"
   ]
  },
  {
   "cell_type": "code",
   "execution_count": 9,
   "metadata": {},
   "outputs": [
    {
     "name": "stdout",
     "output_type": "stream",
     "text": [
      "<class 'pandas.core.frame.DataFrame'>\n",
      "RangeIndex: 131 entries, 0 to 130\n",
      "Data columns (total 20 columns):\n",
      " #   Column  Non-Null Count  Dtype  \n",
      "---  ------  --------------  -----  \n",
      " 0   0       131 non-null    float64\n",
      " 1   1       131 non-null    float64\n",
      " 2   2       131 non-null    float64\n",
      " 3   3       131 non-null    float64\n",
      " 4   4       131 non-null    float64\n",
      " 5   5       131 non-null    float64\n",
      " 6   6       131 non-null    float64\n",
      " 7   7       131 non-null    float64\n",
      " 8   8       131 non-null    float64\n",
      " 9   9       131 non-null    float64\n",
      " 10  10      131 non-null    float64\n",
      " 11  11      131 non-null    float64\n",
      " 12  12      131 non-null    float64\n",
      " 13  13      131 non-null    float64\n",
      " 14  14      131 non-null    float64\n",
      " 15  15      131 non-null    float64\n",
      " 16  16      131 non-null    float64\n",
      " 17  17      131 non-null    float64\n",
      " 18  18      131 non-null    float64\n",
      " 19  19      131 non-null    float64\n",
      "dtypes: float64(20)\n",
      "memory usage: 20.6 KB\n",
      "None\n"
     ]
    }
   ],
   "source": [
    "print(df2.info())"
   ]
  },
  {
   "cell_type": "code",
   "execution_count": 10,
   "metadata": {},
   "outputs": [
    {
     "name": "stdout",
     "output_type": "stream",
     "text": [
      "<class 'numpy.ndarray'> <class 'numpy.ndarray'>\n",
      "[0 1 1 1 1 1 1 1 1 1 1 1 1 1 1 0 1 1 1 1 1 1 1 1 1 1 1 1 1 1 1 1 1 1 1 1 1\n",
      " 1 1 1 1 1 1 1 1 1 1 0 1 0 1 1 1 1 0 1 1 1 1 1 1 1 1 1 1 1 1 1 1 1 1 1 1 1\n",
      " 0 1 1 0 1 1 1 1 0 1 0 0 1 1 1 1 0 1 1 1 1 0 1 1 1 1 0 0 0 0 0 0 0 0 0 0 0\n",
      " 0 0 0 0 0 0 0 0 0 0 0 0 0 0 0 0 0 0 0 0 0 0 0 0 0 0 0 0 0 0 0 0 0 0 0 0 0\n",
      " 0 0 0 0 0 0 0 0 0 0 0 0 0 0 0 0 0 0 0 0 0 0 0 0 0 0 0 0 0 0 0 0 0 0 0 0 0\n",
      " 0 0 0 1 1 1 1 1 1 1 1 1 1 1 1 1 1 1 1 1 1 1 1 1 1 1 1 1 1 1 1 1 1 1 1 1 1\n",
      " 1 1 1 1 1 1]\n",
      "[100 128]\n"
     ]
    }
   ],
   "source": [
    "print(type(y), type(newY))\n",
    "target = np.concatenate((y,newY))\n",
    "print(target)\n",
    "print(np.bincount(target))"
   ]
  }
 ],
 "metadata": {
  "kernelspec": {
   "display_name": "Python 3",
   "language": "python",
   "name": "python3"
  },
  "language_info": {
   "codemirror_mode": {
    "name": "ipython",
    "version": 3
   },
   "file_extension": ".py",
   "mimetype": "text/x-python",
   "name": "python",
   "nbconvert_exporter": "python",
   "pygments_lexer": "ipython3",
   "version": "3.12.10"
  },
  "orig_nbformat": 4
 },
 "nbformat": 4,
 "nbformat_minor": 2
}
