{
 "cells": [
  {
   "cell_type": "markdown",
   "metadata": {},
   "source": [
    "# Scikit-learn K折交叉驗證法"
   ]
  },
  {
   "cell_type": "markdown",
   "metadata": {},
   "source": [
    "## 載入相關套件"
   ]
  },
  {
   "cell_type": "code",
   "execution_count": 1,
   "metadata": {},
   "outputs": [],
   "source": [
    "from sklearn import datasets\n",
    "from sklearn.preprocessing import StandardScaler\n",
    "from sklearn.model_selection import train_test_split\n",
    "import numpy as np"
   ]
  },
  {
   "cell_type": "code",
   "execution_count": null,
   "metadata": {},
   "outputs": [],
   "source": [
    "print (np.__version__) # 1.24.3"
   ]
  },
  {
   "cell_type": "markdown",
   "metadata": {},
   "source": [
    "## 載入資料集"
   ]
  },
  {
   "cell_type": "code",
   "execution_count": 2,
   "metadata": {},
   "outputs": [],
   "source": [
    "X, y = datasets.load_diabetes(return_X_y=True) # 直接回傳 numpy array\n",
    "# diabetes = datasets.load_diabetes(as_frame=True)   # 回傳 DataFrame"
   ]
  },
  {
   "cell_type": "markdown",
   "metadata": {},
   "source": [
    "## 資料分割"
   ]
  },
  {
   "cell_type": "code",
   "execution_count": 3,
   "metadata": {},
   "outputs": [],
   "source": [
    "X_train, X_test, y_train, y_test = train_test_split(X, y, test_size=.2)"
   ]
  },
  {
   "cell_type": "markdown",
   "metadata": {},
   "source": [
    "## 特徵縮放"
   ]
  },
  {
   "cell_type": "code",
   "execution_count": 4,
   "metadata": {},
   "outputs": [],
   "source": [
    "scaler = StandardScaler()\n",
    "X_train_std = scaler.fit_transform(X_train)\n",
    "X_test_std = scaler.transform(X_test)"
   ]
  },
  {
   "cell_type": "markdown",
   "metadata": {},
   "source": [
    "## 模型訓練"
   ]
  },
  {
   "cell_type": "code",
   "execution_count": 5,
   "metadata": {},
   "outputs": [
    {
     "name": "stdout",
     "output_type": "stream",
     "text": [
      "訓練集準確率: 0.515\n",
      "測試集準確率: 0.516\n"
     ]
    }
   ],
   "source": [
    "from sklearn.linear_model import LinearRegression\n",
    "\n",
    "clf = LinearRegression() # 建立線性回歸模型\n",
    "clf.fit(X_train_std, y_train) # 訓練模型\n",
    "print('訓練集準確率: %.3f' % clf.score(X_train_std, y_train)) # 訓練集準確率\n",
    "print('測試集準確率: %.3f' % clf.score(X_test_std, y_test)) # 測試集準確率"
   ]
  },
  {
   "cell_type": "markdown",
   "metadata": {},
   "source": [
    "## 模型評分"
   ]
  },
  {
   "cell_type": "code",
   "execution_count": 6,
   "metadata": {
    "scrolled": true
   },
   "outputs": [
    {
     "name": "stdout",
     "output_type": "stream",
     "text": [
      "R2=0.5162030850570606\n"
     ]
    }
   ],
   "source": [
    "print(f'R2={clf.score(X_test_std, y_test)}')"
   ]
  },
  {
   "cell_type": "markdown",
   "metadata": {},
   "source": [
    "## K折測試"
   ]
  },
  {
   "cell_type": "code",
   "execution_count": 7,
   "metadata": {
    "scrolled": true
   },
   "outputs": [
    {
     "name": "stdout",
     "output_type": "stream",
     "text": [
      "Fold 0:\n",
      "  Train: index=[ 71  72  73  74  75  76  77  78  79  80  81  82  83  84  85  86  87  88\n",
      "  89  90  91  92  93  94  95  96  97  98  99 100 101 102 103 104 105 106\n",
      " 107 108 109 110 111 112 113 114 115 116 117 118 119 120 121 122 123 124\n",
      " 125 126 127 128 129 130 131 132 133 134 135 136 137 138 139 140 141 142\n",
      " 143 144 145 146 147 148 149 150 151 152 153 154 155 156 157 158 159 160\n",
      " 161 162 163 164 165 166 167 168 169 170 171 172 173 174 175 176 177 178\n",
      " 179 180 181 182 183 184 185 186 187 188 189 190 191 192 193 194 195 196\n",
      " 197 198 199 200 201 202 203 204 205 206 207 208 209 210 211 212 213 214\n",
      " 215 216 217 218 219 220 221 222 223 224 225 226 227 228 229 230 231 232\n",
      " 233 234 235 236 237 238 239 240 241 242 243 244 245 246 247 248 249 250\n",
      " 251 252 253 254 255 256 257 258 259 260 261 262 263 264 265 266 267 268\n",
      " 269 270 271 272 273 274 275 276 277 278 279 280 281 282 283 284 285 286\n",
      " 287 288 289 290 291 292 293 294 295 296 297 298 299 300 301 302 303 304\n",
      " 305 306 307 308 309 310 311 312 313 314 315 316 317 318 319 320 321 322\n",
      " 323 324 325 326 327 328 329 330 331 332 333 334 335 336 337 338 339 340\n",
      " 341 342 343 344 345 346 347 348 349 350 351 352]\n",
      "  Test:  index=[ 0  1  2  3  4  5  6  7  8  9 10 11 12 13 14 15 16 17 18 19 20 21 22 23\n",
      " 24 25 26 27 28 29 30 31 32 33 34 35 36 37 38 39 40 41 42 43 44 45 46 47\n",
      " 48 49 50 51 52 53 54 55 56 57 58 59 60 61 62 63 64 65 66 67 68 69 70]\n",
      "Fold 1:\n",
      "  Train: index=[  0   1   2   3   4   5   6   7   8   9  10  11  12  13  14  15  16  17\n",
      "  18  19  20  21  22  23  24  25  26  27  28  29  30  31  32  33  34  35\n",
      "  36  37  38  39  40  41  42  43  44  45  46  47  48  49  50  51  52  53\n",
      "  54  55  56  57  58  59  60  61  62  63  64  65  66  67  68  69  70 142\n",
      " 143 144 145 146 147 148 149 150 151 152 153 154 155 156 157 158 159 160\n",
      " 161 162 163 164 165 166 167 168 169 170 171 172 173 174 175 176 177 178\n",
      " 179 180 181 182 183 184 185 186 187 188 189 190 191 192 193 194 195 196\n",
      " 197 198 199 200 201 202 203 204 205 206 207 208 209 210 211 212 213 214\n",
      " 215 216 217 218 219 220 221 222 223 224 225 226 227 228 229 230 231 232\n",
      " 233 234 235 236 237 238 239 240 241 242 243 244 245 246 247 248 249 250\n",
      " 251 252 253 254 255 256 257 258 259 260 261 262 263 264 265 266 267 268\n",
      " 269 270 271 272 273 274 275 276 277 278 279 280 281 282 283 284 285 286\n",
      " 287 288 289 290 291 292 293 294 295 296 297 298 299 300 301 302 303 304\n",
      " 305 306 307 308 309 310 311 312 313 314 315 316 317 318 319 320 321 322\n",
      " 323 324 325 326 327 328 329 330 331 332 333 334 335 336 337 338 339 340\n",
      " 341 342 343 344 345 346 347 348 349 350 351 352]\n",
      "  Test:  index=[ 71  72  73  74  75  76  77  78  79  80  81  82  83  84  85  86  87  88\n",
      "  89  90  91  92  93  94  95  96  97  98  99 100 101 102 103 104 105 106\n",
      " 107 108 109 110 111 112 113 114 115 116 117 118 119 120 121 122 123 124\n",
      " 125 126 127 128 129 130 131 132 133 134 135 136 137 138 139 140 141]\n",
      "Fold 2:\n",
      "  Train: index=[  0   1   2   3   4   5   6   7   8   9  10  11  12  13  14  15  16  17\n",
      "  18  19  20  21  22  23  24  25  26  27  28  29  30  31  32  33  34  35\n",
      "  36  37  38  39  40  41  42  43  44  45  46  47  48  49  50  51  52  53\n",
      "  54  55  56  57  58  59  60  61  62  63  64  65  66  67  68  69  70  71\n",
      "  72  73  74  75  76  77  78  79  80  81  82  83  84  85  86  87  88  89\n",
      "  90  91  92  93  94  95  96  97  98  99 100 101 102 103 104 105 106 107\n",
      " 108 109 110 111 112 113 114 115 116 117 118 119 120 121 122 123 124 125\n",
      " 126 127 128 129 130 131 132 133 134 135 136 137 138 139 140 141 213 214\n",
      " 215 216 217 218 219 220 221 222 223 224 225 226 227 228 229 230 231 232\n",
      " 233 234 235 236 237 238 239 240 241 242 243 244 245 246 247 248 249 250\n",
      " 251 252 253 254 255 256 257 258 259 260 261 262 263 264 265 266 267 268\n",
      " 269 270 271 272 273 274 275 276 277 278 279 280 281 282 283 284 285 286\n",
      " 287 288 289 290 291 292 293 294 295 296 297 298 299 300 301 302 303 304\n",
      " 305 306 307 308 309 310 311 312 313 314 315 316 317 318 319 320 321 322\n",
      " 323 324 325 326 327 328 329 330 331 332 333 334 335 336 337 338 339 340\n",
      " 341 342 343 344 345 346 347 348 349 350 351 352]\n",
      "  Test:  index=[142 143 144 145 146 147 148 149 150 151 152 153 154 155 156 157 158 159\n",
      " 160 161 162 163 164 165 166 167 168 169 170 171 172 173 174 175 176 177\n",
      " 178 179 180 181 182 183 184 185 186 187 188 189 190 191 192 193 194 195\n",
      " 196 197 198 199 200 201 202 203 204 205 206 207 208 209 210 211 212]\n",
      "Fold 3:\n",
      "  Train: index=[  0   1   2   3   4   5   6   7   8   9  10  11  12  13  14  15  16  17\n",
      "  18  19  20  21  22  23  24  25  26  27  28  29  30  31  32  33  34  35\n",
      "  36  37  38  39  40  41  42  43  44  45  46  47  48  49  50  51  52  53\n",
      "  54  55  56  57  58  59  60  61  62  63  64  65  66  67  68  69  70  71\n",
      "  72  73  74  75  76  77  78  79  80  81  82  83  84  85  86  87  88  89\n",
      "  90  91  92  93  94  95  96  97  98  99 100 101 102 103 104 105 106 107\n",
      " 108 109 110 111 112 113 114 115 116 117 118 119 120 121 122 123 124 125\n",
      " 126 127 128 129 130 131 132 133 134 135 136 137 138 139 140 141 142 143\n",
      " 144 145 146 147 148 149 150 151 152 153 154 155 156 157 158 159 160 161\n",
      " 162 163 164 165 166 167 168 169 170 171 172 173 174 175 176 177 178 179\n",
      " 180 181 182 183 184 185 186 187 188 189 190 191 192 193 194 195 196 197\n",
      " 198 199 200 201 202 203 204 205 206 207 208 209 210 211 212 283 284 285\n",
      " 286 287 288 289 290 291 292 293 294 295 296 297 298 299 300 301 302 303\n",
      " 304 305 306 307 308 309 310 311 312 313 314 315 316 317 318 319 320 321\n",
      " 322 323 324 325 326 327 328 329 330 331 332 333 334 335 336 337 338 339\n",
      " 340 341 342 343 344 345 346 347 348 349 350 351 352]\n",
      "  Test:  index=[213 214 215 216 217 218 219 220 221 222 223 224 225 226 227 228 229 230\n",
      " 231 232 233 234 235 236 237 238 239 240 241 242 243 244 245 246 247 248\n",
      " 249 250 251 252 253 254 255 256 257 258 259 260 261 262 263 264 265 266\n",
      " 267 268 269 270 271 272 273 274 275 276 277 278 279 280 281 282]\n",
      "Fold 4:\n",
      "  Train: index=[  0   1   2   3   4   5   6   7   8   9  10  11  12  13  14  15  16  17\n",
      "  18  19  20  21  22  23  24  25  26  27  28  29  30  31  32  33  34  35\n",
      "  36  37  38  39  40  41  42  43  44  45  46  47  48  49  50  51  52  53\n",
      "  54  55  56  57  58  59  60  61  62  63  64  65  66  67  68  69  70  71\n",
      "  72  73  74  75  76  77  78  79  80  81  82  83  84  85  86  87  88  89\n",
      "  90  91  92  93  94  95  96  97  98  99 100 101 102 103 104 105 106 107\n",
      " 108 109 110 111 112 113 114 115 116 117 118 119 120 121 122 123 124 125\n",
      " 126 127 128 129 130 131 132 133 134 135 136 137 138 139 140 141 142 143\n",
      " 144 145 146 147 148 149 150 151 152 153 154 155 156 157 158 159 160 161\n",
      " 162 163 164 165 166 167 168 169 170 171 172 173 174 175 176 177 178 179\n",
      " 180 181 182 183 184 185 186 187 188 189 190 191 192 193 194 195 196 197\n",
      " 198 199 200 201 202 203 204 205 206 207 208 209 210 211 212 213 214 215\n",
      " 216 217 218 219 220 221 222 223 224 225 226 227 228 229 230 231 232 233\n",
      " 234 235 236 237 238 239 240 241 242 243 244 245 246 247 248 249 250 251\n",
      " 252 253 254 255 256 257 258 259 260 261 262 263 264 265 266 267 268 269\n",
      " 270 271 272 273 274 275 276 277 278 279 280 281 282]\n",
      "  Test:  index=[283 284 285 286 287 288 289 290 291 292 293 294 295 296 297 298 299 300\n",
      " 301 302 303 304 305 306 307 308 309 310 311 312 313 314 315 316 317 318\n",
      " 319 320 321 322 323 324 325 326 327 328 329 330 331 332 333 334 335 336\n",
      " 337 338 339 340 341 342 343 344 345 346 347 348 349 350 351 352]\n"
     ]
    }
   ],
   "source": [
    "from sklearn.model_selection import KFold\n",
    "\n",
    "kf = KFold(n_splits=5)\n",
    "for i, (train_index, test_index) in enumerate(kf.split(X_train_std)):\n",
    "    print(f\"Fold {i}:\") \n",
    "    print(f\"  Train: index={train_index}\")\n",
    "    print(f\"  Test:  index={test_index}\")"
   ]
  },
  {
   "cell_type": "markdown",
   "metadata": {},
   "source": [
    "## K折驗證"
   ]
  },
  {
   "cell_type": "code",
   "execution_count": 8,
   "metadata": {
    "scrolled": true
   },
   "outputs": [
    {
     "name": "stdout",
     "output_type": "stream",
     "text": [
      "Fold 0 分數: 0.4240086433199547\n",
      "Fold 1 分數: 0.44989326095090915\n",
      "Fold 2 分數: 0.4533349552794199\n",
      "Fold 3 分數: 0.48340053229136537\n",
      "Fold 4 分數: 0.47311658654213523\n",
      "平均值: 0.47311658654213523\n",
      "標準差: 0.05361633384539398\n"
     ]
    }
   ],
   "source": [
    "score = []\n",
    "for i, (train_index, test_index) in enumerate(kf.split(X_train_std)):\n",
    "    X_new = X_train_std[train_index]\n",
    "    y_new = y_train[train_index]\n",
    "    clf.fit(X_new, y_new)\n",
    "    score_fold = clf.score(X_train_std[test_index], y_train[test_index])\n",
    "    score.append(score_fold)\n",
    "    print(f\"Fold {i} 分數: {np.mean(score)}\") \n",
    "print(f\"平均值: {np.mean(score)}\")\n",
    "print(f\"標準差: {np.std(score)}\")"
   ]
  },
  {
   "cell_type": "markdown",
   "metadata": {},
   "source": [
    "## 效能調校"
   ]
  },
  {
   "cell_type": "code",
   "execution_count": 10,
   "metadata": {},
   "outputs": [
    {
     "name": "stdout",
     "output_type": "stream",
     "text": [
      "平均分數:\n",
      " [0.45536804 0.48231819 0.45536837 0.48231859 0.45536901 0.48231898\n",
      " 0.4553696  0.48231929 0.45537035 0.48231932 0.45537113 0.4823187\n",
      " 0.45537247 0.48231675 0.45537418 0.48231218 0.45537643 0.48230267\n",
      " 0.45537939 0.48236223 0.45538327 0.48245888 0.45538829 0.48247867\n",
      " 0.45539479 0.48250645 0.45540315 0.4825296  0.45541379 0.48245452\n",
      " 0.45542718 0.48201034 0.45544378 0.48130789 0.45546905 0.48115831\n",
      " 0.45551819 0.4814086  0.45557755 0.48175196 0.45564629 0.48188457\n",
      " 0.45572024 0.48209859 0.45578861 0.4820597  0.45582787 0.4819337\n",
      " 0.45579065 0.48108101 0.4555864  0.47915084 0.45504625 0.47635391\n",
      " 0.45386216 0.47235481 0.45147624 0.46555482 0.44692952 0.45663349] \n",
      "標準差:\n",
      " [0.05546675 0.04924557 0.05546542 0.04923826 0.05546391 0.04922864\n",
      " 0.05546161 0.04921601 0.05545855 0.04919946 0.05545488 0.04917782\n",
      " 0.05544958 0.04914961 0.05544256 0.04911303 0.05543329 0.04906587\n",
      " 0.05542106 0.04898322 0.05540492 0.04888308 0.0553836  0.04877681\n",
      " 0.05535546 0.04866801 0.05531833 0.04856384 0.05526936 0.04842965\n",
      " 0.05520478 0.04844665 0.05511962 0.04850286 0.05500529 0.04876233\n",
      " 0.05484704 0.04888242 0.05463849 0.04875939 0.05436381 0.04857793\n",
      " 0.05400234 0.04818127 0.05352714 0.04780704 0.05290334 0.04767612\n",
      " 0.05208593 0.04783856 0.05101756 0.04826852 0.04962584 0.04727593\n",
      " 0.04782088 0.04700013 0.04549529 0.04730046 0.04254643 0.04365271]\n",
      "平均分數2:\n",
      " [0.45536559 0.48231644] \n",
      "標準差2:\n",
      " [0.05547093 0.04926858]\n"
     ]
    }
   ],
   "source": [
    "from sklearn.linear_model import Lasso # L1正則化\n",
    "from sklearn.model_selection import GridSearchCV # 網格搜尋\n",
    "\n",
    "lasso = Lasso(random_state=0, max_iter=10000) # 建立 Lasso 模型\n",
    "# Lasso 參數調校, 使用 GridSearchCV, 5-fold cross validation\n",
    "# 參數範圍設定, max_iter: 最大迭代次數\n",
    "\n",
    "# 正則化強度：30種選擇\n",
    "alphas = np.logspace(-4, -0.5, 30) # 10^-4 ~ 10^-0.5, 共30個數值\n",
    "\n",
    "# 強迫係數(權重)須為正數\n",
    "positive = (True, False) # 兩種選擇\n",
    "# 建立參數組合\n",
    "tuned_parameters = [{\"alpha\": alphas, 'positive':positive}]\n",
    "\n",
    "# 效能調校\n",
    "clf = GridSearchCV(lasso, tuned_parameters, cv=5, refit=False) # cv=5: 5-fold cross validation\n",
    "# refit=False: 不用全部資料重新訓練模型\n",
    "# refit=True: 用全部資料重新訓練模型\n",
    "# refit='r2': 用 r2 最佳參數重新訓練\n",
    "# refit='neg_mean_squared_error': 用 neg_mean_squared_error 最佳參數重新訓練\n",
    "# refit='neg_mean_absolute_error': 用 neg_mean_absolute_error 最佳參數重新訓練\n",
    "# refit='neg_root_mean_squared_error': 用 neg_root_mean_squared_error 最佳參數重新訓練\n",
    "# refit='explained_variance': 用 explained_variance 最佳參數重新訓練\n",
    "# refit='max_error': 用 max_error 最佳參數重新訓練\n",
    "# refit='neg_median_absolute_error': 用 neg_median_absolute_error 最佳參數重新訓練\n",
    "clf.fit(X, y)\n",
    "\n",
    "LL= LinearRegression()\n",
    "tuned_parameters2 = [{'positive':positive}]\n",
    "clf2 = GridSearchCV(LL,tuned_parameters2, cv=5)\n",
    "clf2.fit(X, y)\n",
    "\n",
    "scores_mean = clf.cv_results_[\"mean_test_score\"]\n",
    "scores_std = clf.cv_results_[\"std_test_score\"]\n",
    "print('平均分數:\\n', scores_mean, '\\n標準差:\\n', scores_std)\n",
    "\n",
    "scores_mean2 = clf2.cv_results_[\"mean_test_score\"]\n",
    "scores_std2 = clf2.cv_results_[\"std_test_score\"]\n",
    "print('平均分數2:\\n', scores_mean2, '\\n標準差2:\\n', scores_std2)"
   ]
  },
  {
   "cell_type": "code",
   "execution_count": 11,
   "metadata": {},
   "outputs": [
    {
     "data": {
      "text/plain": [
       "np.float64(0.4825295987936247)"
      ]
     },
     "execution_count": 11,
     "metadata": {},
     "output_type": "execute_result"
    }
   ],
   "source": [
    "# 取得最高分數\n",
    "np.max(clf.cv_results_[\"mean_test_score\"])"
   ]
  },
  {
   "cell_type": "code",
   "execution_count": 12,
   "metadata": {
    "scrolled": true
   },
   "outputs": [
    {
     "data": {
      "text/plain": [
       "[{'alpha': array([1.00000000e-04, 1.32035178e-04, 1.74332882e-04, 2.30180731e-04,\n",
       "         3.03919538e-04, 4.01280703e-04, 5.29831691e-04, 6.99564216e-04,\n",
       "         9.23670857e-04, 1.21957046e-03, 1.61026203e-03, 2.12611233e-03,\n",
       "         2.80721620e-03, 3.70651291e-03, 4.89390092e-03, 6.46167079e-03,\n",
       "         8.53167852e-03, 1.12648169e-02, 1.48735211e-02, 1.96382800e-02,\n",
       "         2.59294380e-02, 3.42359796e-02, 4.52035366e-02, 5.96845700e-02,\n",
       "         7.88046282e-02, 1.04049831e-01, 1.37382380e-01, 1.81393069e-01,\n",
       "         2.39502662e-01, 3.16227766e-01]),\n",
       "  'positive': (True, False)}]"
      ]
     },
     "execution_count": 12,
     "metadata": {},
     "output_type": "execute_result"
    }
   ],
   "source": [
    "# 參數組合\n",
    "clf.param_grid"
   ]
  },
  {
   "cell_type": "code",
   "execution_count": 13,
   "metadata": {},
   "outputs": [
    {
     "data": {
      "text/plain": [
       "{'alpha': np.float64(0.0037065129109221566), 'positive': False}"
      ]
     },
     "execution_count": 13,
     "metadata": {},
     "output_type": "execute_result"
    }
   ],
   "source": [
    "# 取得最佳參數組合\n",
    "clf.best_params_"
   ]
  },
  {
   "cell_type": "code",
   "execution_count": 14,
   "metadata": {},
   "outputs": [
    {
     "data": {
      "text/plain": [
       "(np.int64(27),\n",
       " np.float64(0.4825295987936247),\n",
       " np.float64(0.0037065129109221566))"
      ]
     },
     "execution_count": 14,
     "metadata": {},
     "output_type": "execute_result"
    }
   ],
   "source": [
    "# 驗證\n",
    "from math import floor\n",
    "\n",
    "index = np.argmax(clf.cv_results_[\"mean_test_score\"])\n",
    "index, clf.cv_results_[\"mean_test_score\"][index], alphas[floor((index-1)/2)]"
   ]
  },
  {
   "cell_type": "code",
   "execution_count": 15,
   "metadata": {},
   "outputs": [
    {
     "data": {
      "text/plain": [
       "np.float64(0.4825295987936247)"
      ]
     },
     "execution_count": 15,
     "metadata": {},
     "output_type": "execute_result"
    }
   ],
   "source": [
    "# 最佳分數\n",
    "clf.best_score_"
   ]
  },
  {
   "cell_type": "markdown",
   "metadata": {},
   "source": [
    "## 以最佳參數組合重新訓練"
   ]
  },
  {
   "cell_type": "code",
   "execution_count": 16,
   "metadata": {},
   "outputs": [
    {
     "data": {
      "text/plain": [
       "0.5164429500007026"
      ]
     },
     "execution_count": 16,
     "metadata": {},
     "output_type": "execute_result"
    }
   ],
   "source": [
    "clf = Lasso(random_state=0, max_iter=10000, alpha=0.0037065129109221566\n",
    "            , positive=False)\n",
    "clf.fit(X_train_std, y_train)\n",
    "clf.score(X_test_std, y_test)"
   ]
  }
 ],
 "metadata": {
  "kernelspec": {
   "display_name": "Python 3",
   "language": "python",
   "name": "python3"
  },
  "language_info": {
   "codemirror_mode": {
    "name": "ipython",
    "version": 3
   },
   "file_extension": ".py",
   "mimetype": "text/x-python",
   "name": "python",
   "nbconvert_exporter": "python",
   "pygments_lexer": "ipython3",
   "version": "3.12.10"
  }
 },
 "nbformat": 4,
 "nbformat_minor": 2
}
