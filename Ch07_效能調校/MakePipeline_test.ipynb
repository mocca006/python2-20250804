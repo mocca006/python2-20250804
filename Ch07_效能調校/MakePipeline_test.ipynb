{
 "cells": [
  {
   "attachments": {},
   "cell_type": "markdown",
   "metadata": {},
   "source": [
    "# 管線測試"
   ]
  },
  {
   "cell_type": "code",
   "execution_count": 1,
   "metadata": {},
   "outputs": [],
   "source": [
    "import pandas as pd\n",
    "from sklearn.model_selection import train_test_split\n",
    "from sklearn.preprocessing import StandardScaler\n",
    "from sklearn.decomposition import PCA\n",
    "from sklearn.linear_model import LogisticRegression\n",
    "from sklearn.pipeline import make_pipeline\n",
    "from sklearn.datasets import load_wine"
   ]
  },
  {
   "cell_type": "code",
   "execution_count": 2,
   "metadata": {},
   "outputs": [],
   "source": [
    "# Kfold 不可使用 DataFrame\n",
    "X, y = load_wine(return_X_y=True) # 直接回傳 numpy array\n",
    "# wine = load_wine(as_frame=True)   # 回傳 DataFrame\n",
    "# print(wine.DESCR)\n",
    "# print(wine.data.head())\n",
    "# print(wine.target.head())"
   ]
  },
  {
   "cell_type": "code",
   "execution_count": 3,
   "metadata": {},
   "outputs": [],
   "source": [
    "X_train, X_test, y_train, y_test = train_test_split(X, y, test_size=0.2) # 20%當測試資料"
   ]
  },
  {
   "cell_type": "code",
   "execution_count": 4,
   "metadata": {},
   "outputs": [],
   "source": [
    "# 管線定義\n",
    "pipe_lr = make_pipeline(StandardScaler(),\n",
    "                        PCA(n_components=2),\n",
    "                        LogisticRegression(random_state=1))"
   ]
  },
  {
   "cell_type": "code",
   "execution_count": null,
   "metadata": {},
   "outputs": [
    {
     "name": "stdout",
     "output_type": "stream",
     "text": [
      "(113,) (29,)\n",
      "Fold:  1, Class dist.: [34 47 32], Acc: 0.966\n",
      "(113,) (29,)\n"
     ]
    },
    {
     "name": "stdout",
     "output_type": "stream",
     "text": [
      "Fold:  2, Class dist.: [34 47 32], Acc: 0.966\n",
      "(114,) (28,)\n",
      "Fold:  3, Class dist.: [35 47 32], Acc: 0.964\n",
      "(114,) (28,)\n",
      "Fold:  4, Class dist.: [35 47 32], Acc: 0.964\n",
      "(114,) (28,)\n",
      "Fold:  5, Class dist.: [34 48 32], Acc: 0.929\n",
      "\n",
      "CV accuracy: 0.958 +/- 0.015\n"
     ]
    }
   ],
   "source": [
    "import numpy as np\n",
    "from sklearn.model_selection import StratifiedKFold, KFold\n",
    "    \n",
    "kfold = StratifiedKFold(n_splits=5).split(X_train, y_train) # 分層抽樣,每一折的類別比例和整體相同,X_train 是訓練資料, y_train是訓練資料的標籤\n",
    "# n_splits=5 # 5-fold cross validation, 拆成5份,跑5次\n",
    "# kfold = KFold(n_splits=5).split(X_train, y_train) # 一般 K-fold\n",
    "# kfold = KFold(n_splits=5,shuffle=True,random_state=0).split(X_train, y_train) # 洗牌後再分\n",
    "# kfold = KFold(n_splits=5,shuffle=False).split(X_train, y_train) # 不洗牌\n",
    "# print(kfold)\n",
    "# print(type(kfold)) # <class 'generator'>\n",
    "# split(X_train, y_train) # 產生器 generator,每次呼叫會回傳一組 train/test index\n",
    "\n",
    "scores = [] # 每一折的準確率\n",
    "for k, (train, test) in enumerate(kfold): # k 是第幾折, train是訓練資料的index, test是測試資料的index\n",
    "    print(train.shape, test.shape)\n",
    "    pipe_lr.fit(X_train[train], y_train[train]) # X_train[train]是訓練資料, y_train[train]是訓練資料的標籤\n",
    "    score = pipe_lr.score(X_train[test], y_train[test]) # 準確率 accuracy,X_train[test]是測試資料, y_train[test]是測試資料的標籤\n",
    "    scores.append(score)\n",
    "    \n",
    "    # np.bincount：統計每一折的 y value_counts() \n",
    "    print('Fold: %2d, Class dist.: %s, Acc: %.3f' % (k+1,\n",
    "          np.bincount(y_train[train]), score))\n",
    "    # Acc: 準確率 accuracy\n",
    "\n",
    "print('\\nCV accuracy: %.3f +/- %.3f' % (np.mean(scores), np.std(scores))) #CV: cross validation"
   ]
  },
  {
   "cell_type": "markdown",
   "metadata": {},
   "source": [
    "std 標準差 ==>代表穩定性\n",
    "\n",
    "std 愈大,表示資料起伏愈大"
   ]
  },
  {
   "cell_type": "code",
   "execution_count": null,
   "metadata": {},
   "outputs": [],
   "source": []
  }
 ],
 "metadata": {
  "kernelspec": {
   "display_name": "Python 3",
   "language": "python",
   "name": "python3"
  },
  "language_info": {
   "codemirror_mode": {
    "name": "ipython",
    "version": 3
   },
   "file_extension": ".py",
   "mimetype": "text/x-python",
   "name": "python",
   "nbconvert_exporter": "python",
   "pygments_lexer": "ipython3",
   "version": "3.12.10"
  }
 },
 "nbformat": 4,
 "nbformat_minor": 4
}
