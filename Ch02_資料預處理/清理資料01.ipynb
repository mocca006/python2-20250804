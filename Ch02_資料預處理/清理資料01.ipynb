{
 "cells": [
  {
   "cell_type": "code",
   "execution_count": null,
   "metadata": {
    "id": "FHgTM8v-iGEj"
   },
   "outputs": [],
   "source": [
    "%pip install seaborn"
   ]
  },
  {
   "cell_type": "code",
   "execution_count": null,
   "metadata": {
    "executionInfo": {
     "elapsed": 2851,
     "status": "ok",
     "timestamp": 1739800275541,
     "user": {
      "displayName": "ELSA",
      "userId": "12819283556995342183"
     },
     "user_tz": -480
    },
    "id": "lYMQ3sT-b4tN"
   },
   "outputs": [],
   "source": [
    "import seaborn as sns"
   ]
  },
  {
   "cell_type": "code",
   "execution_count": null,
   "metadata": {
    "colab": {
     "base_uri": "https://localhost:8080/"
    },
    "executionInfo": {
     "elapsed": 600,
     "status": "ok",
     "timestamp": 1739800346997,
     "user": {
      "displayName": "ELSA",
      "userId": "12819283556995342183"
     },
     "user_tz": -480
    },
    "id": "dtvWdelpb4tQ",
    "outputId": "a7119c78-c239-482e-c26a-eaf1fdf09efd"
   },
   "outputs": [],
   "source": [
    "df = sns.load_dataset('titanic')\n",
    "print(df.info())"
   ]
  },
  {
   "cell_type": "code",
   "execution_count": null,
   "metadata": {
    "colab": {
     "base_uri": "https://localhost:8080/"
    },
    "collapsed": true,
    "executionInfo": {
     "elapsed": 825,
     "status": "ok",
     "timestamp": 1684842685665,
     "user": {
      "displayName": "ELSA",
      "userId": "12819283556995342183"
     },
     "user_tz": -480
    },
    "id": "EgVnoVn8b4tR",
    "outputId": "75c1068c-4e47-4239-c166-3ce6af0107ba"
   },
   "outputs": [],
   "source": [
    "print(df.describe()) # summary statistics"
   ]
  },
  {
   "cell_type": "code",
   "execution_count": null,
   "metadata": {},
   "outputs": [],
   "source": [
    "print(df.describe(include='object')) # summary statistics for categorical variables"
   ]
  },
  {
   "cell_type": "code",
   "execution_count": null,
   "metadata": {
    "colab": {
     "base_uri": "https://localhost:8080/"
    },
    "executionInfo": {
     "elapsed": 290,
     "status": "ok",
     "timestamp": 1739800445692,
     "user": {
      "displayName": "ELSA",
      "userId": "12819283556995342183"
     },
     "user_tz": -480
    },
    "id": "VC2n_BrZb4tS",
    "outputId": "8df77f0c-f805-474d-d3f1-cf47e47aa885",
    "scrolled": true
   },
   "outputs": [],
   "source": [
    "print(df.isnull().sum())"
   ]
  },
  {
   "cell_type": "code",
   "execution_count": null,
   "metadata": {
    "colab": {
     "base_uri": "https://localhost:8080/"
    },
    "collapsed": true,
    "executionInfo": {
     "elapsed": 286,
     "status": "ok",
     "timestamp": 1739800537688,
     "user": {
      "displayName": "ELSA",
      "userId": "12819283556995342183"
     },
     "user_tz": -480
    },
    "id": "YUoItZwLb4tS",
    "outputId": "81474d51-4b0e-4a75-aa09-34c804f252c6"
   },
   "outputs": [],
   "source": [
    "df1 = df.dropna(axis = 0)#只要列包含空值就刪列\n",
    "print(df1.info())"
   ]
  },
  {
   "cell_type": "code",
   "execution_count": null,
   "metadata": {
    "executionInfo": {
     "elapsed": 823,
     "status": "ok",
     "timestamp": 1739800651449,
     "user": {
      "displayName": "ELSA",
      "userId": "12819283556995342183"
     },
     "user_tz": -480
    },
    "id": "dAhGaJpOb4tT"
   },
   "outputs": [],
   "source": [
    "# sklearn\n",
    "from sklearn.impute import SimpleImputer\n",
    "import numpy as np"
   ]
  },
  {
   "cell_type": "code",
   "execution_count": null,
   "metadata": {
    "colab": {
     "base_uri": "https://localhost:8080/"
    },
    "executionInfo": {
     "elapsed": 304,
     "status": "ok",
     "timestamp": 1739800719883,
     "user": {
      "displayName": "ELSA",
      "userId": "12819283556995342183"
     },
     "user_tz": -480
    },
    "id": "j56JNaQ8b4tT",
    "outputId": "29cd9903-2fa7-4b77-ea96-df915bf6a842"
   },
   "outputs": [],
   "source": [
    "#查套件版本\n",
    "import sys, sklearn, numpy as np\n",
    "\n",
    "msg = {'Sklearn':sklearn, 'Numpy':np}\n",
    "\n",
    "for i in msg.items():\n",
    "    print('{} 版本:{}'.format(i[0],i[1].__version__))"
   ]
  },
  {
   "cell_type": "code",
   "execution_count": null,
   "metadata": {
    "colab": {
     "base_uri": "https://localhost:8080/"
    },
    "collapsed": true,
    "executionInfo": {
     "elapsed": 508,
     "status": "ok",
     "timestamp": 1717594250881,
     "user": {
      "displayName": "ELSA",
      "userId": "12819283556995342183"
     },
     "user_tz": -480
    },
    "id": "jZNiEAJab4tU",
    "outputId": "1df8bc8b-6637-476d-b75a-ad4c116dfeed"
   },
   "outputs": [],
   "source": [
    "# sklearn\n",
    "imr = SimpleImputer(missing_values = np.nan, strategy ='median')#mean\n",
    "\n",
    "# fit()-->傳送資料\n",
    "new_imr = imr.fit(df[['age']].values) #fit 一定要2維\n",
    "\n",
    "# transform()-->轉換資料\n",
    "# fit_transform()-->fit + transform\n",
    "# 這裡的df[['age']].values是將DataFrame轉換為NumPy陣列格式，因為SimpleImputer需要2維的輸入。\n",
    "# 填補缺失值\n",
    "# 這裡使用中位數(median)來填補缺失值\n",
    "# 如果要使用平均值(mean)，可以將strategy參數改為'mean'\n",
    "\n",
    "# 填值完的結果\n",
    "imr_data = new_imr.transform(df[['age']].values)\n",
    "\n",
    "#imr_data = imr.fit_transform(df[['age']].values)\n",
    "print(new_imr) # 印出填補器的資訊\n",
    "print(imr_data) # 印出填補後的資料"
   ]
  },
  {
   "cell_type": "code",
   "execution_count": null,
   "metadata": {
    "colab": {
     "base_uri": "https://localhost:8080/"
    },
    "executionInfo": {
     "elapsed": 304,
     "status": "ok",
     "timestamp": 1717594378789,
     "user": {
      "displayName": "ELSA",
      "userId": "12819283556995342183"
     },
     "user_tz": -480
    },
    "id": "fk3OWJUPb4tV",
    "outputId": "988928cd-e8f2-47d8-d5af-9ad530e5dfb9"
   },
   "outputs": [],
   "source": [
    "df[['age']] = imr_data #將算好的資料填回原df\n",
    "\n",
    "df.info()"
   ]
  },
  {
   "cell_type": "code",
   "execution_count": null,
   "metadata": {
    "colab": {
     "base_uri": "https://localhost:8080/"
    },
    "collapsed": true,
    "executionInfo": {
     "elapsed": 314,
     "status": "ok",
     "timestamp": 1717594572014,
     "user": {
      "displayName": "ELSA",
      "userId": "12819283556995342183"
     },
     "user_tz": -480
    },
    "id": "Udzp6xm4b4tV",
    "outputId": "77d98497-3399-40ee-91fc-fe210bbd8bc6"
   },
   "outputs": [],
   "source": [
    "# 處理文字\n",
    "imr_most = SimpleImputer(strategy ='most_frequent')#眾數\n",
    "imr_fill = SimpleImputer(strategy ='constant', fill_value= 'X')#指定填入\n",
    "\n",
    "imr_data01 = imr_most.fit_transform(df[['embarked']].values)\n",
    "imr_data02 = imr_fill.fit_transform(df[['embarked']].values)\n",
    "print(imr_data01)\n",
    "print(\"---------------\")\n",
    "print(imr_data02)"
   ]
  },
  {
   "cell_type": "code",
   "execution_count": null,
   "metadata": {
    "colab": {
     "base_uri": "https://localhost:8080/"
    },
    "executionInfo": {
     "elapsed": 289,
     "status": "ok",
     "timestamp": 1717594690787,
     "user": {
      "displayName": "ELSA",
      "userId": "12819283556995342183"
     },
     "user_tz": -480
    },
    "id": "5SbR3GN5b4tW",
    "outputId": "8bddb1eb-655c-45cc-8e36-535fa309eabd"
   },
   "outputs": [],
   "source": [
    "print(df.embarked.unique())"
   ]
  },
  {
   "cell_type": "code",
   "execution_count": null,
   "metadata": {
    "colab": {
     "base_uri": "https://localhost:8080/"
    },
    "executionInfo": {
     "elapsed": 275,
     "status": "ok",
     "timestamp": 1717594699699,
     "user": {
      "displayName": "ELSA",
      "userId": "12819283556995342183"
     },
     "user_tz": -480
    },
    "id": "sEktsrQTb4tW",
    "outputId": "1331b8dc-0c21-4d5e-f4d0-863f40e60f3a"
   },
   "outputs": [],
   "source": [
    "df[['embarked']] = imr_data01\n",
    "df[['embark_town']] = imr_data02\n",
    "df.info()"
   ]
  },
  {
   "cell_type": "markdown",
   "metadata": {
    "id": "HVc7c1hmb4tX"
   },
   "source": [
    "### Pandas 清理資料"
   ]
  },
  {
   "cell_type": "code",
   "execution_count": null,
   "metadata": {
    "id": "O20cCUm1b4tY",
    "outputId": "15872d58-b6a6-4c02-edd9-94cc5133305c"
   },
   "outputs": [],
   "source": [
    "df = sns.load_dataset('titanic')\n",
    "print(df.info())"
   ]
  },
  {
   "cell_type": "code",
   "execution_count": null,
   "metadata": {
    "id": "ciWKkvuwb4tY",
    "outputId": "7957fcd9-dd88-47d8-b28a-eae1480f6bd9"
   },
   "outputs": [],
   "source": [
    "# 取中位數\n",
    "a = df.loc[:, 'age'].median()\n",
    "\n",
    "df.loc[:,'age'] = df.loc[:, 'age'].fillna(a)\n",
    "\n",
    "print(df.info())"
   ]
  },
  {
   "cell_type": "code",
   "execution_count": null,
   "metadata": {
    "id": "KgvRlI0hb4tY"
   },
   "outputs": [],
   "source": [
    "df.fillna?"
   ]
  },
  {
   "cell_type": "code",
   "execution_count": null,
   "metadata": {
    "id": "wQiDRNKpb4tZ",
    "outputId": "c143f8b7-353f-476d-8782-efb8e5f57697"
   },
   "outputs": [],
   "source": [
    "# 調查'embarked'內容值（唯一值）\n",
    "df.loc[:,'embarked'].unique()\n"
   ]
  },
  {
   "cell_type": "code",
   "execution_count": null,
   "metadata": {
    "id": "eeLToXCYb4tZ",
    "outputId": "0e1cbce0-5ab7-4287-9a14-815603a7679e"
   },
   "outputs": [],
   "source": [
    "# 方法一\n",
    "#df.loc[:,'embarked'] = df.loc[:,'embarked'].fillna(method = 'ffill')\n",
    "\n",
    "df.loc[:,'embarked'].fillna(method = 'ffill', inplace = True)\n",
    "\n",
    "print(df.info())\n",
    "print(df.loc[:,'embarked'].unique())"
   ]
  },
  {
   "cell_type": "code",
   "execution_count": null,
   "metadata": {
    "id": "BQmE3s7hb4tZ",
    "outputId": "4a5e4a13-027d-4bb5-f4c7-c3b42c1fb1e8"
   },
   "outputs": [],
   "source": [
    "#方法二\n",
    "mod = df.loc[:,'embark_town'].mode()\n",
    "\n",
    "mod"
   ]
  },
  {
   "cell_type": "code",
   "execution_count": null,
   "metadata": {
    "id": "kGP361-7b4tZ",
    "outputId": "3b237f64-6384-45b7-8c4d-bbd55699b26f"
   },
   "outputs": [],
   "source": [
    "modStr = mod[0]\n",
    "df.loc[:,'embark_town'].fillna(modStr, inplace = True)\n",
    "print(modStr)\n",
    "\n",
    "print(df.info())\n",
    "print(df.loc[:,'embark_town'].unique())"
   ]
  },
  {
   "cell_type": "markdown",
   "metadata": {
    "id": "khH6GKnib4ta"
   },
   "source": [
    "# 刪除指定欄columns"
   ]
  },
  {
   "cell_type": "code",
   "execution_count": null,
   "metadata": {
    "id": "fqoZSZEob4ta",
    "outputId": "7fcb7fd3-6488-4dca-84b6-ba4112ed8f73"
   },
   "outputs": [],
   "source": [
    "df = df.drop(['deck'],axis=1)\n",
    "print(df.info())"
   ]
  },
  {
   "cell_type": "code",
   "execution_count": null,
   "metadata": {
    "id": "FNfsMAQbb4ta"
   },
   "outputs": [],
   "source": []
  }
 ],
 "metadata": {
  "colab": {
   "provenance": []
  },
  "kernelspec": {
   "display_name": "Python 3",
   "language": "python",
   "name": "python3"
  },
  "language_info": {
   "codemirror_mode": {
    "name": "ipython",
    "version": 3
   },
   "file_extension": ".py",
   "mimetype": "text/x-python",
   "name": "python",
   "nbconvert_exporter": "python",
   "pygments_lexer": "ipython3",
   "version": "3.12.10"
  }
 },
 "nbformat": 4,
 "nbformat_minor": 0
}
