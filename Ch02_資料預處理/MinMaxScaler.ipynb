{
 "cells": [
  {
   "cell_type": "markdown",
   "id": "de2bed8e",
   "metadata": {},
   "source": [
    "# MinMaxScaler"
   ]
  },
  {
   "cell_type": "markdown",
   "id": "7c54918f",
   "metadata": {},
   "source": [
    "## 載入套件"
   ]
  },
  {
   "cell_type": "code",
   "execution_count": 1,
   "id": "91e0f635",
   "metadata": {},
   "outputs": [],
   "source": [
    "import seaborn as sns\n",
    "import pandas as pd\n",
    "import numpy as np\n",
    "from matplotlib import pyplot as plt\n",
    "\n",
    "# 設定中文字型\n",
    "plt.rcParams['font.sans-serif'] = ['Arial Unicode MS'] # 或者使用其他支援中文的字型\n",
    "# 設定負號顯示\n",
    "plt.rcParams['axes.unicode_minus'] = False \n",
    "# 矯正負號\n",
    "plt.rcParams['axes.unicode_minus'] = False\n"
   ]
  },
  {
   "cell_type": "markdown",
   "id": "15c66c4f",
   "metadata": {},
   "source": [
    "## 載入資料"
   ]
  },
  {
   "cell_type": "code",
   "execution_count": 2,
   "id": "9c5abdfc",
   "metadata": {
    "scrolled": true
   },
   "outputs": [
    {
     "name": "stderr",
     "output_type": "stream",
     "text": [
      "findfont: Generic family 'sans-serif' not found because none of the following families were found: Arial Unicode MS\n",
      "findfont: Generic family 'sans-serif' not found because none of the following families were found: Arial Unicode MS\n",
      "findfont: Generic family 'sans-serif' not found because none of the following families were found: Arial Unicode MS\n",
      "findfont: Generic family 'sans-serif' not found because none of the following families were found: Arial Unicode MS\n",
      "findfont: Generic family 'sans-serif' not found because none of the following families were found: Arial Unicode MS\n",
      "findfont: Generic family 'sans-serif' not found because none of the following families were found: Arial Unicode MS\n",
      "findfont: Generic family 'sans-serif' not found because none of the following families were found: Arial Unicode MS\n",
      "findfont: Generic family 'sans-serif' not found because none of the following families were found: Arial Unicode MS\n",
      "findfont: Generic family 'sans-serif' not found because none of the following families were found: Arial Unicode MS\n",
      "findfont: Generic family 'sans-serif' not found because none of the following families were found: Arial Unicode MS\n",
      "findfont: Generic family 'sans-serif' not found because none of the following families were found: Arial Unicode MS\n",
      "findfont: Generic family 'sans-serif' not found because none of the following families were found: Arial Unicode MS\n",
      "findfont: Generic family 'sans-serif' not found because none of the following families were found: Arial Unicode MS\n",
      "findfont: Generic family 'sans-serif' not found because none of the following families were found: Arial Unicode MS\n",
      "findfont: Generic family 'sans-serif' not found because none of the following families were found: Arial Unicode MS\n",
      "findfont: Generic family 'sans-serif' not found because none of the following families were found: Arial Unicode MS\n",
      "findfont: Generic family 'sans-serif' not found because none of the following families were found: Arial Unicode MS\n",
      "findfont: Generic family 'sans-serif' not found because none of the following families were found: Arial Unicode MS\n",
      "findfont: Generic family 'sans-serif' not found because none of the following families were found: Arial Unicode MS\n",
      "findfont: Generic family 'sans-serif' not found because none of the following families were found: Arial Unicode MS\n",
      "findfont: Generic family 'sans-serif' not found because none of the following families were found: Arial Unicode MS\n",
      "findfont: Generic family 'sans-serif' not found because none of the following families were found: Arial Unicode MS\n",
      "findfont: Generic family 'sans-serif' not found because none of the following families were found: Arial Unicode MS\n",
      "findfont: Generic family 'sans-serif' not found because none of the following families were found: Arial Unicode MS\n",
      "findfont: Generic family 'sans-serif' not found because none of the following families were found: Arial Unicode MS\n",
      "findfont: Generic family 'sans-serif' not found because none of the following families were found: Arial Unicode MS\n",
      "findfont: Generic family 'sans-serif' not found because none of the following families were found: Arial Unicode MS\n",
      "findfont: Generic family 'sans-serif' not found because none of the following families were found: Arial Unicode MS\n",
      "findfont: Generic family 'sans-serif' not found because none of the following families were found: Arial Unicode MS\n",
      "findfont: Generic family 'sans-serif' not found because none of the following families were found: Arial Unicode MS\n",
      "findfont: Generic family 'sans-serif' not found because none of the following families were found: Arial Unicode MS\n",
      "findfont: Generic family 'sans-serif' not found because none of the following families were found: Arial Unicode MS\n",
      "findfont: Generic family 'sans-serif' not found because none of the following families were found: Arial Unicode MS\n",
      "findfont: Generic family 'sans-serif' not found because none of the following families were found: Arial Unicode MS\n",
      "findfont: Generic family 'sans-serif' not found because none of the following families were found: Arial Unicode MS\n",
      "findfont: Generic family 'sans-serif' not found because none of the following families were found: Arial Unicode MS\n",
      "findfont: Generic family 'sans-serif' not found because none of the following families were found: Arial Unicode MS\n",
      "findfont: Generic family 'sans-serif' not found because none of the following families were found: Arial Unicode MS\n",
      "findfont: Generic family 'sans-serif' not found because none of the following families were found: Arial Unicode MS\n",
      "findfont: Generic family 'sans-serif' not found because none of the following families were found: Arial Unicode MS\n",
      "findfont: Generic family 'sans-serif' not found because none of the following families were found: Arial Unicode MS\n",
      "findfont: Generic family 'sans-serif' not found because none of the following families were found: Arial Unicode MS\n",
      "findfont: Generic family 'sans-serif' not found because none of the following families were found: Arial Unicode MS\n",
      "findfont: Generic family 'sans-serif' not found because none of the following families were found: Arial Unicode MS\n",
      "findfont: Generic family 'sans-serif' not found because none of the following families were found: Arial Unicode MS\n",
      "findfont: Generic family 'sans-serif' not found because none of the following families were found: Arial Unicode MS\n",
      "findfont: Generic family 'sans-serif' not found because none of the following families were found: Arial Unicode MS\n",
      "findfont: Generic family 'sans-serif' not found because none of the following families were found: Arial Unicode MS\n",
      "findfont: Generic family 'sans-serif' not found because none of the following families were found: Arial Unicode MS\n",
      "findfont: Generic family 'sans-serif' not found because none of the following families were found: Arial Unicode MS\n",
      "findfont: Generic family 'sans-serif' not found because none of the following families were found: Arial Unicode MS\n"
     ]
    },
    {
     "data": {
      "image/png": "[encoded data removed]",
      "text/plain": [
       "<Figure size 800x500 with 1 Axes>"
      ]
     },
     "metadata": {},
     "output_type": "display_data"
    }
   ],
   "source": [
    "# 常態分配\n",
    "data = np.random.normal(10, 5, 10000)\n",
    "plt.figure(figsize=(8,5))\n",
    "plt.hist(data, 20)\n",
    "plt.show()"
   ]
  },
  {
   "attachments": {},
   "cell_type": "markdown",
   "id": "4414bf6b",
   "metadata": {},
   "source": [
    "## 轉換"
   ]
  },
  {
   "cell_type": "code",
   "execution_count": 3,
   "id": "e12dfcd9",
   "metadata": {
    "scrolled": false
   },
   "outputs": [
    {
     "name": "stderr",
     "output_type": "stream",
     "text": [
      "findfont: Generic family 'sans-serif' not found because none of the following families were found: Arial Unicode MS\n",
      "findfont: Generic family 'sans-serif' not found because none of the following families were found: Arial Unicode MS\n",
      "findfont: Generic family 'sans-serif' not found because none of the following families were found: Arial Unicode MS\n",
      "findfont: Generic family 'sans-serif' not found because none of the following families were found: Arial Unicode MS\n",
      "findfont: Generic family 'sans-serif' not found because none of the following families were found: Arial Unicode MS\n",
      "findfont: Generic family 'sans-serif' not found because none of the following families were found: Arial Unicode MS\n",
      "findfont: Generic family 'sans-serif' not found because none of the following families were found: Arial Unicode MS\n",
      "findfont: Generic family 'sans-serif' not found because none of the following families were found: Arial Unicode MS\n",
      "findfont: Generic family 'sans-serif' not found because none of the following families were found: Arial Unicode MS\n",
      "findfont: Generic family 'sans-serif' not found because none of the following families were found: Arial Unicode MS\n",
      "findfont: Generic family 'sans-serif' not found because none of the following families were found: Arial Unicode MS\n",
      "findfont: Generic family 'sans-serif' not found because none of the following families were found: Arial Unicode MS\n",
      "findfont: Generic family 'sans-serif' not found because none of the following families were found: Arial Unicode MS\n",
      "findfont: Generic family 'sans-serif' not found because none of the following families were found: Arial Unicode MS\n",
      "findfont: Generic family 'sans-serif' not found because none of the following families were found: Arial Unicode MS\n",
      "findfont: Generic family 'sans-serif' not found because none of the following families were found: Arial Unicode MS\n",
      "findfont: Generic family 'sans-serif' not found because none of the following families were found: Arial Unicode MS\n",
      "findfont: Generic family 'sans-serif' not found because none of the following families were found: Arial Unicode MS\n",
      "findfont: Generic family 'sans-serif' not found because none of the following families were found: Arial Unicode MS\n",
      "findfont: Generic family 'sans-serif' not found because none of the following families were found: Arial Unicode MS\n",
      "findfont: Generic family 'sans-serif' not found because none of the following families were found: Arial Unicode MS\n",
      "findfont: Generic family 'sans-serif' not found because none of the following families were found: Arial Unicode MS\n",
      "findfont: Generic family 'sans-serif' not found because none of the following families were found: Arial Unicode MS\n",
      "findfont: Generic family 'sans-serif' not found because none of the following families were found: Arial Unicode MS\n",
      "findfont: Generic family 'sans-serif' not found because none of the following families were found: Arial Unicode MS\n",
      "findfont: Generic family 'sans-serif' not found because none of the following families were found: Arial Unicode MS\n",
      "findfont: Generic family 'sans-serif' not found because none of the following families were found: Arial Unicode MS\n",
      "findfont: Generic family 'sans-serif' not found because none of the following families were found: Arial Unicode MS\n",
      "findfont: Generic family 'sans-serif' not found because none of the following families were found: Arial Unicode MS\n",
      "findfont: Generic family 'sans-serif' not found because none of the following families were found: Arial Unicode MS\n",
      "findfont: Generic family 'sans-serif' not found because none of the following families were found: Arial Unicode MS\n",
      "findfont: Generic family 'sans-serif' not found because none of the following families were found: Arial Unicode MS\n",
      "findfont: Generic family 'sans-serif' not found because none of the following families were found: Arial Unicode MS\n",
      "findfont: Generic family 'sans-serif' not found because none of the following families were found: Arial Unicode MS\n",
      "findfont: Generic family 'sans-serif' not found because none of the following families were found: Arial Unicode MS\n",
      "findfont: Generic family 'sans-serif' not found because none of the following families were found: Arial Unicode MS\n",
      "findfont: Generic family 'sans-serif' not found because none of the following families were found: Arial Unicode MS\n",
      "findfont: Generic family 'sans-serif' not found because none of the following families were found: Arial Unicode MS\n",
      "findfont: Generic family 'sans-serif' not found because none of the following families were found: Arial Unicode MS\n",
      "findfont: Generic family 'sans-serif' not found because none of the following families were found: Arial Unicode MS\n",
      "findfont: Generic family 'sans-serif' not found because none of the following families were found: Arial Unicode MS\n",
      "findfont: Generic family 'sans-serif' not found because none of the following families were found: Arial Unicode MS\n",
      "findfont: Generic family 'sans-serif' not found because none of the following families were found: Arial Unicode MS\n",
      "findfont: Generic family 'sans-serif' not found because none of the following families were found: Arial Unicode MS\n"
     ]
    },
    {
     "data": {
      "image/png": "[encoded data removed]",
      "text/plain": [
       "<Figure size 800x500 with 1 Axes>"
      ]
     },
     "metadata": {},
     "output_type": "display_data"
    }
   ],
   "source": [
    "from sklearn.preprocessing import MinMaxScaler\n",
    "\n",
    "scaler = MinMaxScaler()\n",
    "data_new =scaler.fit_transform(data.reshape(-1, 1))\n",
    "plt.figure(figsize=(8,5))\n",
    "plt.hist(data_new, 20)\n",
    "plt.show()"
   ]
  },
  {
   "cell_type": "code",
   "execution_count": null,
   "id": "bc2f41bc",
   "metadata": {},
   "outputs": [],
   "source": []
  },
  {
   "attachments": {},
   "cell_type": "markdown",
   "id": "cb9a52c8",
   "metadata": {},
   "source": [
    "## 均勻分配轉換"
   ]
  },
  {
   "cell_type": "code",
   "execution_count": 68,
   "id": "a13558de",
   "metadata": {
    "scrolled": false
   },
   "outputs": [
    {
     "name": "stderr",
     "output_type": "stream",
     "text": [
      "findfont: Generic family 'sans-serif' not found because none of the following families were found: Arial Unicode MS\n",
      "findfont: Generic family 'sans-serif' not found because none of the following families were found: Arial Unicode MS\n",
      "findfont: Generic family 'sans-serif' not found because none of the following families were found: Arial Unicode MS\n",
      "findfont: Generic family 'sans-serif' not found because none of the following families were found: Arial Unicode MS\n",
      "findfont: Generic family 'sans-serif' not found because none of the following families were found: Arial Unicode MS\n",
      "findfont: Generic family 'sans-serif' not found because none of the following families were found: Arial Unicode MS\n",
      "findfont: Generic family 'sans-serif' not found because none of the following families were found: Arial Unicode MS\n",
      "findfont: Generic family 'sans-serif' not found because none of the following families were found: Arial Unicode MS\n",
      "findfont: Generic family 'sans-serif' not found because none of the following families were found: Arial Unicode MS\n",
      "findfont: Generic family 'sans-serif' not found because none of the following families were found: Arial Unicode MS\n",
      "findfont: Generic family 'sans-serif' not found because none of the following families were found: Arial Unicode MS\n",
      "findfont: Generic family 'sans-serif' not found because none of the following families were found: Arial Unicode MS\n",
      "findfont: Generic family 'sans-serif' not found because none of the following families were found: Arial Unicode MS\n",
      "findfont: Generic family 'sans-serif' not found because none of the following families were found: Arial Unicode MS\n",
      "findfont: Generic family 'sans-serif' not found because none of the following families were found: Arial Unicode MS\n",
      "findfont: Generic family 'sans-serif' not found because none of the following families were found: Arial Unicode MS\n",
      "findfont: Generic family 'sans-serif' not found because none of the following families were found: Arial Unicode MS\n",
      "findfont: Generic family 'sans-serif' not found because none of the following families were found: Arial Unicode MS\n",
      "findfont: Generic family 'sans-serif' not found because none of the following families were found: Arial Unicode MS\n",
      "findfont: Generic family 'sans-serif' not found because none of the following families were found: Arial Unicode MS\n",
      "findfont: Generic family 'sans-serif' not found because none of the following families were found: Arial Unicode MS\n",
      "findfont: Generic family 'sans-serif' not found because none of the following families were found: Arial Unicode MS\n",
      "findfont: Generic family 'sans-serif' not found because none of the following families were found: Arial Unicode MS\n",
      "findfont: Generic family 'sans-serif' not found because none of the following families were found: Arial Unicode MS\n",
      "findfont: Generic family 'sans-serif' not found because none of the following families were found: Arial Unicode MS\n",
      "findfont: Generic family 'sans-serif' not found because none of the following families were found: Arial Unicode MS\n",
      "findfont: Generic family 'sans-serif' not found because none of the following families were found: Arial Unicode MS\n",
      "findfont: Generic family 'sans-serif' not found because none of the following families were found: Arial Unicode MS\n",
      "findfont: Generic family 'sans-serif' not found because none of the following families were found: Arial Unicode MS\n",
      "findfont: Generic family 'sans-serif' not found because none of the following families were found: Arial Unicode MS\n",
      "findfont: Generic family 'sans-serif' not found because none of the following families were found: Arial Unicode MS\n",
      "findfont: Generic family 'sans-serif' not found because none of the following families were found: Arial Unicode MS\n",
      "findfont: Generic family 'sans-serif' not found because none of the following families were found: Arial Unicode MS\n",
      "findfont: Generic family 'sans-serif' not found because none of the following families were found: Arial Unicode MS\n",
      "findfont: Generic family 'sans-serif' not found because none of the following families were found: Arial Unicode MS\n",
      "findfont: Generic family 'sans-serif' not found because none of the following families were found: Arial Unicode MS\n"
     ]
    },
    {
     "data": {
      "image/png": "[encoded data removed]",
      "text/plain": [
       "<Figure size 500x300 with 1 Axes>"
      ]
     },
     "metadata": {},
     "output_type": "display_data"
    }
   ],
   "source": [
    "# 均勻分配\n",
    "data = np.random.uniform(0, 10, 10000)\n",
    "plt.figure(figsize=(5,3))\n",
    "plt.hist(data, 20)\n",
    "plt.show()"
   ]
  },
  {
   "cell_type": "code",
   "execution_count": 69,
   "id": "d9ab55a7",
   "metadata": {
    "scrolled": true
   },
   "outputs": [
    {
     "name": "stderr",
     "output_type": "stream",
     "text": [
      "findfont: Generic family 'sans-serif' not found because none of the following families were found: Arial Unicode MS\n",
      "findfont: Generic family 'sans-serif' not found because none of the following families were found: Arial Unicode MS\n",
      "findfont: Generic family 'sans-serif' not found because none of the following families were found: Arial Unicode MS\n",
      "findfont: Generic family 'sans-serif' not found because none of the following families were found: Arial Unicode MS\n",
      "findfont: Generic family 'sans-serif' not found because none of the following families were found: Arial Unicode MS\n",
      "findfont: Generic family 'sans-serif' not found because none of the following families were found: Arial Unicode MS\n",
      "findfont: Generic family 'sans-serif' not found because none of the following families were found: Arial Unicode MS\n",
      "findfont: Generic family 'sans-serif' not found because none of the following families were found: Arial Unicode MS\n",
      "findfont: Generic family 'sans-serif' not found because none of the following families were found: Arial Unicode MS\n",
      "findfont: Generic family 'sans-serif' not found because none of the following families were found: Arial Unicode MS\n",
      "findfont: Generic family 'sans-serif' not found because none of the following families were found: Arial Unicode MS\n",
      "findfont: Generic family 'sans-serif' not found because none of the following families were found: Arial Unicode MS\n",
      "findfont: Generic family 'sans-serif' not found because none of the following families were found: Arial Unicode MS\n",
      "findfont: Generic family 'sans-serif' not found because none of the following families were found: Arial Unicode MS\n",
      "findfont: Generic family 'sans-serif' not found because none of the following families were found: Arial Unicode MS\n",
      "findfont: Generic family 'sans-serif' not found because none of the following families were found: Arial Unicode MS\n",
      "findfont: Generic family 'sans-serif' not found because none of the following families were found: Arial Unicode MS\n",
      "findfont: Generic family 'sans-serif' not found because none of the following families were found: Arial Unicode MS\n",
      "findfont: Generic family 'sans-serif' not found because none of the following families were found: Arial Unicode MS\n",
      "findfont: Generic family 'sans-serif' not found because none of the following families were found: Arial Unicode MS\n",
      "findfont: Generic family 'sans-serif' not found because none of the following families were found: Arial Unicode MS\n",
      "findfont: Generic family 'sans-serif' not found because none of the following families were found: Arial Unicode MS\n",
      "findfont: Generic family 'sans-serif' not found because none of the following families were found: Arial Unicode MS\n",
      "findfont: Generic family 'sans-serif' not found because none of the following families were found: Arial Unicode MS\n",
      "findfont: Generic family 'sans-serif' not found because none of the following families were found: Arial Unicode MS\n",
      "findfont: Generic family 'sans-serif' not found because none of the following families were found: Arial Unicode MS\n",
      "findfont: Generic family 'sans-serif' not found because none of the following families were found: Arial Unicode MS\n",
      "findfont: Generic family 'sans-serif' not found because none of the following families were found: Arial Unicode MS\n",
      "findfont: Generic family 'sans-serif' not found because none of the following families were found: Arial Unicode MS\n",
      "findfont: Generic family 'sans-serif' not found because none of the following families were found: Arial Unicode MS\n",
      "findfont: Generic family 'sans-serif' not found because none of the following families were found: Arial Unicode MS\n",
      "findfont: Generic family 'sans-serif' not found because none of the following families were found: Arial Unicode MS\n",
      "findfont: Generic family 'sans-serif' not found because none of the following families were found: Arial Unicode MS\n",
      "findfont: Generic family 'sans-serif' not found because none of the following families were found: Arial Unicode MS\n",
      "findfont: Generic family 'sans-serif' not found because none of the following families were found: Arial Unicode MS\n",
      "findfont: Generic family 'sans-serif' not found because none of the following families were found: Arial Unicode MS\n",
      "findfont: Generic family 'sans-serif' not found because none of the following families were found: Arial Unicode MS\n",
      "findfont: Generic family 'sans-serif' not found because none of the following families were found: Arial Unicode MS\n"
     ]
    },
    {
     "data": {
      "image/png": "[encoded data removed]",
      "text/plain": [
       "<Figure size 500x300 with 1 Axes>"
      ]
     },
     "metadata": {},
     "output_type": "display_data"
    }
   ],
   "source": [
    "from sklearn.preprocessing import MinMaxScaler\n",
    "scaler = MinMaxScaler()\n",
    "data_new =scaler.fit_transform(data.reshape(-1, 1))\n",
    "plt.figure(figsize=(5,3))\n",
    "plt.hist(data_new, 20)\n",
    "plt.show()"
   ]
  },
  {
   "attachments": {},
   "cell_type": "markdown",
   "id": "a8f6c6b3",
   "metadata": {},
   "source": [
    "## Gamma分配轉換"
   ]
  },
  {
   "cell_type": "code",
   "execution_count": 70,
   "id": "b11d3404",
   "metadata": {
    "scrolled": true
   },
   "outputs": [
    {
     "name": "stderr",
     "output_type": "stream",
     "text": [
      "findfont: Generic family 'sans-serif' not found because none of the following families were found: Arial Unicode MS\n",
      "findfont: Generic family 'sans-serif' not found because none of the following families were found: Arial Unicode MS\n",
      "findfont: Generic family 'sans-serif' not found because none of the following families were found: Arial Unicode MS\n",
      "findfont: Generic family 'sans-serif' not found because none of the following families were found: Arial Unicode MS\n",
      "findfont: Generic family 'sans-serif' not found because none of the following families were found: Arial Unicode MS\n",
      "findfont: Generic family 'sans-serif' not found because none of the following families were found: Arial Unicode MS\n",
      "findfont: Generic family 'sans-serif' not found because none of the following families were found: Arial Unicode MS\n",
      "findfont: Generic family 'sans-serif' not found because none of the following families were found: Arial Unicode MS\n",
      "findfont: Generic family 'sans-serif' not found because none of the following families were found: Arial Unicode MS\n",
      "findfont: Generic family 'sans-serif' not found because none of the following families were found: Arial Unicode MS\n",
      "findfont: Generic family 'sans-serif' not found because none of the following families were found: Arial Unicode MS\n",
      "findfont: Generic family 'sans-serif' not found because none of the following families were found: Arial Unicode MS\n",
      "findfont: Generic family 'sans-serif' not found because none of the following families were found: Arial Unicode MS\n",
      "findfont: Generic family 'sans-serif' not found because none of the following families were found: Arial Unicode MS\n",
      "findfont: Generic family 'sans-serif' not found because none of the following families were found: Arial Unicode MS\n",
      "findfont: Generic family 'sans-serif' not found because none of the following families were found: Arial Unicode MS\n",
      "findfont: Generic family 'sans-serif' not found because none of the following families were found: Arial Unicode MS\n",
      "findfont: Generic family 'sans-serif' not found because none of the following families were found: Arial Unicode MS\n",
      "findfont: Generic family 'sans-serif' not found because none of the following families were found: Arial Unicode MS\n",
      "findfont: Generic family 'sans-serif' not found because none of the following families were found: Arial Unicode MS\n",
      "findfont: Generic family 'sans-serif' not found because none of the following families were found: Arial Unicode MS\n",
      "findfont: Generic family 'sans-serif' not found because none of the following families were found: Arial Unicode MS\n",
      "findfont: Generic family 'sans-serif' not found because none of the following families were found: Arial Unicode MS\n",
      "findfont: Generic family 'sans-serif' not found because none of the following families were found: Arial Unicode MS\n",
      "findfont: Generic family 'sans-serif' not found because none of the following families were found: Arial Unicode MS\n",
      "findfont: Generic family 'sans-serif' not found because none of the following families were found: Arial Unicode MS\n",
      "findfont: Generic family 'sans-serif' not found because none of the following families were found: Arial Unicode MS\n",
      "findfont: Generic family 'sans-serif' not found because none of the following families were found: Arial Unicode MS\n",
      "findfont: Generic family 'sans-serif' not found because none of the following families were found: Arial Unicode MS\n",
      "findfont: Generic family 'sans-serif' not found because none of the following families were found: Arial Unicode MS\n",
      "findfont: Generic family 'sans-serif' not found because none of the following families were found: Arial Unicode MS\n",
      "findfont: Generic family 'sans-serif' not found because none of the following families were found: Arial Unicode MS\n",
      "findfont: Generic family 'sans-serif' not found because none of the following families were found: Arial Unicode MS\n",
      "findfont: Generic family 'sans-serif' not found because none of the following families were found: Arial Unicode MS\n",
      "findfont: Generic family 'sans-serif' not found because none of the following families were found: Arial Unicode MS\n",
      "findfont: Generic family 'sans-serif' not found because none of the following families were found: Arial Unicode MS\n",
      "findfont: Generic family 'sans-serif' not found because none of the following families were found: Arial Unicode MS\n",
      "findfont: Generic family 'sans-serif' not found because none of the following families were found: Arial Unicode MS\n",
      "findfont: Generic family 'sans-serif' not found because none of the following families were found: Arial Unicode MS\n",
      "findfont: Generic family 'sans-serif' not found because none of the following families were found: Arial Unicode MS\n",
      "findfont: Generic family 'sans-serif' not found because none of the following families were found: Arial Unicode MS\n",
      "findfont: Generic family 'sans-serif' not found because none of the following families were found: Arial Unicode MS\n",
      "findfont: Generic family 'sans-serif' not found because none of the following families were found: Arial Unicode MS\n",
      "findfont: Generic family 'sans-serif' not found because none of the following families were found: Arial Unicode MS\n",
      "findfont: Generic family 'sans-serif' not found because none of the following families were found: Arial Unicode MS\n",
      "findfont: Generic family 'sans-serif' not found because none of the following families were found: Arial Unicode MS\n",
      "findfont: Generic family 'sans-serif' not found because none of the following families were found: Arial Unicode MS\n",
      "findfont: Generic family 'sans-serif' not found because none of the following families were found: Arial Unicode MS\n",
      "findfont: Generic family 'sans-serif' not found because none of the following families were found: Arial Unicode MS\n",
      "findfont: Generic family 'sans-serif' not found because none of the following families were found: Arial Unicode MS\n"
     ]
    },
    {
     "data": {
      "image/png": "[encoded data removed]",
      "text/plain": [
       "<Figure size 500x300 with 1 Axes>"
      ]
     },
     "metadata": {},
     "output_type": "display_data"
    }
   ],
   "source": [
    "# Gamma 分配\n",
    "data = np.random.gamma(1, 2, 10000)\n",
    "plt.figure(figsize=(5,3))\n",
    "plt.hist(data, 20)\n",
    "plt.show()"
   ]
  },
  {
   "cell_type": "code",
   "execution_count": 71,
   "id": "35cb1742",
   "metadata": {
    "scrolled": true
   },
   "outputs": [
    {
     "name": "stderr",
     "output_type": "stream",
     "text": [
      "findfont: Generic family 'sans-serif' not found because none of the following families were found: Arial Unicode MS\n",
      "findfont: Generic family 'sans-serif' not found because none of the following families were found: Arial Unicode MS\n",
      "findfont: Generic family 'sans-serif' not found because none of the following families were found: Arial Unicode MS\n",
      "findfont: Generic family 'sans-serif' not found because none of the following families were found: Arial Unicode MS\n",
      "findfont: Generic family 'sans-serif' not found because none of the following families were found: Arial Unicode MS\n",
      "findfont: Generic family 'sans-serif' not found because none of the following families were found: Arial Unicode MS\n",
      "findfont: Generic family 'sans-serif' not found because none of the following families were found: Arial Unicode MS\n",
      "findfont: Generic family 'sans-serif' not found because none of the following families were found: Arial Unicode MS\n",
      "findfont: Generic family 'sans-serif' not found because none of the following families were found: Arial Unicode MS\n",
      "findfont: Generic family 'sans-serif' not found because none of the following families were found: Arial Unicode MS\n",
      "findfont: Generic family 'sans-serif' not found because none of the following families were found: Arial Unicode MS\n",
      "findfont: Generic family 'sans-serif' not found because none of the following families were found: Arial Unicode MS\n",
      "findfont: Generic family 'sans-serif' not found because none of the following families were found: Arial Unicode MS\n",
      "findfont: Generic family 'sans-serif' not found because none of the following families were found: Arial Unicode MS\n",
      "findfont: Generic family 'sans-serif' not found because none of the following families were found: Arial Unicode MS\n",
      "findfont: Generic family 'sans-serif' not found because none of the following families were found: Arial Unicode MS\n",
      "findfont: Generic family 'sans-serif' not found because none of the following families were found: Arial Unicode MS\n",
      "findfont: Generic family 'sans-serif' not found because none of the following families were found: Arial Unicode MS\n",
      "findfont: Generic family 'sans-serif' not found because none of the following families were found: Arial Unicode MS\n",
      "findfont: Generic family 'sans-serif' not found because none of the following families were found: Arial Unicode MS\n",
      "findfont: Generic family 'sans-serif' not found because none of the following families were found: Arial Unicode MS\n",
      "findfont: Generic family 'sans-serif' not found because none of the following families were found: Arial Unicode MS\n",
      "findfont: Generic family 'sans-serif' not found because none of the following families were found: Arial Unicode MS\n",
      "findfont: Generic family 'sans-serif' not found because none of the following families were found: Arial Unicode MS\n",
      "findfont: Generic family 'sans-serif' not found because none of the following families were found: Arial Unicode MS\n",
      "findfont: Generic family 'sans-serif' not found because none of the following families were found: Arial Unicode MS\n",
      "findfont: Generic family 'sans-serif' not found because none of the following families were found: Arial Unicode MS\n",
      "findfont: Generic family 'sans-serif' not found because none of the following families were found: Arial Unicode MS\n",
      "findfont: Generic family 'sans-serif' not found because none of the following families were found: Arial Unicode MS\n",
      "findfont: Generic family 'sans-serif' not found because none of the following families were found: Arial Unicode MS\n",
      "findfont: Generic family 'sans-serif' not found because none of the following families were found: Arial Unicode MS\n",
      "findfont: Generic family 'sans-serif' not found because none of the following families were found: Arial Unicode MS\n",
      "findfont: Generic family 'sans-serif' not found because none of the following families were found: Arial Unicode MS\n",
      "findfont: Generic family 'sans-serif' not found because none of the following families were found: Arial Unicode MS\n",
      "findfont: Generic family 'sans-serif' not found because none of the following families were found: Arial Unicode MS\n",
      "findfont: Generic family 'sans-serif' not found because none of the following families were found: Arial Unicode MS\n",
      "findfont: Generic family 'sans-serif' not found because none of the following families were found: Arial Unicode MS\n",
      "findfont: Generic family 'sans-serif' not found because none of the following families were found: Arial Unicode MS\n",
      "findfont: Generic family 'sans-serif' not found because none of the following families were found: Arial Unicode MS\n",
      "findfont: Generic family 'sans-serif' not found because none of the following families were found: Arial Unicode MS\n",
      "findfont: Generic family 'sans-serif' not found because none of the following families were found: Arial Unicode MS\n",
      "findfont: Generic family 'sans-serif' not found because none of the following families were found: Arial Unicode MS\n",
      "findfont: Generic family 'sans-serif' not found because none of the following families were found: Arial Unicode MS\n",
      "findfont: Generic family 'sans-serif' not found because none of the following families were found: Arial Unicode MS\n"
     ]
    },
    {
     "data": {
      "image/png": "[encoded data removed]",
      "text/plain": [
       "<Figure size 500x300 with 1 Axes>"
      ]
     },
     "metadata": {},
     "output_type": "display_data"
    }
   ],
   "source": [
    "from sklearn.preprocessing import MinMaxScaler\n",
    "scaler = MinMaxScaler()\n",
    "data_new =scaler.fit_transform(data.reshape(-1, 1))\n",
    "plt.figure(figsize=(5,3))\n",
    "plt.hist(data_new, 20)\n",
    "plt.show()"
   ]
  },
  {
   "cell_type": "markdown",
   "id": "6286ae5d",
   "metadata": {},
   "source": [
    "## 簡單測試"
   ]
  },
  {
   "cell_type": "code",
   "execution_count": 72,
   "id": "b07e14d6",
   "metadata": {},
   "outputs": [
    {
     "name": "stdout",
     "output_type": "stream",
     "text": [
      "[-1.  2.] [ 1. 18.]\n"
     ]
    }
   ],
   "source": [
    "data = [[-1, 2], [-0.5, 6], [0, 10], [1, 18]]\n",
    "scaler = MinMaxScaler()\n",
    "scaler.fit(data)\n",
    "print(scaler.data_min_, scaler.data_max_)"
   ]
  },
  {
   "cell_type": "code",
   "execution_count": 73,
   "id": "d41cc837",
   "metadata": {
    "scrolled": false
   },
   "outputs": [
    {
     "name": "stdout",
     "output_type": "stream",
     "text": [
      "[[0.   0.  ]\n",
      " [0.25 0.25]\n",
      " [0.5  0.5 ]\n",
      " [1.   1.  ]]\n"
     ]
    }
   ],
   "source": [
    "data_new = scaler.transform(data)\n",
    "print(data_new)"
   ]
  },
  {
   "cell_type": "code",
   "execution_count": 74,
   "id": "67f721c2",
   "metadata": {},
   "outputs": [
    {
     "name": "stdout",
     "output_type": "stream",
     "text": [
      "[[-0.5    1.125]]\n"
     ]
    }
   ],
   "source": [
    "# 會超出範圍\n",
    "data2 = [[-2, 20]]\n",
    "data_new = scaler.transform(data2)\n",
    "print(data_new)"
   ]
  },
  {
   "attachments": {},
   "cell_type": "markdown",
   "id": "3d3f4bbf",
   "metadata": {},
   "source": [
    "## 資料還原"
   ]
  },
  {
   "cell_type": "code",
   "execution_count": 75,
   "id": "b3c260bb",
   "metadata": {
    "scrolled": false
   },
   "outputs": [
    {
     "data": {
      "text/plain": [
       "array([[-2., 20.]])"
      ]
     },
     "execution_count": 75,
     "metadata": {},
     "output_type": "execute_result"
    }
   ],
   "source": [
    "scaler.inverse_transform(data_new)"
   ]
  },
  {
   "attachments": {},
   "cell_type": "markdown",
   "id": "90bf1334",
   "metadata": {},
   "source": [
    "## 設定參數 feature_range，改變轉換後的範圍(-1, 1)"
   ]
  },
  {
   "cell_type": "code",
   "execution_count": 76,
   "id": "1ba4d9f7",
   "metadata": {
    "scrolled": true
   },
   "outputs": [
    {
     "name": "stdout",
     "output_type": "stream",
     "text": [
      "[[-1.  -1. ]\n",
      " [-0.5 -0.5]\n",
      " [ 0.   0. ]\n",
      " [ 1.   1. ]]\n"
     ]
    }
   ],
   "source": [
    "scaler = MinMaxScaler(feature_range=(-1, 1))\n",
    "data_new = scaler.fit_transform(data)\n",
    "print(data_new)"
   ]
  },
  {
   "cell_type": "code",
   "execution_count": 77,
   "id": "add404ca",
   "metadata": {},
   "outputs": [
    {
     "name": "stdout",
     "output_type": "stream",
     "text": [
      "[[-2.    1.25]]\n"
     ]
    }
   ],
   "source": [
    "data2 = [[-2, 20]]\n",
    "data_new = scaler.transform(data2)\n",
    "print(data_new)"
   ]
  },
  {
   "attachments": {},
   "cell_type": "markdown",
   "id": "1849eca8",
   "metadata": {},
   "source": [
    "## 設定參數 clip=True，強制裁剪，轉換後的資料不會超出範圍"
   ]
  },
  {
   "cell_type": "code",
   "execution_count": 78,
   "id": "ee76ff59",
   "metadata": {},
   "outputs": [
    {
     "name": "stdout",
     "output_type": "stream",
     "text": [
      "[[-1.  -1. ]\n",
      " [-0.5 -0.5]\n",
      " [ 0.   0. ]\n",
      " [ 1.   1. ]]\n"
     ]
    }
   ],
   "source": [
    "scaler = MinMaxScaler(clip=True, feature_range=(-1, 1))\n",
    "data_new = scaler.fit_transform(data)\n",
    "print(data_new)"
   ]
  },
  {
   "cell_type": "code",
   "execution_count": 79,
   "id": "3108ad4c",
   "metadata": {},
   "outputs": [
    {
     "name": "stdout",
     "output_type": "stream",
     "text": [
      "[[-1. -1.]]\n"
     ]
    }
   ],
   "source": [
    "# 不會超出範圍\n",
    "data2 = [[-2, 20]]\n",
    "data_new = scaler.fit_transform(data2)\n",
    "print(data_new)"
   ]
  },
  {
   "cell_type": "code",
   "execution_count": null,
   "id": "17dd5eaa",
   "metadata": {},
   "outputs": [],
   "source": []
  }
 ],
 "metadata": {
  "kernelspec": {
   "display_name": "Python 3",
   "language": "python",
   "name": "python3"
  },
  "language_info": {
   "codemirror_mode": {
    "name": "ipython",
    "version": 3
   },
   "file_extension": ".py",
   "mimetype": "text/x-python",
   "name": "python",
   "nbconvert_exporter": "python",
   "pygments_lexer": "ipython3",
   "version": "3.12.10"
  }
 },
 "nbformat": 4,
 "nbformat_minor": 5
}
