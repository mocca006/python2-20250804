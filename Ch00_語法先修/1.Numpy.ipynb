{
 "cells": [
  {
   "cell_type": "markdown",
   "metadata": {
    "id": "07dO_jUnSJE9"
   },
   "source": [
    "### 基本語法"
   ]
  },
  {
   "cell_type": "code",
   "execution_count": 22,
   "metadata": {},
   "outputs": [
    {
     "name": "stdout",
     "output_type": "stream",
     "text": [
      "[100.     1.    33.85  28.  ]\n"
     ]
    }
   ],
   "source": [
    "import numpy as np\n",
    "\n",
    "a = np.array([100, True, 33.85, 28])#元素類型必須相同\n",
    "print(a)"
   ]
  },
  {
   "cell_type": "markdown",
   "metadata": {
    "id": "kGouncGTSJE_"
   },
   "source": [
    "Numpy API：https://numpy.org/doc/stable/reference/generated/numpy.array.html"
   ]
  },
  {
   "cell_type": "code",
   "execution_count": 23,
   "metadata": {
    "colab": {
     "base_uri": "https://localhost:8080/"
    },
    "executionInfo": {
     "elapsed": 434,
     "status": "ok",
     "timestamp": 1716382950460,
     "user": {
      "displayName": "ELSA",
      "userId": "12819283556995342183"
     },
     "user_tz": -480
    },
    "id": "OqKQReiISJE_",
    "outputId": "3451f2fc-71e6-4d61-8624-4f1dd237436c"
   },
   "outputs": [
    {
     "name": "stdout",
     "output_type": "stream",
     "text": [
      "[[ 5 10 15]\n",
      " [ 2  4  6]\n",
      " [ 1  3  5]]\n",
      "[100]\n"
     ]
    }
   ],
   "source": [
    "import numpy as np\n",
    "\n",
    "k1 = np.array([[5,10,15],\n",
    "                    [2,4,6],\n",
    "                    [1,3,5]])\n",
    "\n",
    "k2 = np.array([100])\n",
    "\n",
    "k3 = np.array([[100],\n",
    "              [100],\n",
    "              [100]])\n",
    "print(k1)\n",
    "print(k2)"
   ]
  },
  {
   "cell_type": "code",
   "execution_count": 24,
   "metadata": {},
   "outputs": [
    {
     "name": "stdout",
     "output_type": "stream",
     "text": [
      "[[105 110 115]\n",
      " [102 104 106]\n",
      " [101 103 105]]\n"
     ]
    }
   ],
   "source": [
    "print(k1+k2) # 廣播機制"
   ]
  },
  {
   "cell_type": "code",
   "execution_count": 25,
   "metadata": {
    "colab": {
     "base_uri": "https://localhost:8080/"
    },
    "executionInfo": {
     "elapsed": 586,
     "status": "ok",
     "timestamp": 1716384565448,
     "user": {
      "displayName": "ELSA",
      "userId": "12819283556995342183"
     },
     "user_tz": -480
    },
    "id": "z6ZGufQjcOsq",
    "outputId": "8af4dc45-49ce-4876-c5c1-0146b48ed0a1"
   },
   "outputs": [
    {
     "name": "stdout",
     "output_type": "stream",
     "text": [
      "[10, 20, 30, 40, 50]\n",
      "[50 70 90]\n"
     ]
    }
   ],
   "source": [
    "#簡單計算\n",
    "\n",
    "x = [10,20,30]\n",
    "print(x+[40,50])#list 合併元素\n",
    "\n",
    "y = np.array(x)\n",
    "print(y+[40,50,60])#numpy會自動推播數量再進行計算"
   ]
  },
  {
   "cell_type": "code",
   "execution_count": 26,
   "metadata": {
    "colab": {
     "base_uri": "https://localhost:8080/"
    },
    "executionInfo": {
     "elapsed": 375,
     "status": "ok",
     "timestamp": 1716384791982,
     "user": {
      "displayName": "ELSA",
      "userId": "12819283556995342183"
     },
     "user_tz": -480
    },
    "id": "DZOdE-YRSJFA",
    "outputId": "ffd80aad-5879-484b-9701-974a43c7c0d3"
   },
   "outputs": [
    {
     "name": "stdout",
     "output_type": "stream",
     "text": [
      "<class 'numpy.ndarray'>\n",
      "[20 20 20]\n"
     ]
    }
   ],
   "source": [
    "A = np.array([10,10,10])\n",
    "print(type(A))\n",
    "print(A+10)\n"
   ]
  },
  {
   "cell_type": "code",
   "execution_count": 27,
   "metadata": {
    "colab": {
     "base_uri": "https://localhost:8080/"
    },
    "executionInfo": {
     "elapsed": 388,
     "status": "ok",
     "timestamp": 1716384999623,
     "user": {
      "displayName": "ELSA",
      "userId": "12819283556995342183"
     },
     "user_tz": -480
    },
    "id": "L1zZacdfSJFB",
    "outputId": "f2fa746d-9149-4c1c-d612-8d5edf9be7db"
   },
   "outputs": [
    {
     "name": "stdout",
     "output_type": "stream",
     "text": [
      "(6,)\n",
      "(3, 4)\n"
     ]
    }
   ],
   "source": [
    "a4 = np.array([11,12,13,14,15,16])\n",
    "a5 = np.array([[1,2,3,4],\n",
    "               [11,12,13,14],\n",
    "               [21,22,23,24]])\n",
    "#結構\n",
    "print(a4.shape)\n",
    "print(a5.shape)"
   ]
  },
  {
   "cell_type": "code",
   "execution_count": 28,
   "metadata": {
    "colab": {
     "base_uri": "https://localhost:8080/"
    },
    "executionInfo": {
     "elapsed": 392,
     "status": "ok",
     "timestamp": 1716385891891,
     "user": {
      "displayName": "ELSA",
      "userId": "12819283556995342183"
     },
     "user_tz": -480
    },
    "id": "BIhdQ6_GSJFB",
    "outputId": "300beb5f-2d89-473f-e84e-77a05323a8d9"
   },
   "outputs": [
    {
     "name": "stdout",
     "output_type": "stream",
     "text": [
      "[[11 12 13]\n",
      " [14 15 16]]\n",
      "[11 12 13 14 15 16]\n",
      "-------------------\n",
      "[[11 12]\n",
      " [13 14]\n",
      " [15 16]]\n",
      "[[11 12]\n",
      " [13 14]\n",
      " [15 16]]\n",
      "[[ 1  2]\n",
      " [ 3  4]\n",
      " [11 12]\n",
      " [13 14]\n",
      " [21 22]\n",
      " [23 24]]\n",
      "[[ 1  2  3  4 11 12 13 14 21 22 23 24]]\n"
     ]
    }
   ],
   "source": [
    "#改變結構\n",
    "print(a4.reshape(2,3))\n",
    "print(a4)\n",
    "print('-------------------')\n",
    "\n",
    "print(a4.reshape(3,-1))# -1代表自動調整計算\n",
    "print(a4.reshape(-1,2))\n",
    "\n",
    "print(a5.reshape(6,-1))# -1代表自動調整計算\n",
    "print(a5.reshape(-1,12)) # -1代表自動調整計算"
   ]
  },
  {
   "cell_type": "code",
   "execution_count": 29,
   "metadata": {
    "colab": {
     "base_uri": "https://localhost:8080/"
    },
    "executionInfo": {
     "elapsed": 417,
     "status": "ok",
     "timestamp": 1716386072857,
     "user": {
      "displayName": "ELSA",
      "userId": "12819283556995342183"
     },
     "user_tz": -480
    },
    "id": "GUOBVZzxlAH1",
    "outputId": "5a0c02a5-a67b-4513-a1c3-89b7686a5242"
   },
   "outputs": [
    {
     "name": "stdout",
     "output_type": "stream",
     "text": [
      "[ 1  2  3  4 11 12 13 14 21 22 23 24]\n"
     ]
    }
   ],
   "source": [
    "#轉成一維\n",
    "print(a5.reshape(-1))"
   ]
  },
  {
   "cell_type": "code",
   "execution_count": 30,
   "metadata": {
    "colab": {
     "base_uri": "https://localhost:8080/"
    },
    "executionInfo": {
     "elapsed": 461,
     "status": "ok",
     "timestamp": 1716808511209,
     "user": {
      "displayName": "ELSA",
      "userId": "12819283556995342183"
     },
     "user_tz": -480
    },
    "id": "Cfsrm55MSJFB",
    "outputId": "c2647fb2-0b97-4d88-944f-dc1f87d197d1"
   },
   "outputs": [
    {
     "name": "stdout",
     "output_type": "stream",
     "text": [
      "[86 75 89]\n",
      "89\n",
      "89\n"
     ]
    }
   ],
   "source": [
    "#讀取元素\n",
    "import numpy as np\n",
    "x = np.array([[86,75,89],\n",
    "              [77,62,81],\n",
    "              [82,69,85]])\n",
    "#指定單一位置，若位置不存在則出錯\n",
    "print(x[0])\n",
    "#print(x[5])\n",
    "print(x[0][2]) # 第一列第三個元素\n",
    "print(x[0,2]) # 第一列第三個元素"
   ]
  },
  {
   "cell_type": "code",
   "execution_count": 31,
   "metadata": {
    "colab": {
     "base_uri": "https://localhost:8080/"
    },
    "executionInfo": {
     "elapsed": 505,
     "status": "ok",
     "timestamp": 1716809373977,
     "user": {
      "displayName": "ELSA",
      "userId": "12819283556995342183"
     },
     "user_tz": -480
    },
    "id": "n63bosTnSJFB",
    "outputId": "afbc9847-e370-4833-f2ba-85566d90b901"
   },
   "outputs": [
    {
     "name": "stdout",
     "output_type": "stream",
     "text": [
      "[[86 75 89]\n",
      " [77 62 81]\n",
      " [82 69 85]]\n",
      "[[86 75 89]\n",
      " [77 62 81]]\n",
      "----------------\n",
      "[75]\n",
      "[75 89]\n",
      "[]\n",
      "[86 75 89]\n",
      "----------------\n",
      "[[86 75 89]\n",
      " [77 62 81]\n",
      " [82 69 85]]\n",
      "[[86 75 89]\n",
      " [77 62 81]\n",
      " [82 69 85]]\n",
      "----------------\n",
      "[86 75]\n",
      "[[75 89]\n",
      " [62 81]]\n"
     ]
    }
   ],
   "source": [
    "#slice 範圍選取，若位置不存在則返回[]\n",
    "print(x)\n",
    "print(x[:2])\n",
    "print('----------------')\n",
    "print(x[0][1:2])\n",
    "print(x[0][1: ])\n",
    "print(x[0][10:30])\n",
    "print(x[0][:20])\n",
    "print('----------------')\n",
    "print(x[:])\n",
    "print(x)\n",
    "print('----------------')\n",
    "print(x[0,0:2])\n",
    "print(x[:2, 1:])"
   ]
  },
  {
   "cell_type": "code",
   "execution_count": 32,
   "metadata": {
    "colab": {
     "base_uri": "https://localhost:8080/"
    },
    "executionInfo": {
     "elapsed": 484,
     "status": "ok",
     "timestamp": 1716809977040,
     "user": {
      "displayName": "ELSA",
      "userId": "12819283556995342183"
     },
     "user_tz": -480
    },
    "id": "jHtA_UqJSJFC",
    "outputId": "697bb1f5-3009-4483-d4d0-95fe3e4362bb"
   },
   "outputs": [
    {
     "name": "stdout",
     "output_type": "stream",
     "text": [
      "2\n",
      "[2 6 1]\n",
      "arr1:\n",
      "[[ 3 10]\n",
      " [ 9  6]\n",
      " [ 1  0]\n",
      " [ 1  9]\n",
      " [ 0  0]]\n",
      "-----------------------\n",
      "arr2:\n",
      "[0.72904971 0.43857224 0.0596779 ]\n"
     ]
    }
   ],
   "source": [
    "# 亂數\n",
    "np.random.seed(123)#固定亂數規則(基數)\n",
    "\n",
    "arr0 = np.random.randint(0, 11)#0-11(有包含11)之間產生一個隨機整數\n",
    "print(arr0)\n",
    "arr00 = np.random.randint(0, 11, 3)#0-11(有包含11)之間產生3個隨機整數\n",
    "print(arr00)\n",
    "\n",
    "arr1 = np.random.randint(0, 11, (5, 2))\n",
    "print('arr1:')\n",
    "print(arr1)\n",
    "print(\"-----------------------\")\n",
    "arr2 = np.random.rand(3)# 3個隨機小數，0-1之間(不含 1)\n",
    "print('arr2:')\n",
    "print(arr2)"
   ]
  },
  {
   "cell_type": "code",
   "execution_count": 33,
   "metadata": {
    "colab": {
     "base_uri": "https://localhost:8080/"
    },
    "executionInfo": {
     "elapsed": 500,
     "status": "ok",
     "timestamp": 1716810106014,
     "user": {
      "displayName": "ELSA",
      "userId": "12819283556995342183"
     },
     "user_tz": -480
    },
    "id": "J0x4cro2SJFC",
    "outputId": "15afcf32-e0dc-4f4d-d688-4d3703966204"
   },
   "outputs": [
    {
     "name": "stdout",
     "output_type": "stream",
     "text": [
      "['奇異果' '草莓' '蘋果']\n"
     ]
    }
   ],
   "source": [
    "np.random.seed(0)\n",
    "x = ['蘋果', '橘子', '香蕉', '鳳梨', '奇異果', '草莓']\n",
    "print(np.random.choice(x, 3))"
   ]
  },
  {
   "cell_type": "code",
   "execution_count": 34,
   "metadata": {
    "colab": {
     "base_uri": "https://localhost:8080/"
    },
    "executionInfo": {
     "elapsed": 439,
     "status": "ok",
     "timestamp": 1716810295755,
     "user": {
      "displayName": "ELSA",
      "userId": "12819283556995342183"
     },
     "user_tz": -480
    },
    "id": "PVHm2-F0SJFC",
    "outputId": "034a3b8d-def6-491e-917b-57dad0e31807"
   },
   "outputs": [
    {
     "name": "stdout",
     "output_type": "stream",
     "text": [
      "[0 1 2 3 4 5 6 7 8 9]\n",
      "[ True False False False False  True False False False False]\n",
      "[0 5]\n"
     ]
    }
   ],
   "source": [
    "# 條件套用\n",
    "arr = np.arange(10)#產生0~9的整數\n",
    "\n",
    "new_arr = arr%5==0\n",
    "print(arr)\n",
    "print(new_arr)\n",
    "print(arr[new_arr])"
   ]
  },
  {
   "cell_type": "markdown",
   "metadata": {
    "id": "2WfS7ObPSJFD"
   },
   "source": [
    "### 數學函式"
   ]
  },
  {
   "cell_type": "code",
   "execution_count": 35,
   "metadata": {
    "colab": {
     "base_uri": "https://localhost:8080/"
    },
    "executionInfo": {
     "elapsed": 444,
     "status": "ok",
     "timestamp": 1716810590792,
     "user": {
      "displayName": "ELSA",
      "userId": "12819283556995342183"
     },
     "user_tz": -480
    },
    "id": "W_KdUcL-SJFD",
    "outputId": "ce956a74-ac9e-4578-e475-bf4cea7ecf3c"
   },
   "outputs": [
    {
     "name": "stdout",
     "output_type": "stream",
     "text": [
      "[ 4 -9 16 -4 20]\n",
      "絕對值: [ 4  9 16  4 20]\n",
      "e為底數: [5.45981500e+01 8.10308393e+03 8.88611052e+06 5.45981500e+01\n",
      " 4.85165195e+08]\n",
      "平方根: [2.         3.         4.         2.         4.47213595]\n"
     ]
    }
   ],
   "source": [
    "arr = np.array([4, -9, 16, -4, 20])\n",
    "print(arr)\n",
    "arr_abs = np.abs(arr)\n",
    "print('絕對值:',arr_abs)\n",
    "print('e為底數:',np.exp(arr_abs))\n",
    "print('平方根:',np.sqrt(arr_abs))"
   ]
  },
  {
   "cell_type": "markdown",
   "metadata": {
    "id": "BZp7R3HFSJFD"
   },
   "source": [
    "## 統計計算"
   ]
  },
  {
   "cell_type": "code",
   "execution_count": 36,
   "metadata": {
    "colab": {
     "base_uri": "https://localhost:8080/"
    },
    "executionInfo": {
     "elapsed": 444,
     "status": "ok",
     "timestamp": 1716810785513,
     "user": {
      "displayName": "ELSA",
      "userId": "12819283556995342183"
     },
     "user_tz": -480
    },
    "id": "Ag5CvTYrSJFD",
    "outputId": "f55fb2d7-ff8f-414d-982c-b4182452789d"
   },
   "outputs": [
    {
     "name": "stdout",
     "output_type": "stream",
     "text": [
      "[[ 0  1  2  3]\n",
      " [ 4  5  6  7]\n",
      " [ 8  9 10 11]]\n"
     ]
    }
   ],
   "source": [
    "b1 = np.array(np.arange(12).reshape(3,-1))\n",
    "print(b1)"
   ]
  },
  {
   "cell_type": "code",
   "execution_count": 37,
   "metadata": {
    "colab": {
     "base_uri": "https://localhost:8080/"
    },
    "executionInfo": {
     "elapsed": 454,
     "status": "ok",
     "timestamp": 1716810848830,
     "user": {
      "displayName": "ELSA",
      "userId": "12819283556995342183"
     },
     "user_tz": -480
    },
    "id": "aPXEoqh3SJFD",
    "outputId": "1ab6bff6-a728-49f9-a8e5-bb3cedde7bb5"
   },
   "outputs": [
    {
     "name": "stdout",
     "output_type": "stream",
     "text": [
      "66\n",
      "[12 15 18 21]\n",
      "[ 6 22 38]\n"
     ]
    }
   ],
   "source": [
    "print(np.sum(b1))\n",
    "print(np.sum(b1, axis=0))#垂直向下\n",
    "print(np.sum(b1, axis=1))#水平向右"
   ]
  },
  {
   "cell_type": "code",
   "execution_count": 38,
   "metadata": {
    "colab": {
     "base_uri": "https://localhost:8080/"
    },
    "executionInfo": {
     "elapsed": 442,
     "status": "ok",
     "timestamp": 1716810967584,
     "user": {
      "displayName": "ELSA",
      "userId": "12819283556995342183"
     },
     "user_tz": -480
    },
    "id": "NXkQSSLbSJFE",
    "outputId": "fedc8afe-83a6-4ba1-ff11-119b98804707"
   },
   "outputs": [
    {
     "name": "stdout",
     "output_type": "stream",
     "text": [
      "[12 15 18 21]\n"
     ]
    }
   ],
   "source": [
    "print(sum(b1))#python內建函式"
   ]
  },
  {
   "cell_type": "code",
   "execution_count": 39,
   "metadata": {
    "colab": {
     "base_uri": "https://localhost:8080/"
    },
    "executionInfo": {
     "elapsed": 458,
     "status": "ok",
     "timestamp": 1716812874344,
     "user": {
      "displayName": "ELSA",
      "userId": "12819283556995342183"
     },
     "user_tz": -480
    },
    "id": "a7JmVBsBSJFE",
    "outputId": "d882b8f0-079b-4a09-ac47-bbfb593a2c52"
   },
   "outputs": [
    {
     "name": "stdout",
     "output_type": "stream",
     "text": [
      "垂直加總： [12 15 18 21]\n",
      "橫向加總： [ 6 22 38]\n",
      "------------------------------------\n",
      "加總： [12 15 18 21]\n",
      "平均： [4. 5. 6. 7.]\n",
      "中位數： [4. 5. 6. 7.]\n",
      "變異數： [10.66666667 10.66666667 10.66666667 10.66666667]\n",
      "標準差： [3.26598632 3.26598632 3.26598632 3.26598632]\n",
      "------------------------------------\n",
      "最大值： [ 8  9 10 11]\n",
      "最小值： [0 1 2 3]\n",
      "差距： [8 8 8 8]\n"
     ]
    }
   ],
   "source": [
    "print(\"垂直加總：\",np.sum(b1, axis=0))\n",
    "print(\"橫向加總：\",np.sum(b1, axis=1))\n",
    "print(\"------------------------------------\")\n",
    "print(\"加總：\",b1.sum(axis=0))\n",
    "\n",
    "print(\"平均：\",np.mean(b1, axis=0))\n",
    "print(\"中位數：\",np.median(b1, axis=0))\n",
    "\n",
    "print(\"變異數：\",np.var(b1, axis=0))\n",
    "print(\"標準差：\",np.std(b1, axis=0))\n",
    "print(\"------------------------------------\")\n",
    "\n",
    "print(\"最大值：\",np.max(b1, axis=0))\n",
    "print(\"最小值：\",np.min(b1, axis=0))\n",
    "\n",
    "print(\"差距：\",np.ptp(b1, axis=0))"
   ]
  },
  {
   "cell_type": "markdown",
   "metadata": {
    "id": "_ydvJYvDSJFE"
   },
   "source": [
    "## 數學函數"
   ]
  },
  {
   "cell_type": "code",
   "execution_count": 40,
   "metadata": {
    "colab": {
     "base_uri": "https://localhost:8080/"
    },
    "executionInfo": {
     "elapsed": 480,
     "status": "ok",
     "timestamp": 1716812951016,
     "user": {
      "displayName": "ELSA",
      "userId": "12819283556995342183"
     },
     "user_tz": -480
    },
    "id": "VeT3QdWuSJFE",
    "outputId": "e46c0c74-6d21-44a1-abd4-d006e0cfc46a"
   },
   "outputs": [
    {
     "name": "stdout",
     "output_type": "stream",
     "text": [
      "[1. 6. 9.]\n",
      "[1. 5. 9.]\n"
     ]
    }
   ],
   "source": [
    "#x0 = [1.234, 5.5558, 9.0]#5.5678\n",
    "#print(round(x0[1], 0))\n",
    "\n",
    "x1 = np.array([1.234, 5.5678, 9.0])\n",
    "R = np.round (x1)\n",
    "print(R)\n",
    "\n",
    "F = np.trunc(x1)\n",
    "print(F)"
   ]
  },
  {
   "cell_type": "code",
   "execution_count": 41,
   "metadata": {
    "colab": {
     "base_uri": "https://localhost:8080/"
    },
    "executionInfo": {
     "elapsed": 427,
     "status": "ok",
     "timestamp": 1716813138032,
     "user": {
      "displayName": "ELSA",
      "userId": "12819283556995342183"
     },
     "user_tz": -480
    },
    "id": "Q9AFbNgSSJFE",
    "outputId": "1ea7338f-87d4-4d01-f765-30dbbaa07c6b"
   },
   "outputs": [
    {
     "name": "stdout",
     "output_type": "stream",
     "text": [
      "[0.        1.        1.5849625]\n",
      "[0.         0.69314718 1.09861229]\n",
      "[0.         0.30103    0.47712125]\n"
     ]
    }
   ],
   "source": [
    "x2 = np.array([1,2,3])\n",
    "\n",
    "e1 = np.log2(x2)\n",
    "print(e1)\n",
    "\n",
    "e2 = np.log(x2)#loge, e=2.71828\n",
    "print(e2)\n",
    "\n",
    "e3 = np.log10(x2)\n",
    "print(e3)"
   ]
  },
  {
   "cell_type": "markdown",
   "metadata": {
    "id": "b4sacMKiSJFE"
   },
   "source": [
    "## 方程式求解"
   ]
  },
  {
   "cell_type": "code",
   "execution_count": 42,
   "metadata": {
    "executionInfo": {
     "elapsed": 1312,
     "status": "ok",
     "timestamp": 1716813326680,
     "user": {
      "displayName": "ELSA",
      "userId": "12819283556995342183"
     },
     "user_tz": -480
    },
    "id": "LmCILCGESJFF"
   },
   "outputs": [
    {
     "ename": "ModuleNotFoundError",
     "evalue": "No module named 'sympy'",
     "output_type": "error",
     "traceback": [
      "\u001b[31m---------------------------------------------------------------------------\u001b[39m",
      "\u001b[31mModuleNotFoundError\u001b[39m                       Traceback (most recent call last)",
      "\u001b[36mCell\u001b[39m\u001b[36m \u001b[39m\u001b[32mIn[42]\u001b[39m\u001b[32m, line 1\u001b[39m\n\u001b[32m----> \u001b[39m\u001b[32m1\u001b[39m \u001b[38;5;28;01mfrom\u001b[39;00m\u001b[38;5;250m \u001b[39m\u001b[34;01msympy\u001b[39;00m\u001b[34;01m.\u001b[39;00m\u001b[34;01msolvers\u001b[39;00m\u001b[38;5;250m \u001b[39m\u001b[38;5;28;01mimport\u001b[39;00m solve\n\u001b[32m      2\u001b[39m \u001b[38;5;28;01mfrom\u001b[39;00m\u001b[38;5;250m \u001b[39m\u001b[34;01msympy\u001b[39;00m\u001b[38;5;250m \u001b[39m\u001b[38;5;28;01mimport\u001b[39;00m Symbol\n",
      "\u001b[31mModuleNotFoundError\u001b[39m: No module named 'sympy'"
     ]
    }
   ],
   "source": [
    "from sympy.solvers import solve\n",
    "from sympy import Symbol"
   ]
  },
  {
   "cell_type": "code",
   "execution_count": null,
   "metadata": {
    "colab": {
     "base_uri": "https://localhost:8080/"
    },
    "executionInfo": {
     "elapsed": 3,
     "status": "ok",
     "timestamp": 1716813428786,
     "user": {
      "displayName": "ELSA",
      "userId": "12819283556995342183"
     },
     "user_tz": -480
    },
    "id": "o0aklkX8SJFF",
    "outputId": "a1c86948-1aa4-4252-b186-2117aa370e82"
   },
   "outputs": [],
   "source": [
    "x = Symbol('x')\n",
    "print(solve(x**3-1, x))"
   ]
  },
  {
   "cell_type": "code",
   "execution_count": null,
   "metadata": {
    "colab": {
     "base_uri": "https://localhost:8080/"
    },
    "executionInfo": {
     "elapsed": 439,
     "status": "ok",
     "timestamp": 1716813502597,
     "user": {
      "displayName": "ELSA",
      "userId": "12819283556995342183"
     },
     "user_tz": -480
    },
    "id": "YP4fyZvSSJFF",
    "outputId": "b4644fd6-bbef-484a-fbd6-9d233b206477"
   },
   "outputs": [],
   "source": [
    "x1 = Symbol('x1')\n",
    "y1 = Symbol('y1')\n",
    "\n",
    "print(solve([x1+y1-5, x1-y1-1], x1,y1))"
   ]
  },
  {
   "cell_type": "code",
   "execution_count": null,
   "metadata": {
    "colab": {
     "base_uri": "https://localhost:8080/"
    },
    "executionInfo": {
     "elapsed": 3,
     "status": "ok",
     "timestamp": 1716813607367,
     "user": {
      "displayName": "ELSA",
      "userId": "12819283556995342183"
     },
     "user_tz": -480
    },
    "id": "z6ixxGzSSJFF",
    "outputId": "2c91554d-9c39-45a4-af17-359925f69290"
   },
   "outputs": [],
   "source": [
    "print(((x+2)*4+3*(x-2)).subs(x, 2))"
   ]
  }
 ],
 "metadata": {
  "colab": {
   "provenance": []
  },
  "kernelspec": {
   "display_name": "Python 3",
   "language": "python",
   "name": "python3"
  },
  "language_info": {
   "codemirror_mode": {
    "name": "ipython",
    "version": 3
   },
   "file_extension": ".py",
   "mimetype": "text/x-python",
   "name": "python",
   "nbconvert_exporter": "python",
   "pygments_lexer": "ipython3",
   "version": "3.12.10"
  }
 },
 "nbformat": 4,
 "nbformat_minor": 0
}
