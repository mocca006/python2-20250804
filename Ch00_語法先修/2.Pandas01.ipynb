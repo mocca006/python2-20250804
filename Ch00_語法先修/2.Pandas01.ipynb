{
 "cells": [
  {
   "cell_type": "markdown",
   "id": "5601d1e1",
   "metadata": {
    "id": "5601d1e1"
   },
   "source": [
    "# Pandas\n",
    "## 基本操作"
   ]
  },
  {
   "cell_type": "code",
   "execution_count": 2,
   "id": "d6884cc4",
   "metadata": {
    "id": "d6884cc4"
   },
   "outputs": [],
   "source": [
    "import numpy as np\n",
    "import pandas as pd"
   ]
  },
  {
   "cell_type": "markdown",
   "id": "828b1aa9",
   "metadata": {
    "id": "828b1aa9"
   },
   "source": [
    "## Series : 單欄/一維"
   ]
  },
  {
   "cell_type": "code",
   "execution_count": 3,
   "id": "95fd4324",
   "metadata": {
    "colab": {
     "base_uri": "https://localhost:8080/"
    },
    "executionInfo": {
     "elapsed": 306,
     "status": "ok",
     "timestamp": 1716814609039,
     "user": {
      "displayName": "ELSA",
      "userId": "12819283556995342183"
     },
     "user_tz": -480
    },
    "id": "95fd4324",
    "outputId": "5d6680e3-b457-4611-d250-92fb417e4721"
   },
   "outputs": [
    {
     "name": "stdout",
     "output_type": "stream",
     "text": [
      "0    78\n",
      "1    82\n",
      "2    86\n",
      "3    65\n",
      "dtype: int64\n",
      "A    78\n",
      "B    82\n",
      "C    86\n",
      "D    65\n",
      "dtype: int64\n",
      "78 78\n",
      "a    78\n",
      "b    82\n",
      "c    86\n",
      "d    65\n",
      "dtype: int64\n"
     ]
    },
    {
     "name": "stderr",
     "output_type": "stream",
     "text": [
      "C:\\Users\\monic\\AppData\\Local\\Temp\\ipykernel_17312\\648501275.py:6: FutureWarning: Series.__getitem__ treating keys as positions is deprecated. In a future version, integer keys will always be treated as labels (consistent with DataFrame behavior). To access a value by position, use `ser.iloc[pos]`\n",
      "  print(s1[0], s1[\"A\"])\n"
     ]
    }
   ],
   "source": [
    "s1 = pd.Series([78,82,86,65]) # default index 0,1,2,3\n",
    "print(s1)\n",
    "\n",
    "s1 = pd.Series([78,82,86,65], index=['A','B','C','D'])#list(\"ABCD\")\n",
    "print(s1)\n",
    "print(s1[0], s1[\"A\"])\n",
    "\n",
    "s1 = pd.Series({'a':78,'b':82,'c':86,'d':65}) # dictionary\n",
    "print(s1)"
   ]
  },
  {
   "cell_type": "code",
   "execution_count": 46,
   "id": "e436aa2a",
   "metadata": {
    "colab": {
     "base_uri": "https://localhost:8080/"
    },
    "executionInfo": {
     "elapsed": 347,
     "status": "ok",
     "timestamp": 1716815808471,
     "user": {
      "displayName": "ELSA",
      "userId": "12819283556995342183"
     },
     "user_tz": -480
    },
    "id": "e436aa2a",
    "outputId": "d9d3af4a-286f-4000-e4f7-a613c2fe8ee2",
    "scrolled": true
   },
   "outputs": [
    {
     "name": "stdout",
     "output_type": "stream",
     "text": [
      "78 <class 'numpy.int64'>\n",
      "78 <class 'numpy.int64'>\n",
      "78 <class 'numpy.int64'>\n",
      "----------------------------------------\n",
      "Index(['a', 'b', 'c', 'd'], dtype='object')\n",
      "[78 82 86 65]\n",
      "----------------------------------------\n",
      "a 78\n",
      "b 82\n",
      "c 86\n",
      "----------------------------------------\n",
      "b    82\n",
      "c    86\n",
      "dtype: int64\n",
      "----------------------------------------\n",
      "a    78\n",
      "b    82\n",
      "dtype: int64\n",
      "----------------------------------------\n",
      "Index(['a', 'b'], dtype='object')\n",
      "----------------------------------------\n",
      "[78 82]\n",
      "----------------------------------------\n",
      "b    82\n",
      "c    86\n",
      "dtype: int64\n",
      "Index(['b', 'c'], dtype='object')\n",
      "[82 86]\n"
     ]
    },
    {
     "name": "stderr",
     "output_type": "stream",
     "text": [
      "C:\\Users\\monic\\AppData\\Local\\Temp\\ipykernel_17312\\1160937552.py:1: FutureWarning: Series.__getitem__ treating keys as positions is deprecated. In a future version, integer keys will always be treated as labels (consistent with DataFrame behavior). To access a value by position, use `ser.iloc[pos]`\n",
      "  print(s1[0], type(s1[0])) # s1[0] is a value, not an index\n"
     ]
    }
   ],
   "source": [
    "print(s1[0], type(s1[0])) # s1[0] is a value, not an index \n",
    "print(s1['a'], type(s1['a'])) # s1['a'] is a value, not an index\n",
    "print(s1.a, type(s1.a)) #s1.a is an attribute of s1\n",
    "print('--'*20)\n",
    "\n",
    "print(s1.index) # index of series\n",
    "print(s1.values) # values of series\n",
    "print('--'*20)\n",
    "\n",
    "print(s1.index[0], s1.values[0]) # first index and value\n",
    "print(s1.index[1], s1.values[1]) # second index and value\n",
    "print(s1.index[2], s1.values[2]) # third index and value\n",
    "print('--'*20)\n",
    "\n",
    "print(s1['b':'c']) # slicing by index labels\n",
    "print('--'*20)\n",
    "\n",
    "print(s1[0:2]) # slicing by position\n",
    "print('--'*20)\n",
    "\n",
    "print(s1[0:2].index) # index of sliced series\n",
    "print('--'*20)\n",
    "\n",
    "print(s1[0:2].values) # values of sliced series\n",
    "print('--'*20)\n",
    "\n",
    "print(s1[s1 > 80]) # boolean indexing\n",
    "print(s1[s1 > 80].index) # index of boolean indexed series\n",
    "print(s1[s1 > 80].values) # values of boolean indexed series"
   ]
  },
  {
   "cell_type": "code",
   "execution_count": 5,
   "id": "ljBkGhBoUrLy",
   "metadata": {
    "colab": {
     "base_uri": "https://localhost:8080/"
    },
    "executionInfo": {
     "elapsed": 345,
     "status": "ok",
     "timestamp": 1716815960099,
     "user": {
      "displayName": "ELSA",
      "userId": "12819283556995342183"
     },
     "user_tz": -480
    },
    "id": "ljBkGhBoUrLy",
    "outputId": "f568175f-e8f5-49d0-8d39-0790d8d4695e"
   },
   "outputs": [
    {
     "name": "stdout",
     "output_type": "stream",
     "text": [
      "a    88\n",
      "b    92\n",
      "c    96\n",
      "d    75\n",
      "dtype: int64\n"
     ]
    }
   ],
   "source": [
    "print(s1+[10])"
   ]
  },
  {
   "cell_type": "code",
   "execution_count": 6,
   "id": "a0966eb7",
   "metadata": {
    "colab": {
     "base_uri": "https://localhost:8080/"
    },
    "executionInfo": {
     "elapsed": 332,
     "status": "ok",
     "timestamp": 1716816079752,
     "user": {
      "displayName": "ELSA",
      "userId": "12819283556995342183"
     },
     "user_tz": -480
    },
    "id": "a0966eb7",
    "outputId": "f3a155a2-c7aa-4ba4-fa52-05cd10cd13fd"
   },
   "outputs": [
    {
     "name": "stdout",
     "output_type": "stream",
     "text": [
      "a    78\n",
      "b    82\n",
      "c    86\n",
      "dtype: int64\n"
     ]
    }
   ],
   "source": [
    "print(s1[:'c'])#'c'有包含"
   ]
  },
  {
   "cell_type": "markdown",
   "id": "35f83e72",
   "metadata": {
    "id": "35f83e72"
   },
   "source": [
    "## DataFrame: 多欄/二維"
   ]
  },
  {
   "cell_type": "code",
   "execution_count": 7,
   "id": "LZw9IG-gVhAc",
   "metadata": {
    "colab": {
     "base_uri": "https://localhost:8080/",
     "height": 215
    },
    "executionInfo": {
     "elapsed": 332,
     "status": "ok",
     "timestamp": 1716816485294,
     "user": {
      "displayName": "ELSA",
      "userId": "12819283556995342183"
     },
     "user_tz": -480
    },
    "id": "LZw9IG-gVhAc",
    "outputId": "e4c24aeb-4d30-4966-f8bb-bb64a40ea6be"
   },
   "outputs": [
    {
     "name": "stdout",
     "output_type": "stream",
     "text": [
      "    0   1   2\n",
      "0  11  22  33\n",
      "1  31  32  33\n",
      "2  51  52  53\n"
     ]
    },
    {
     "data": {
      "application/vnd.microsoft.datawrangler.viewer.v0+json": {
       "columns": [
        {
         "name": "index",
         "rawType": "int64",
         "type": "integer"
        },
        {
         "name": "0",
         "rawType": "int64",
         "type": "integer"
        },
        {
         "name": "1",
         "rawType": "int64",
         "type": "integer"
        },
        {
         "name": "2",
         "rawType": "int64",
         "type": "integer"
        }
       ],
       "ref": "efb832b8-b598-4c30-a6b8-1c8f43aabbff",
       "rows": [
        [
         "0",
         "11",
         "22",
         "33"
        ],
        [
         "1",
         "31",
         "32",
         "33"
        ],
        [
         "2",
         "51",
         "52",
         "53"
        ]
       ],
       "shape": {
        "columns": 3,
        "rows": 3
       }
      },
      "text/html": [
       "<div>\n",
       "<style scoped>\n",
       "    .dataframe tbody tr th:only-of-type {\n",
       "        vertical-align: middle;\n",
       "    }\n",
       "\n",
       "    .dataframe tbody tr th {\n",
       "        vertical-align: top;\n",
       "    }\n",
       "\n",
       "    .dataframe thead th {\n",
       "        text-align: right;\n",
       "    }\n",
       "</style>\n",
       "<table border=\"1\" class=\"dataframe\">\n",
       "  <thead>\n",
       "    <tr style=\"text-align: right;\">\n",
       "      <th></th>\n",
       "      <th>0</th>\n",
       "      <th>1</th>\n",
       "      <th>2</th>\n",
       "    </tr>\n",
       "  </thead>\n",
       "  <tbody>\n",
       "    <tr>\n",
       "      <th>0</th>\n",
       "      <td>11</td>\n",
       "      <td>22</td>\n",
       "      <td>33</td>\n",
       "    </tr>\n",
       "    <tr>\n",
       "      <th>1</th>\n",
       "      <td>31</td>\n",
       "      <td>32</td>\n",
       "      <td>33</td>\n",
       "    </tr>\n",
       "    <tr>\n",
       "      <th>2</th>\n",
       "      <td>51</td>\n",
       "      <td>52</td>\n",
       "      <td>53</td>\n",
       "    </tr>\n",
       "  </tbody>\n",
       "</table>\n",
       "</div>"
      ],
      "text/plain": [
       "    0   1   2\n",
       "0  11  22  33\n",
       "1  31  32  33\n",
       "2  51  52  53"
      ]
     },
     "execution_count": 7,
     "metadata": {},
     "output_type": "execute_result"
    }
   ],
   "source": [
    "import pandas as pd\n",
    "\n",
    "df1 = pd.DataFrame([[11,22,33],\n",
    "                    [31,32,33],\n",
    "                    [51,52,53]]\n",
    "                  )\n",
    "print(df1)\n",
    "df1"
   ]
  },
  {
   "cell_type": "code",
   "execution_count": 8,
   "id": "c36645fa",
   "metadata": {
    "colab": {
     "base_uri": "https://localhost:8080/"
    },
    "executionInfo": {
     "elapsed": 315,
     "status": "ok",
     "timestamp": 1716816989419,
     "user": {
      "displayName": "ELSA",
      "userId": "12819283556995342183"
     },
     "user_tz": -480
    },
    "id": "c36645fa",
    "outputId": "5c542212-7fde-4471-ee69-01260a20dc6e"
   },
   "outputs": [
    {
     "name": "stdout",
     "output_type": "stream",
     "text": [
      "   a1  b1  c1\n",
      "X  11  22  33\n",
      "Y  31  32  33\n",
      "Z  51  52  53\n",
      "X    11\n",
      "Y    31\n",
      "Z    51\n",
      "Name: a1, dtype: int64\n",
      "-------------\n",
      "-------------\n",
      "Empty DataFrame\n",
      "Columns: [a1, b1, c1]\n",
      "Index: []\n"
     ]
    }
   ],
   "source": [
    "import pandas as pd\n",
    "\n",
    "df1 = pd.DataFrame([[11,22,33],\n",
    "                    [31,32,33],\n",
    "                    [51,52,53]],\n",
    "                   index= [\"X\",\"Y\",\"Z\"], #list(\"XYZ\")\n",
    "                   columns=['a1','b1','c1']\n",
    "                  )\n",
    "print(df1)\n",
    "print(df1['a1'])#以欄為主\n",
    "print('-------------')\n",
    "#print(df1['Z'])#無法讀取row\n",
    "print('-------------')\n",
    "print(df1['a1':'c1'])"
   ]
  },
  {
   "cell_type": "code",
   "execution_count": 9,
   "id": "dd604914",
   "metadata": {
    "colab": {
     "base_uri": "https://localhost:8080/"
    },
    "executionInfo": {
     "elapsed": 374,
     "status": "ok",
     "timestamp": 1716817708151,
     "user": {
      "displayName": "ELSA",
      "userId": "12819283556995342183"
     },
     "user_tz": -480
    },
    "id": "dd604914",
    "outputId": "b6dc272f-87ad-4f2a-a579-19082177e396"
   },
   "outputs": [
    {
     "name": "stdout",
     "output_type": "stream",
     "text": [
      "   name  score\n",
      "A   JOE     82\n",
      "B  MARY     81\n",
      "C   BEN     79\n",
      "-------------\n",
      "A     JOE\n",
      "B    MARY\n",
      "C     BEN\n",
      "Name: name, dtype: object\n",
      "A     JOE\n",
      "B    MARY\n",
      "C     BEN\n",
      "Name: name, dtype: object\n",
      "   name\n",
      "A   JOE\n",
      "B  MARY\n",
      "C   BEN\n"
     ]
    }
   ],
   "source": [
    "\n",
    "df2 = pd.DataFrame({'name':['JOE',\"MARY\",\"BEN\"],\n",
    "                   \"score\":[82,81,79]},\n",
    "                  index=list(\"ABC\"))\n",
    "print(df2)\n",
    "#print(df2['A'][ \"score\"])\n",
    "print('-------------')\n",
    "#以欄為主\n",
    "print(df2.name) #單欄，一維\n",
    "print(df2['name'])#單欄，一維\n",
    "print(df2[['name']])#多欄，二維\n",
    "#print(df2[0])\n",
    "#print(df2['A'][[ \"name\"]])\n"
   ]
  },
  {
   "cell_type": "code",
   "execution_count": 10,
   "id": "321f5114",
   "metadata": {
    "colab": {
     "base_uri": "https://localhost:8080/",
     "height": 143
    },
    "executionInfo": {
     "elapsed": 923,
     "status": "ok",
     "timestamp": 1716981291049,
     "user": {
      "displayName": "ELSA",
      "userId": "12819283556995342183"
     },
     "user_tz": -480
    },
    "id": "321f5114",
    "outputId": "4a182bf1-e630-4def-d20f-a056d086f7eb"
   },
   "outputs": [
    {
     "data": {
      "application/vnd.microsoft.datawrangler.viewer.v0+json": {
       "columns": [
        {
         "name": "index",
         "rawType": "int64",
         "type": "integer"
        },
        {
         "name": "name",
         "rawType": "object",
         "type": "string"
        },
        {
         "name": "no",
         "rawType": "int64",
         "type": "integer"
        },
        {
         "name": "start_end",
         "rawType": "object",
         "type": "string"
        },
        {
         "name": "step",
         "rawType": "int64",
         "type": "integer"
        },
        {
         "name": "logo",
         "rawType": "object",
         "type": "string"
        },
        {
         "name": "car_no",
         "rawType": "object",
         "type": "string"
        }
       ],
       "ref": "1cb19f24-ed8f-4906-88b0-fac9d84af7f1",
       "rows": [
        [
         "0",
         "雲林客運",
         "101",
         "斗六棒球場-受天宮-環球科技大學",
         "3",
         "凱勝比亞迪",
         "KGETM3EV-K9DA"
        ],
        [
         "1",
         "雲林客運",
         "102",
         "斗六火車站-崙仔集會所",
         "3",
         "凱勝比亞迪",
         "KGETM3EV-K9DA"
        ],
        [
         "2",
         "雲林客運",
         "201",
         "高鐵雲林站-雲林科技大學",
         "6",
         "馨盛比亞迪",
         "SYTCITY8E-K9"
        ]
       ],
       "shape": {
        "columns": 6,
        "rows": 3
       }
      },
      "text/html": [
       "<div>\n",
       "<style scoped>\n",
       "    .dataframe tbody tr th:only-of-type {\n",
       "        vertical-align: middle;\n",
       "    }\n",
       "\n",
       "    .dataframe tbody tr th {\n",
       "        vertical-align: top;\n",
       "    }\n",
       "\n",
       "    .dataframe thead th {\n",
       "        text-align: right;\n",
       "    }\n",
       "</style>\n",
       "<table border=\"1\" class=\"dataframe\">\n",
       "  <thead>\n",
       "    <tr style=\"text-align: right;\">\n",
       "      <th></th>\n",
       "      <th>name</th>\n",
       "      <th>no</th>\n",
       "      <th>start_end</th>\n",
       "      <th>step</th>\n",
       "      <th>logo</th>\n",
       "      <th>car_no</th>\n",
       "    </tr>\n",
       "  </thead>\n",
       "  <tbody>\n",
       "    <tr>\n",
       "      <th>0</th>\n",
       "      <td>雲林客運</td>\n",
       "      <td>101</td>\n",
       "      <td>斗六棒球場-受天宮-環球科技大學</td>\n",
       "      <td>3</td>\n",
       "      <td>凱勝比亞迪</td>\n",
       "      <td>KGETM3EV-K9DA</td>\n",
       "    </tr>\n",
       "    <tr>\n",
       "      <th>1</th>\n",
       "      <td>雲林客運</td>\n",
       "      <td>102</td>\n",
       "      <td>斗六火車站-崙仔集會所</td>\n",
       "      <td>3</td>\n",
       "      <td>凱勝比亞迪</td>\n",
       "      <td>KGETM3EV-K9DA</td>\n",
       "    </tr>\n",
       "    <tr>\n",
       "      <th>2</th>\n",
       "      <td>雲林客運</td>\n",
       "      <td>201</td>\n",
       "      <td>高鐵雲林站-雲林科技大學</td>\n",
       "      <td>6</td>\n",
       "      <td>馨盛比亞迪</td>\n",
       "      <td>SYTCITY8E-K9</td>\n",
       "    </tr>\n",
       "  </tbody>\n",
       "</table>\n",
       "</div>"
      ],
      "text/plain": [
       "   name   no         start_end  step   logo         car_no\n",
       "0  雲林客運  101  斗六棒球場-受天宮-環球科技大學     3  凱勝比亞迪  KGETM3EV-K9DA\n",
       "1  雲林客運  102       斗六火車站-崙仔集會所     3  凱勝比亞迪  KGETM3EV-K9DA\n",
       "2  雲林客運  201      高鐵雲林站-雲林科技大學     6  馨盛比亞迪   SYTCITY8E-K9"
      ]
     },
     "execution_count": 10,
     "metadata": {},
     "output_type": "execute_result"
    }
   ],
   "source": [
    "import pandas as pd\n",
    "\n",
    "df3 = pd.read_csv(\"34193e9.csv\"\n",
    "                 ,header=None #不要讓第一筆資料來當標題\n",
    "                 , names=['name','no','start_end','step','logo','car_no']\n",
    "                 )\n",
    "#預設會抓第一列當欄位名，header=None不要抓第一列，可用names=[]來指定欄位名\n",
    "\n",
    "df3"
   ]
  },
  {
   "cell_type": "code",
   "execution_count": 11,
   "id": "ad615334",
   "metadata": {
    "colab": {
     "base_uri": "https://localhost:8080/",
     "height": 0
    },
    "collapsed": true,
    "executionInfo": {
     "elapsed": 491,
     "status": "ok",
     "timestamp": 1716981380837,
     "user": {
      "displayName": "ELSA",
      "userId": "12819283556995342183"
     },
     "user_tz": -480
    },
    "id": "ad615334",
    "outputId": "e9782524-2d91-4dc0-a0c3-3a17219872b5"
   },
   "outputs": [
    {
     "data": {
      "application/vnd.microsoft.datawrangler.viewer.v0+json": {
       "columns": [
        {
         "name": "index",
         "rawType": "int64",
         "type": "integer"
        },
        {
         "name": "Age",
         "rawType": "int64",
         "type": "integer"
        },
        {
         "name": "Gender",
         "rawType": "object",
         "type": "string"
        },
        {
         "name": "Smoking",
         "rawType": "object",
         "type": "string"
        },
        {
         "name": "Hx Smoking",
         "rawType": "object",
         "type": "string"
        },
        {
         "name": "Hx Radiothreapy",
         "rawType": "object",
         "type": "string"
        },
        {
         "name": "Thyroid Function",
         "rawType": "object",
         "type": "string"
        },
        {
         "name": "Physical Examination",
         "rawType": "object",
         "type": "string"
        },
        {
         "name": "Adenopathy",
         "rawType": "object",
         "type": "string"
        },
        {
         "name": "Pathology",
         "rawType": "object",
         "type": "string"
        },
        {
         "name": "Focality",
         "rawType": "object",
         "type": "string"
        },
        {
         "name": "Risk",
         "rawType": "object",
         "type": "string"
        },
        {
         "name": "T",
         "rawType": "object",
         "type": "string"
        },
        {
         "name": "N",
         "rawType": "object",
         "type": "string"
        },
        {
         "name": "M",
         "rawType": "object",
         "type": "string"
        },
        {
         "name": "Stage",
         "rawType": "object",
         "type": "string"
        },
        {
         "name": "Response",
         "rawType": "object",
         "type": "string"
        },
        {
         "name": "Recurred",
         "rawType": "object",
         "type": "string"
        }
       ],
       "ref": "c73351f5-ad91-405b-849b-869821cfe415",
       "rows": [
        [
         "0",
         "27",
         "F",
         "No",
         "No",
         "No",
         "Euthyroid",
         "Single nodular goiter-left",
         "No",
         "Micropapillary",
         "Uni-Focal",
         "Low",
         "T1a",
         "N0",
         "M0",
         "I",
         "Indeterminate",
         "No"
        ],
        [
         "1",
         "34",
         "F",
         "No",
         "Yes",
         "No",
         "Euthyroid",
         "Multinodular goiter",
         "No",
         "Micropapillary",
         "Uni-Focal",
         "Low",
         "T1a",
         "N0",
         "M0",
         "I",
         "Excellent",
         "No"
        ],
        [
         "2",
         "30",
         "F",
         "No",
         "No",
         "No",
         "Euthyroid",
         "Single nodular goiter-right",
         "No",
         "Micropapillary",
         "Uni-Focal",
         "Low",
         "T1a",
         "N0",
         "M0",
         "I",
         "Excellent",
         "No"
        ],
        [
         "3",
         "62",
         "F",
         "No",
         "No",
         "No",
         "Euthyroid",
         "Single nodular goiter-right",
         "No",
         "Micropapillary",
         "Uni-Focal",
         "Low",
         "T1a",
         "N0",
         "M0",
         "I",
         "Excellent",
         "No"
        ],
        [
         "4",
         "62",
         "F",
         "No",
         "No",
         "No",
         "Euthyroid",
         "Multinodular goiter",
         "No",
         "Micropapillary",
         "Multi-Focal",
         "Low",
         "T1a",
         "N0",
         "M0",
         "I",
         "Excellent",
         "No"
        ],
        [
         "5",
         "52",
         "M",
         "Yes",
         "No",
         "No",
         "Euthyroid",
         "Multinodular goiter",
         "No",
         "Micropapillary",
         "Multi-Focal",
         "Low",
         "T1a",
         "N0",
         "M0",
         "I",
         "Indeterminate",
         "No"
        ],
        [
         "6",
         "41",
         "F",
         "No",
         "Yes",
         "No",
         "Clinical Hyperthyroidism",
         "Single nodular goiter-right",
         "No",
         "Micropapillary",
         "Uni-Focal",
         "Low",
         "T1a",
         "N0",
         "M0",
         "I",
         "Excellent",
         "No"
        ],
        [
         "7",
         "46",
         "F",
         "No",
         "No",
         "No",
         "Euthyroid",
         "Single nodular goiter-right",
         "No",
         "Micropapillary",
         "Uni-Focal",
         "Low",
         "T1a",
         "N0",
         "M0",
         "I",
         "Excellent",
         "No"
        ],
        [
         "8",
         "51",
         "F",
         "No",
         "No",
         "No",
         "Euthyroid",
         "Single nodular goiter-right",
         "No",
         "Micropapillary",
         "Uni-Focal",
         "Low",
         "T1a",
         "N0",
         "M0",
         "I",
         "Excellent",
         "No"
        ],
        [
         "9",
         "40",
         "F",
         "No",
         "No",
         "No",
         "Euthyroid",
         "Single nodular goiter-right",
         "No",
         "Micropapillary",
         "Uni-Focal",
         "Low",
         "T1a",
         "N0",
         "M0",
         "I",
         "Excellent",
         "No"
        ],
        [
         "10",
         "75",
         "F",
         "No",
         "No",
         "No",
         "Euthyroid",
         "Single nodular goiter-right",
         "No",
         "Micropapillary",
         "Uni-Focal",
         "Low",
         "T1a",
         "N0",
         "M0",
         "I",
         "Excellent",
         "No"
        ],
        [
         "11",
         "59",
         "F",
         "No",
         "No",
         "No",
         "Euthyroid",
         "Single nodular goiter-left",
         "No",
         "Micropapillary",
         "Uni-Focal",
         "Low",
         "T1a",
         "N0",
         "M0",
         "I",
         "Excellent",
         "No"
        ],
        [
         "12",
         "49",
         "F",
         "No",
         "No",
         "No",
         "Euthyroid",
         "Multinodular goiter",
         "No",
         "Micropapillary",
         "Uni-Focal",
         "Low",
         "T1a",
         "N0",
         "M0",
         "I",
         "Excellent",
         "No"
        ],
        [
         "13",
         "50",
         "F",
         "No",
         "No",
         "No",
         "Clinical Hyperthyroidism",
         "Multinodular goiter",
         "No",
         "Micropapillary",
         "Uni-Focal",
         "Low",
         "T1a",
         "N0",
         "M0",
         "I",
         "Excellent",
         "No"
        ],
        [
         "14",
         "76",
         "F",
         "No",
         "No",
         "No",
         "Clinical Hypothyroidism",
         "Single nodular goiter-right",
         "No",
         "Micropapillary",
         "Uni-Focal",
         "Low",
         "T1a",
         "N0",
         "M0",
         "I",
         "Excellent",
         "No"
        ],
        [
         "15",
         "42",
         "F",
         "No",
         "No",
         "No",
         "Euthyroid",
         "Single nodular goiter-right",
         "No",
         "Micropapillary",
         "Uni-Focal",
         "Low",
         "T1a",
         "N0",
         "M0",
         "I",
         "Indeterminate",
         "No"
        ],
        [
         "16",
         "40",
         "F",
         "No",
         "Yes",
         "No",
         "Euthyroid",
         "Single nodular goiter-right",
         "No",
         "Micropapillary",
         "Uni-Focal",
         "Low",
         "T1a",
         "N0",
         "M0",
         "I",
         "Excellent",
         "No"
        ],
        [
         "17",
         "44",
         "F",
         "No",
         "No",
         "No",
         "Euthyroid",
         "Multinodular goiter",
         "No",
         "Micropapillary",
         "Uni-Focal",
         "Low",
         "T1a",
         "N0",
         "M0",
         "I",
         "Indeterminate",
         "No"
        ],
        [
         "18",
         "43",
         "F",
         "No",
         "No",
         "No",
         "Euthyroid",
         "Multinodular goiter",
         "No",
         "Micropapillary",
         "Uni-Focal",
         "Low",
         "T1a",
         "N0",
         "M0",
         "I",
         "Excellent",
         "No"
        ],
        [
         "19",
         "52",
         "F",
         "No",
         "No",
         "No",
         "Euthyroid",
         "Multinodular goiter",
         "No",
         "Micropapillary",
         "Multi-Focal",
         "Low",
         "T1a",
         "N0",
         "M0",
         "I",
         "Indeterminate",
         "No"
        ],
        [
         "20",
         "41",
         "F",
         "No",
         "No",
         "No",
         "Euthyroid",
         "Single nodular goiter-left",
         "No",
         "Micropapillary",
         "Uni-Focal",
         "Low",
         "T1a",
         "N0",
         "M0",
         "I",
         "Excellent",
         "No"
        ],
        [
         "21",
         "44",
         "F",
         "No",
         "No",
         "No",
         "Euthyroid",
         "Single nodular goiter-left",
         "No",
         "Micropapillary",
         "Uni-Focal",
         "Low",
         "T1a",
         "N0",
         "M0",
         "I",
         "Excellent",
         "No"
        ],
        [
         "22",
         "36",
         "F",
         "No",
         "No",
         "No",
         "Euthyroid",
         "Single nodular goiter-right",
         "No",
         "Micropapillary",
         "Uni-Focal",
         "Low",
         "T1a",
         "N0",
         "M0",
         "I",
         "Excellent",
         "No"
        ],
        [
         "23",
         "70",
         "F",
         "No",
         "No",
         "No",
         "Euthyroid",
         "Single nodular goiter-right",
         "No",
         "Micropapillary",
         "Uni-Focal",
         "Low",
         "T1a",
         "N0",
         "M0",
         "I",
         "Excellent",
         "No"
        ],
        [
         "24",
         "60",
         "F",
         "No",
         "No",
         "No",
         "Euthyroid",
         "Multinodular goiter",
         "No",
         "Micropapillary",
         "Multi-Focal",
         "Low",
         "T1a",
         "N0",
         "M0",
         "I",
         "Excellent",
         "No"
        ],
        [
         "25",
         "33",
         "F",
         "No",
         "No",
         "No",
         "Euthyroid",
         "Single nodular goiter-right",
         "No",
         "Micropapillary",
         "Uni-Focal",
         "Low",
         "T1a",
         "N0",
         "M0",
         "I",
         "Excellent",
         "No"
        ],
        [
         "26",
         "43",
         "M",
         "No",
         "No",
         "No",
         "Subclinical Hyperthyroidism",
         "Single nodular goiter-left",
         "No",
         "Micropapillary",
         "Uni-Focal",
         "Low",
         "T1a",
         "N0",
         "M0",
         "I",
         "Excellent",
         "No"
        ],
        [
         "27",
         "26",
         "M",
         "No",
         "No",
         "No",
         "Euthyroid",
         "Single nodular goiter-left",
         "No",
         "Micropapillary",
         "Uni-Focal",
         "Low",
         "T1a",
         "N0",
         "M0",
         "I",
         "Excellent",
         "No"
        ],
        [
         "28",
         "41",
         "F",
         "No",
         "No",
         "No",
         "Euthyroid",
         "Single nodular goiter-right",
         "No",
         "Micropapillary",
         "Uni-Focal",
         "Low",
         "T1a",
         "N0",
         "M0",
         "I",
         "Excellent",
         "No"
        ],
        [
         "29",
         "37",
         "F",
         "No",
         "Yes",
         "No",
         "Subclinical Hypothyroidism",
         "Normal",
         "No",
         "Micropapillary",
         "Uni-Focal",
         "Low",
         "T1a",
         "N0",
         "M0",
         "I",
         "Excellent",
         "No"
        ],
        [
         "30",
         "37",
         "F",
         "No",
         "No",
         "No",
         "Euthyroid",
         "Single nodular goiter-left",
         "No",
         "Micropapillary",
         "Uni-Focal",
         "Low",
         "T1a",
         "N0",
         "M0",
         "I",
         "Excellent",
         "No"
        ],
        [
         "31",
         "30",
         "F",
         "No",
         "No",
         "No",
         "Clinical Hyperthyroidism",
         "Normal",
         "No",
         "Micropapillary",
         "Uni-Focal",
         "Low",
         "T1a",
         "N0",
         "M0",
         "I",
         "Excellent",
         "No"
        ],
        [
         "32",
         "36",
         "F",
         "No",
         "No",
         "No",
         "Euthyroid",
         "Single nodular goiter-right",
         "No",
         "Micropapillary",
         "Uni-Focal",
         "Low",
         "T1a",
         "N0",
         "M0",
         "I",
         "Excellent",
         "No"
        ],
        [
         "33",
         "55",
         "F",
         "No",
         "No",
         "No",
         "Euthyroid",
         "Multinodular goiter",
         "No",
         "Micropapillary",
         "Uni-Focal",
         "Low",
         "T1a",
         "N0",
         "M0",
         "I",
         "Excellent",
         "No"
        ],
        [
         "34",
         "52",
         "M",
         "Yes",
         "No",
         "No",
         "Euthyroid",
         "Single nodular goiter-left",
         "No",
         "Micropapillary",
         "Uni-Focal",
         "Low",
         "T1a",
         "N0",
         "M0",
         "I",
         "Excellent",
         "No"
        ],
        [
         "35",
         "37",
         "F",
         "No",
         "No",
         "No",
         "Subclinical Hypothyroidism",
         "Single nodular goiter-left",
         "No",
         "Micropapillary",
         "Uni-Focal",
         "Low",
         "T1a",
         "N0",
         "M0",
         "I",
         "Excellent",
         "No"
        ],
        [
         "36",
         "31",
         "F",
         "No",
         "No",
         "No",
         "Clinical Hyperthyroidism",
         "Diffuse goiter",
         "No",
         "Micropapillary",
         "Uni-Focal",
         "Low",
         "T1a",
         "N0",
         "M0",
         "I",
         "Excellent",
         "No"
        ],
        [
         "37",
         "43",
         "M",
         "No",
         "No",
         "No",
         "Euthyroid",
         "Multinodular goiter",
         "No",
         "Micropapillary",
         "Multi-Focal",
         "Low",
         "T1a",
         "N0",
         "M0",
         "I",
         "Excellent",
         "No"
        ],
        [
         "38",
         "40",
         "F",
         "No",
         "No",
         "No",
         "Euthyroid",
         "Single nodular goiter-right",
         "No",
         "Micropapillary",
         "Uni-Focal",
         "Low",
         "T1a",
         "N0",
         "M0",
         "I",
         "Excellent",
         "No"
        ],
        [
         "39",
         "34",
         "F",
         "No",
         "No",
         "No",
         "Euthyroid",
         "Diffuse goiter",
         "No",
         "Micropapillary",
         "Uni-Focal",
         "Low",
         "T1a",
         "N0",
         "M0",
         "I",
         "Excellent",
         "No"
        ],
        [
         "40",
         "51",
         "F",
         "No",
         "No",
         "No",
         "Euthyroid",
         "Single nodular goiter-right",
         "No",
         "Micropapillary",
         "Uni-Focal",
         "Low",
         "T1a",
         "N0",
         "M0",
         "I",
         "Excellent",
         "No"
        ],
        [
         "41",
         "45",
         "F",
         "No",
         "No",
         "No",
         "Euthyroid",
         "Single nodular goiter-left",
         "No",
         "Micropapillary",
         "Uni-Focal",
         "Low",
         "T1a",
         "N0",
         "M0",
         "I",
         "Excellent",
         "No"
        ],
        [
         "42",
         "20",
         "F",
         "No",
         "No",
         "No",
         "Euthyroid",
         "Single nodular goiter-right",
         "No",
         "Micropapillary",
         "Uni-Focal",
         "Low",
         "T1a",
         "N0",
         "M0",
         "I",
         "Excellent",
         "No"
        ],
        [
         "43",
         "38",
         "F",
         "No",
         "No",
         "No",
         "Euthyroid",
         "Multinodular goiter",
         "No",
         "Micropapillary",
         "Uni-Focal",
         "Low",
         "T1a",
         "N0",
         "M0",
         "I",
         "Excellent",
         "No"
        ],
        [
         "44",
         "38",
         "F",
         "No",
         "No",
         "No",
         "Clinical Hyperthyroidism",
         "Diffuse goiter",
         "No",
         "Micropapillary",
         "Uni-Focal",
         "Low",
         "T1a",
         "N0",
         "M0",
         "I",
         "Excellent",
         "No"
        ],
        [
         "45",
         "33",
         "F",
         "No",
         "No",
         "No",
         "Euthyroid",
         "Multinodular goiter",
         "No",
         "Micropapillary",
         "Uni-Focal",
         "Low",
         "T1a",
         "N0",
         "M0",
         "I",
         "Excellent",
         "No"
        ],
        [
         "46",
         "31",
         "F",
         "No",
         "No",
         "No",
         "Clinical Hypothyroidism",
         "Multinodular goiter",
         "No",
         "Micropapillary",
         "Uni-Focal",
         "Intermediate",
         "T1a",
         "N0",
         "M0",
         "I",
         "Excellent",
         "No"
        ],
        [
         "47",
         "31",
         "F",
         "No",
         "No",
         "No",
         "Euthyroid",
         "Multinodular goiter",
         "Right",
         "Papillary",
         "Multi-Focal",
         "Intermediate",
         "T1a",
         "N1b",
         "M0",
         "I",
         "Excellent",
         "No"
        ],
        [
         "48",
         "26",
         "F",
         "No",
         "No",
         "No",
         "Euthyroid",
         "Normal",
         "Extensive",
         "Papillary",
         "Uni-Focal",
         "Intermediate",
         "T1a",
         "N1b",
         "M0",
         "I",
         "Structural Incomplete",
         "Yes"
        ],
        [
         "49",
         "29",
         "F",
         "No",
         "No",
         "No",
         "Euthyroid",
         "Multinodular goiter",
         "No",
         "Follicular",
         "Uni-Focal",
         "Low",
         "T1b",
         "N0",
         "M0",
         "I",
         "Excellent",
         "No"
        ]
       ],
       "shape": {
        "columns": 17,
        "rows": 383
       }
      },
      "text/html": [
       "<div>\n",
       "<style scoped>\n",
       "    .dataframe tbody tr th:only-of-type {\n",
       "        vertical-align: middle;\n",
       "    }\n",
       "\n",
       "    .dataframe tbody tr th {\n",
       "        vertical-align: top;\n",
       "    }\n",
       "\n",
       "    .dataframe thead th {\n",
       "        text-align: right;\n",
       "    }\n",
       "</style>\n",
       "<table border=\"1\" class=\"dataframe\">\n",
       "  <thead>\n",
       "    <tr style=\"text-align: right;\">\n",
       "      <th></th>\n",
       "      <th>Age</th>\n",
       "      <th>Gender</th>\n",
       "      <th>Smoking</th>\n",
       "      <th>Hx Smoking</th>\n",
       "      <th>Hx Radiothreapy</th>\n",
       "      <th>Thyroid Function</th>\n",
       "      <th>Physical Examination</th>\n",
       "      <th>Adenopathy</th>\n",
       "      <th>Pathology</th>\n",
       "      <th>Focality</th>\n",
       "      <th>Risk</th>\n",
       "      <th>T</th>\n",
       "      <th>N</th>\n",
       "      <th>M</th>\n",
       "      <th>Stage</th>\n",
       "      <th>Response</th>\n",
       "      <th>Recurred</th>\n",
       "    </tr>\n",
       "  </thead>\n",
       "  <tbody>\n",
       "    <tr>\n",
       "      <th>0</th>\n",
       "      <td>27</td>\n",
       "      <td>F</td>\n",
       "      <td>No</td>\n",
       "      <td>No</td>\n",
       "      <td>No</td>\n",
       "      <td>Euthyroid</td>\n",
       "      <td>Single nodular goiter-left</td>\n",
       "      <td>No</td>\n",
       "      <td>Micropapillary</td>\n",
       "      <td>Uni-Focal</td>\n",
       "      <td>Low</td>\n",
       "      <td>T1a</td>\n",
       "      <td>N0</td>\n",
       "      <td>M0</td>\n",
       "      <td>I</td>\n",
       "      <td>Indeterminate</td>\n",
       "      <td>No</td>\n",
       "    </tr>\n",
       "    <tr>\n",
       "      <th>1</th>\n",
       "      <td>34</td>\n",
       "      <td>F</td>\n",
       "      <td>No</td>\n",
       "      <td>Yes</td>\n",
       "      <td>No</td>\n",
       "      <td>Euthyroid</td>\n",
       "      <td>Multinodular goiter</td>\n",
       "      <td>No</td>\n",
       "      <td>Micropapillary</td>\n",
       "      <td>Uni-Focal</td>\n",
       "      <td>Low</td>\n",
       "      <td>T1a</td>\n",
       "      <td>N0</td>\n",
       "      <td>M0</td>\n",
       "      <td>I</td>\n",
       "      <td>Excellent</td>\n",
       "      <td>No</td>\n",
       "    </tr>\n",
       "    <tr>\n",
       "      <th>2</th>\n",
       "      <td>30</td>\n",
       "      <td>F</td>\n",
       "      <td>No</td>\n",
       "      <td>No</td>\n",
       "      <td>No</td>\n",
       "      <td>Euthyroid</td>\n",
       "      <td>Single nodular goiter-right</td>\n",
       "      <td>No</td>\n",
       "      <td>Micropapillary</td>\n",
       "      <td>Uni-Focal</td>\n",
       "      <td>Low</td>\n",
       "      <td>T1a</td>\n",
       "      <td>N0</td>\n",
       "      <td>M0</td>\n",
       "      <td>I</td>\n",
       "      <td>Excellent</td>\n",
       "      <td>No</td>\n",
       "    </tr>\n",
       "    <tr>\n",
       "      <th>3</th>\n",
       "      <td>62</td>\n",
       "      <td>F</td>\n",
       "      <td>No</td>\n",
       "      <td>No</td>\n",
       "      <td>No</td>\n",
       "      <td>Euthyroid</td>\n",
       "      <td>Single nodular goiter-right</td>\n",
       "      <td>No</td>\n",
       "      <td>Micropapillary</td>\n",
       "      <td>Uni-Focal</td>\n",
       "      <td>Low</td>\n",
       "      <td>T1a</td>\n",
       "      <td>N0</td>\n",
       "      <td>M0</td>\n",
       "      <td>I</td>\n",
       "      <td>Excellent</td>\n",
       "      <td>No</td>\n",
       "    </tr>\n",
       "    <tr>\n",
       "      <th>4</th>\n",
       "      <td>62</td>\n",
       "      <td>F</td>\n",
       "      <td>No</td>\n",
       "      <td>No</td>\n",
       "      <td>No</td>\n",
       "      <td>Euthyroid</td>\n",
       "      <td>Multinodular goiter</td>\n",
       "      <td>No</td>\n",
       "      <td>Micropapillary</td>\n",
       "      <td>Multi-Focal</td>\n",
       "      <td>Low</td>\n",
       "      <td>T1a</td>\n",
       "      <td>N0</td>\n",
       "      <td>M0</td>\n",
       "      <td>I</td>\n",
       "      <td>Excellent</td>\n",
       "      <td>No</td>\n",
       "    </tr>\n",
       "    <tr>\n",
       "      <th>...</th>\n",
       "      <td>...</td>\n",
       "      <td>...</td>\n",
       "      <td>...</td>\n",
       "      <td>...</td>\n",
       "      <td>...</td>\n",
       "      <td>...</td>\n",
       "      <td>...</td>\n",
       "      <td>...</td>\n",
       "      <td>...</td>\n",
       "      <td>...</td>\n",
       "      <td>...</td>\n",
       "      <td>...</td>\n",
       "      <td>...</td>\n",
       "      <td>...</td>\n",
       "      <td>...</td>\n",
       "      <td>...</td>\n",
       "      <td>...</td>\n",
       "    </tr>\n",
       "    <tr>\n",
       "      <th>378</th>\n",
       "      <td>72</td>\n",
       "      <td>M</td>\n",
       "      <td>Yes</td>\n",
       "      <td>Yes</td>\n",
       "      <td>Yes</td>\n",
       "      <td>Euthyroid</td>\n",
       "      <td>Single nodular goiter-right</td>\n",
       "      <td>Right</td>\n",
       "      <td>Papillary</td>\n",
       "      <td>Uni-Focal</td>\n",
       "      <td>High</td>\n",
       "      <td>T4b</td>\n",
       "      <td>N1b</td>\n",
       "      <td>M1</td>\n",
       "      <td>IVB</td>\n",
       "      <td>Biochemical Incomplete</td>\n",
       "      <td>Yes</td>\n",
       "    </tr>\n",
       "    <tr>\n",
       "      <th>379</th>\n",
       "      <td>81</td>\n",
       "      <td>M</td>\n",
       "      <td>Yes</td>\n",
       "      <td>No</td>\n",
       "      <td>Yes</td>\n",
       "      <td>Euthyroid</td>\n",
       "      <td>Multinodular goiter</td>\n",
       "      <td>Extensive</td>\n",
       "      <td>Papillary</td>\n",
       "      <td>Multi-Focal</td>\n",
       "      <td>High</td>\n",
       "      <td>T4b</td>\n",
       "      <td>N1b</td>\n",
       "      <td>M1</td>\n",
       "      <td>IVB</td>\n",
       "      <td>Structural Incomplete</td>\n",
       "      <td>Yes</td>\n",
       "    </tr>\n",
       "    <tr>\n",
       "      <th>380</th>\n",
       "      <td>72</td>\n",
       "      <td>M</td>\n",
       "      <td>Yes</td>\n",
       "      <td>Yes</td>\n",
       "      <td>No</td>\n",
       "      <td>Euthyroid</td>\n",
       "      <td>Multinodular goiter</td>\n",
       "      <td>Bilateral</td>\n",
       "      <td>Papillary</td>\n",
       "      <td>Multi-Focal</td>\n",
       "      <td>High</td>\n",
       "      <td>T4b</td>\n",
       "      <td>N1b</td>\n",
       "      <td>M1</td>\n",
       "      <td>IVB</td>\n",
       "      <td>Structural Incomplete</td>\n",
       "      <td>Yes</td>\n",
       "    </tr>\n",
       "    <tr>\n",
       "      <th>381</th>\n",
       "      <td>61</td>\n",
       "      <td>M</td>\n",
       "      <td>Yes</td>\n",
       "      <td>Yes</td>\n",
       "      <td>Yes</td>\n",
       "      <td>Clinical Hyperthyroidism</td>\n",
       "      <td>Multinodular goiter</td>\n",
       "      <td>Extensive</td>\n",
       "      <td>Hurthel cell</td>\n",
       "      <td>Multi-Focal</td>\n",
       "      <td>High</td>\n",
       "      <td>T4b</td>\n",
       "      <td>N1b</td>\n",
       "      <td>M0</td>\n",
       "      <td>IVA</td>\n",
       "      <td>Structural Incomplete</td>\n",
       "      <td>Yes</td>\n",
       "    </tr>\n",
       "    <tr>\n",
       "      <th>382</th>\n",
       "      <td>67</td>\n",
       "      <td>M</td>\n",
       "      <td>Yes</td>\n",
       "      <td>No</td>\n",
       "      <td>No</td>\n",
       "      <td>Euthyroid</td>\n",
       "      <td>Multinodular goiter</td>\n",
       "      <td>Bilateral</td>\n",
       "      <td>Papillary</td>\n",
       "      <td>Multi-Focal</td>\n",
       "      <td>High</td>\n",
       "      <td>T4b</td>\n",
       "      <td>N1b</td>\n",
       "      <td>M0</td>\n",
       "      <td>IVA</td>\n",
       "      <td>Structural Incomplete</td>\n",
       "      <td>Yes</td>\n",
       "    </tr>\n",
       "  </tbody>\n",
       "</table>\n",
       "<p>383 rows × 17 columns</p>\n",
       "</div>"
      ],
      "text/plain": [
       "     Age Gender Smoking Hx Smoking Hx Radiothreapy          Thyroid Function  \\\n",
       "0     27      F      No         No              No                 Euthyroid   \n",
       "1     34      F      No        Yes              No                 Euthyroid   \n",
       "2     30      F      No         No              No                 Euthyroid   \n",
       "3     62      F      No         No              No                 Euthyroid   \n",
       "4     62      F      No         No              No                 Euthyroid   \n",
       "..   ...    ...     ...        ...             ...                       ...   \n",
       "378   72      M     Yes        Yes             Yes                 Euthyroid   \n",
       "379   81      M     Yes         No             Yes                 Euthyroid   \n",
       "380   72      M     Yes        Yes              No                 Euthyroid   \n",
       "381   61      M     Yes        Yes             Yes  Clinical Hyperthyroidism   \n",
       "382   67      M     Yes         No              No                 Euthyroid   \n",
       "\n",
       "            Physical Examination Adenopathy       Pathology     Focality  \\\n",
       "0     Single nodular goiter-left         No  Micropapillary    Uni-Focal   \n",
       "1            Multinodular goiter         No  Micropapillary    Uni-Focal   \n",
       "2    Single nodular goiter-right         No  Micropapillary    Uni-Focal   \n",
       "3    Single nodular goiter-right         No  Micropapillary    Uni-Focal   \n",
       "4            Multinodular goiter         No  Micropapillary  Multi-Focal   \n",
       "..                           ...        ...             ...          ...   \n",
       "378  Single nodular goiter-right      Right       Papillary    Uni-Focal   \n",
       "379          Multinodular goiter  Extensive       Papillary  Multi-Focal   \n",
       "380          Multinodular goiter  Bilateral       Papillary  Multi-Focal   \n",
       "381          Multinodular goiter  Extensive    Hurthel cell  Multi-Focal   \n",
       "382          Multinodular goiter  Bilateral       Papillary  Multi-Focal   \n",
       "\n",
       "     Risk    T    N   M Stage                Response Recurred  \n",
       "0     Low  T1a   N0  M0     I           Indeterminate       No  \n",
       "1     Low  T1a   N0  M0     I               Excellent       No  \n",
       "2     Low  T1a   N0  M0     I               Excellent       No  \n",
       "3     Low  T1a   N0  M0     I               Excellent       No  \n",
       "4     Low  T1a   N0  M0     I               Excellent       No  \n",
       "..    ...  ...  ...  ..   ...                     ...      ...  \n",
       "378  High  T4b  N1b  M1   IVB  Biochemical Incomplete      Yes  \n",
       "379  High  T4b  N1b  M1   IVB   Structural Incomplete      Yes  \n",
       "380  High  T4b  N1b  M1   IVB   Structural Incomplete      Yes  \n",
       "381  High  T4b  N1b  M0   IVA   Structural Incomplete      Yes  \n",
       "382  High  T4b  N1b  M0   IVA   Structural Incomplete      Yes  \n",
       "\n",
       "[383 rows x 17 columns]"
      ]
     },
     "execution_count": 11,
     "metadata": {},
     "output_type": "execute_result"
    }
   ],
   "source": [
    "url=\"Thyroid_Diff.csv\"\n",
    "\n",
    "df41 = pd.read_csv(url)#, header=None\n",
    "df41"
   ]
  },
  {
   "cell_type": "code",
   "execution_count": 12,
   "id": "53e5a766",
   "metadata": {
    "colab": {
     "base_uri": "https://localhost:8080/",
     "height": 0
    },
    "collapsed": true,
    "executionInfo": {
     "elapsed": 1285,
     "status": "ok",
     "timestamp": 1716982011638,
     "user": {
      "displayName": "ELSA",
      "userId": "12819283556995342183"
     },
     "user_tz": -480
    },
    "id": "53e5a766",
    "outputId": "b0b85dec-a540-41fa-def9-935d4bb28d33"
   },
   "outputs": [
    {
     "data": {
      "application/vnd.microsoft.datawrangler.viewer.v0+json": {
       "columns": [
        {
         "name": "index",
         "rawType": "int64",
         "type": "integer"
        },
        {
         "name": "統計期",
         "rawType": "object",
         "type": "string"
        },
        {
         "name": "臺北市立美術館參觀人次",
         "rawType": "int64",
         "type": "integer"
        },
        {
         "name": "臺北市立動物園參觀人次",
         "rawType": "int64",
         "type": "integer"
        },
        {
         "name": "臺北市立兒童新樂園入園人次",
         "rawType": "int64",
         "type": "integer"
        },
        {
         "name": "臺北市立天文科學教育館參觀人次",
         "rawType": "int64",
         "type": "integer"
        },
        {
         "name": "士林官邸公園參觀人次",
         "rawType": "int64",
         "type": "integer"
        },
        {
         "name": "臺北自來水園區參觀人次",
         "rawType": "int64",
         "type": "integer"
        },
        {
         "name": "北投溫泉博物館參觀人次",
         "rawType": "int64",
         "type": "integer"
        },
        {
         "name": "台北探索館參觀人次",
         "rawType": "int64",
         "type": "integer"
        },
        {
         "name": "藍色水路載客人次",
         "rawType": "int64",
         "type": "integer"
        }
       ],
       "ref": "1aa29184-9c4c-4b82-bbc4-9ea8015c54e7",
       "rows": [
        [
         "0",
         "87年 1月",
         "0",
         "514651",
         "153484",
         "80232",
         "0",
         "0",
         "0",
         "0",
         "0"
        ],
        [
         "1",
         "87年 2月",
         "0",
         "443717",
         "138865",
         "125851",
         "0",
         "0",
         "0",
         "0",
         "0"
        ],
        [
         "2",
         "87年 3月",
         "0",
         "375428",
         "115554",
         "79392",
         "0",
         "0",
         "0",
         "0",
         "0"
        ],
        [
         "3",
         "87年 4月",
         "0",
         "405063",
         "151608",
         "115332",
         "0",
         "0",
         "0",
         "0",
         "0"
        ],
        [
         "4",
         "87年 5月",
         "0",
         "337579",
         "101861",
         "82064",
         "0",
         "0",
         "0",
         "0",
         "0"
        ],
        [
         "5",
         "87年 6月",
         "0",
         "114496",
         "39754",
         "51922",
         "0",
         "0",
         "0",
         "0",
         "0"
        ],
        [
         "6",
         "87年 7月",
         "0",
         "214292",
         "102054",
         "116005",
         "0",
         "0",
         "0",
         "0",
         "0"
        ],
        [
         "7",
         "87年 8月",
         "0",
         "327309",
         "150310",
         "130148",
         "0",
         "0",
         "0",
         "0",
         "0"
        ],
        [
         "8",
         "87年 9月",
         "0",
         "204013",
         "65809",
         "63571",
         "0",
         "0",
         "0",
         "0",
         "0"
        ],
        [
         "9",
         "87年 10月",
         "0",
         "221303",
         "98007",
         "89606",
         "0",
         "0",
         "0",
         "0",
         "0"
        ],
        [
         "10",
         "87年 11月",
         "0",
         "467478",
         "175399",
         "128556",
         "0",
         "0",
         "0",
         "0",
         "0"
        ],
        [
         "11",
         "87年 12月",
         "0",
         "349617",
         "134055",
         "115993",
         "0",
         "0",
         "0",
         "0",
         "0"
        ],
        [
         "12",
         "88年 1月",
         "0",
         "381796",
         "171566",
         "66234",
         "0",
         "0",
         "0",
         "0",
         "0"
        ],
        [
         "13",
         "88年 2月",
         "0",
         "550640",
         "198181",
         "85193",
         "0",
         "0",
         "0",
         "0",
         "0"
        ],
        [
         "14",
         "88年 3月",
         "0",
         "232846",
         "86015",
         "56812",
         "0",
         "0",
         "0",
         "0",
         "0"
        ],
        [
         "15",
         "88年 4月",
         "0",
         "466576",
         "175108",
         "88056",
         "0",
         "0",
         "0",
         "0",
         "0"
        ],
        [
         "16",
         "88年 5月",
         "0",
         "290722",
         "102958",
         "76416",
         "0",
         "0",
         "0",
         "0",
         "0"
        ],
        [
         "17",
         "88年 6月",
         "0",
         "162336",
         "79364",
         "61902",
         "0",
         "0",
         "0",
         "0",
         "0"
        ],
        [
         "18",
         "88年 7月",
         "0",
         "314197",
         "144328",
         "108843",
         "0",
         "0",
         "0",
         "0",
         "0"
        ],
        [
         "19",
         "88年 8月",
         "0",
         "796669",
         "149300",
         "125627",
         "0",
         "0",
         "0",
         "0",
         "0"
        ],
        [
         "20",
         "88年 9月",
         "0",
         "415414",
         "65664",
         "59164",
         "0",
         "0",
         "0",
         "0",
         "0"
        ],
        [
         "21",
         "88年 10月",
         "0",
         "387973",
         "89681",
         "89193",
         "0",
         "0",
         "0",
         "0",
         "0"
        ],
        [
         "22",
         "88年 11月",
         "0",
         "583848",
         "126913",
         "111303",
         "0",
         "0",
         "0",
         "0",
         "0"
        ],
        [
         "23",
         "88年 12月",
         "0",
         "398085",
         "86946",
         "113855",
         "0",
         "0",
         "0",
         "0",
         "0"
        ],
        [
         "24",
         "89年 1月",
         "0",
         "392646",
         "110318",
         "57159",
         "0",
         "0",
         "0",
         "0",
         "0"
        ],
        [
         "25",
         "89年 2月",
         "0",
         "706800",
         "192455",
         "73415",
         "0",
         "0",
         "0",
         "0",
         "0"
        ],
        [
         "26",
         "89年 3月",
         "0",
         "329584",
         "96772",
         "44632",
         "0",
         "0",
         "0",
         "0",
         "0"
        ],
        [
         "27",
         "89年 4月",
         "0",
         "461638",
         "144061",
         "70509",
         "0",
         "0",
         "0",
         "0",
         "0"
        ],
        [
         "28",
         "89年 5月",
         "0",
         "310390",
         "99622",
         "64644",
         "0",
         "0",
         "0",
         "0",
         "0"
        ],
        [
         "29",
         "89年 6月",
         "0",
         "193600",
         "61506",
         "49619",
         "0",
         "0",
         "0",
         "0",
         "0"
        ],
        [
         "30",
         "89年 7月",
         "0",
         "384836",
         "138930",
         "116995",
         "0",
         "0",
         "0",
         "0",
         "0"
        ],
        [
         "31",
         "89年 8月",
         "0",
         "407981",
         "146716",
         "119607",
         "0",
         "0",
         "0",
         "0",
         "0"
        ],
        [
         "32",
         "89年 9月",
         "0",
         "416846",
         "86307",
         "58339",
         "0",
         "0",
         "0",
         "0",
         "0"
        ],
        [
         "33",
         "89年 10月",
         "0",
         "796845",
         "95792",
         "82213",
         "0",
         "0",
         "0",
         "0",
         "0"
        ],
        [
         "34",
         "89年 11月",
         "0",
         "670150",
         "46850",
         "109261",
         "0",
         "0",
         "0",
         "0",
         "0"
        ],
        [
         "35",
         "89年 12月",
         "0",
         "723068",
         "81237",
         "82176",
         "0",
         "0",
         "0",
         "0",
         "0"
        ],
        [
         "36",
         "90年 1月",
         "0",
         "683097",
         "98697",
         "49634",
         "0",
         "0",
         "0",
         "0",
         "0"
        ],
        [
         "37",
         "90年 2月",
         "0",
         "871439",
         "152935",
         "81802",
         "0",
         "0",
         "0",
         "0",
         "0"
        ],
        [
         "38",
         "90年 3月",
         "0",
         "404915",
         "86644",
         "68386",
         "0",
         "0",
         "0",
         "0",
         "0"
        ],
        [
         "39",
         "90年 4月",
         "0",
         "503913",
         "112134",
         "95439",
         "0",
         "0",
         "0",
         "0",
         "0"
        ],
        [
         "40",
         "90年 5月",
         "0",
         "297039",
         "82548",
         "94792",
         "0",
         "0",
         "0",
         "0",
         "0"
        ],
        [
         "41",
         "90年 6月",
         "0",
         "260902",
         "62837",
         "60842",
         "0",
         "0",
         "0",
         "0",
         "0"
        ],
        [
         "42",
         "90年 7月",
         "0",
         "390420",
         "134169",
         "86850",
         "0",
         "0",
         "0",
         "0",
         "0"
        ],
        [
         "43",
         "90年 8月",
         "0",
         "457040",
         "117010",
         "94275",
         "0",
         "0",
         "0",
         "0",
         "0"
        ],
        [
         "44",
         "90年 9月",
         "0",
         "146000",
         "21339",
         "34152",
         "0",
         "0",
         "0",
         "0",
         "0"
        ],
        [
         "45",
         "90年 10月",
         "0",
         "475219",
         "40171",
         "88390",
         "0",
         "0",
         "0",
         "0",
         "0"
        ],
        [
         "46",
         "90年 11月",
         "0",
         "528889",
         "70561",
         "111680",
         "0",
         "0",
         "0",
         "0",
         "0"
        ],
        [
         "47",
         "90年 12月",
         "0",
         "454614",
         "71788",
         "96808",
         "0",
         "0",
         "0",
         "0",
         "0"
        ],
        [
         "48",
         "91年 1月",
         "25987",
         "325337",
         "74106",
         "46606",
         "102630",
         "0",
         "0",
         "0",
         "0"
        ],
        [
         "49",
         "91年 2月",
         "26563",
         "26563",
         "127322",
         "127322",
         "107361",
         "0",
         "0",
         "0",
         "0"
        ]
       ],
       "shape": {
        "columns": 10,
        "rows": 330
       }
      },
      "text/html": [
       "<div>\n",
       "<style scoped>\n",
       "    .dataframe tbody tr th:only-of-type {\n",
       "        vertical-align: middle;\n",
       "    }\n",
       "\n",
       "    .dataframe tbody tr th {\n",
       "        vertical-align: top;\n",
       "    }\n",
       "\n",
       "    .dataframe thead th {\n",
       "        text-align: right;\n",
       "    }\n",
       "</style>\n",
       "<table border=\"1\" class=\"dataframe\">\n",
       "  <thead>\n",
       "    <tr style=\"text-align: right;\">\n",
       "      <th></th>\n",
       "      <th>統計期</th>\n",
       "      <th>臺北市立美術館參觀人次</th>\n",
       "      <th>臺北市立動物園參觀人次</th>\n",
       "      <th>臺北市立兒童新樂園入園人次</th>\n",
       "      <th>臺北市立天文科學教育館參觀人次</th>\n",
       "      <th>士林官邸公園參觀人次</th>\n",
       "      <th>臺北自來水園區參觀人次</th>\n",
       "      <th>北投溫泉博物館參觀人次</th>\n",
       "      <th>台北探索館參觀人次</th>\n",
       "      <th>藍色水路載客人次</th>\n",
       "    </tr>\n",
       "  </thead>\n",
       "  <tbody>\n",
       "    <tr>\n",
       "      <th>0</th>\n",
       "      <td>87年 1月</td>\n",
       "      <td>0</td>\n",
       "      <td>514651</td>\n",
       "      <td>153484</td>\n",
       "      <td>80232</td>\n",
       "      <td>0</td>\n",
       "      <td>0</td>\n",
       "      <td>0</td>\n",
       "      <td>0</td>\n",
       "      <td>0</td>\n",
       "    </tr>\n",
       "    <tr>\n",
       "      <th>1</th>\n",
       "      <td>87年 2月</td>\n",
       "      <td>0</td>\n",
       "      <td>443717</td>\n",
       "      <td>138865</td>\n",
       "      <td>125851</td>\n",
       "      <td>0</td>\n",
       "      <td>0</td>\n",
       "      <td>0</td>\n",
       "      <td>0</td>\n",
       "      <td>0</td>\n",
       "    </tr>\n",
       "    <tr>\n",
       "      <th>2</th>\n",
       "      <td>87年 3月</td>\n",
       "      <td>0</td>\n",
       "      <td>375428</td>\n",
       "      <td>115554</td>\n",
       "      <td>79392</td>\n",
       "      <td>0</td>\n",
       "      <td>0</td>\n",
       "      <td>0</td>\n",
       "      <td>0</td>\n",
       "      <td>0</td>\n",
       "    </tr>\n",
       "    <tr>\n",
       "      <th>3</th>\n",
       "      <td>87年 4月</td>\n",
       "      <td>0</td>\n",
       "      <td>405063</td>\n",
       "      <td>151608</td>\n",
       "      <td>115332</td>\n",
       "      <td>0</td>\n",
       "      <td>0</td>\n",
       "      <td>0</td>\n",
       "      <td>0</td>\n",
       "      <td>0</td>\n",
       "    </tr>\n",
       "    <tr>\n",
       "      <th>4</th>\n",
       "      <td>87年 5月</td>\n",
       "      <td>0</td>\n",
       "      <td>337579</td>\n",
       "      <td>101861</td>\n",
       "      <td>82064</td>\n",
       "      <td>0</td>\n",
       "      <td>0</td>\n",
       "      <td>0</td>\n",
       "      <td>0</td>\n",
       "      <td>0</td>\n",
       "    </tr>\n",
       "    <tr>\n",
       "      <th>...</th>\n",
       "      <td>...</td>\n",
       "      <td>...</td>\n",
       "      <td>...</td>\n",
       "      <td>...</td>\n",
       "      <td>...</td>\n",
       "      <td>...</td>\n",
       "      <td>...</td>\n",
       "      <td>...</td>\n",
       "      <td>...</td>\n",
       "      <td>...</td>\n",
       "    </tr>\n",
       "    <tr>\n",
       "      <th>325</th>\n",
       "      <td>114年 2月</td>\n",
       "      <td>70243</td>\n",
       "      <td>217591</td>\n",
       "      <td>137728</td>\n",
       "      <td>85244</td>\n",
       "      <td>625268</td>\n",
       "      <td>28281</td>\n",
       "      <td>38012</td>\n",
       "      <td>0</td>\n",
       "      <td>2459</td>\n",
       "    </tr>\n",
       "    <tr>\n",
       "      <th>326</th>\n",
       "      <td>114年 3月</td>\n",
       "      <td>55981</td>\n",
       "      <td>224230</td>\n",
       "      <td>116253</td>\n",
       "      <td>89757</td>\n",
       "      <td>237373</td>\n",
       "      <td>30624</td>\n",
       "      <td>36252</td>\n",
       "      <td>0</td>\n",
       "      <td>4427</td>\n",
       "    </tr>\n",
       "    <tr>\n",
       "      <th>327</th>\n",
       "      <td>114年 4月</td>\n",
       "      <td>67987</td>\n",
       "      <td>239623</td>\n",
       "      <td>185571</td>\n",
       "      <td>99891</td>\n",
       "      <td>160746</td>\n",
       "      <td>30452</td>\n",
       "      <td>35904</td>\n",
       "      <td>0</td>\n",
       "      <td>3906</td>\n",
       "    </tr>\n",
       "    <tr>\n",
       "      <th>328</th>\n",
       "      <td>114年 5月</td>\n",
       "      <td>72877</td>\n",
       "      <td>206991</td>\n",
       "      <td>140048</td>\n",
       "      <td>93455</td>\n",
       "      <td>75843</td>\n",
       "      <td>34027</td>\n",
       "      <td>30973</td>\n",
       "      <td>0</td>\n",
       "      <td>5334</td>\n",
       "    </tr>\n",
       "    <tr>\n",
       "      <th>329</th>\n",
       "      <td>114年 6月</td>\n",
       "      <td>81672</td>\n",
       "      <td>98306</td>\n",
       "      <td>120266</td>\n",
       "      <td>105814</td>\n",
       "      <td>55601</td>\n",
       "      <td>76302</td>\n",
       "      <td>24616</td>\n",
       "      <td>0</td>\n",
       "      <td>5632</td>\n",
       "    </tr>\n",
       "  </tbody>\n",
       "</table>\n",
       "<p>330 rows × 10 columns</p>\n",
       "</div>"
      ],
      "text/plain": [
       "         統計期  臺北市立美術館參觀人次  臺北市立動物園參觀人次  臺北市立兒童新樂園入園人次  臺北市立天文科學教育館參觀人次  \\\n",
       "0     87年 1月            0       514651         153484            80232   \n",
       "1     87年 2月            0       443717         138865           125851   \n",
       "2     87年 3月            0       375428         115554            79392   \n",
       "3     87年 4月            0       405063         151608           115332   \n",
       "4     87年 5月            0       337579         101861            82064   \n",
       "..       ...          ...          ...            ...              ...   \n",
       "325  114年 2月        70243       217591         137728            85244   \n",
       "326  114年 3月        55981       224230         116253            89757   \n",
       "327  114年 4月        67987       239623         185571            99891   \n",
       "328  114年 5月        72877       206991         140048            93455   \n",
       "329  114年 6月        81672        98306         120266           105814   \n",
       "\n",
       "     士林官邸公園參觀人次  臺北自來水園區參觀人次  北投溫泉博物館參觀人次  台北探索館參觀人次  藍色水路載客人次  \n",
       "0             0            0            0          0         0  \n",
       "1             0            0            0          0         0  \n",
       "2             0            0            0          0         0  \n",
       "3             0            0            0          0         0  \n",
       "4             0            0            0          0         0  \n",
       "..          ...          ...          ...        ...       ...  \n",
       "325      625268        28281        38012          0      2459  \n",
       "326      237373        30624        36252          0      4427  \n",
       "327      160746        30452        35904          0      3906  \n",
       "328       75843        34027        30973          0      5334  \n",
       "329       55601        76302        24616          0      5632  \n",
       "\n",
       "[330 rows x 10 columns]"
      ]
     },
     "execution_count": 12,
     "metadata": {},
     "output_type": "execute_result"
    }
   ],
   "source": [
    "#url = \"https://data.kcg.gov.tw/dataset/90d23726-3b3b-4a3b-8403-765c873fe3fa/resource/8a884595-d837-44ed-b89b-78e6f017a0ba/download/tourismmap.csv\"\n",
    "#臺北市觀光遊憩按月別\n",
    "url=\"\thttps://tsis.dbas.gov.taipei/statis/webMain.aspx?sys=220&ymf=8701&kind=21&type=0&funid=a04001201&cycle=1&outmode=12&compmode=0&outkind=1&deflst=2&nzo=1\"\n",
    "df4 = pd.read_csv(url)#, header=None\n",
    "df4"
   ]
  },
  {
   "cell_type": "code",
   "execution_count": 13,
   "id": "78f372a3",
   "metadata": {
    "colab": {
     "base_uri": "https://localhost:8080/"
    },
    "executionInfo": {
     "elapsed": 416,
     "status": "ok",
     "timestamp": 1716982242622,
     "user": {
      "displayName": "ELSA",
      "userId": "12819283556995342183"
     },
     "user_tz": -480
    },
    "id": "78f372a3",
    "outputId": "d60019a5-a10a-4dee-f163-a8173b459751"
   },
   "outputs": [
    {
     "name": "stdout",
     "output_type": "stream",
     "text": [
      "<class 'pandas.core.frame.DataFrame'>\n",
      "RangeIndex: 330 entries, 0 to 329\n",
      "Data columns (total 10 columns):\n",
      " #   Column           Non-Null Count  Dtype \n",
      "---  ------           --------------  ----- \n",
      " 0   統計期              330 non-null    object\n",
      " 1   臺北市立美術館參觀人次      330 non-null    int64 \n",
      " 2   臺北市立動物園參觀人次      330 non-null    int64 \n",
      " 3   臺北市立兒童新樂園入園人次    330 non-null    int64 \n",
      " 4   臺北市立天文科學教育館參觀人次  330 non-null    int64 \n",
      " 5   士林官邸公園參觀人次       330 non-null    int64 \n",
      " 6   臺北自來水園區參觀人次      330 non-null    int64 \n",
      " 7   北投溫泉博物館參觀人次      330 non-null    int64 \n",
      " 8   台北探索館參觀人次        330 non-null    int64 \n",
      " 9   藍色水路載客人次         330 non-null    int64 \n",
      "dtypes: int64(9), object(1)\n",
      "memory usage: 25.9+ KB\n",
      "None\n"
     ]
    }
   ],
   "source": [
    "print(df4.info())"
   ]
  },
  {
   "cell_type": "code",
   "execution_count": 14,
   "id": "KLb8zY24sDig",
   "metadata": {
    "colab": {
     "base_uri": "https://localhost:8080/"
    },
    "executionInfo": {
     "elapsed": 315,
     "status": "ok",
     "timestamp": 1716982633819,
     "user": {
      "displayName": "ELSA",
      "userId": "12819283556995342183"
     },
     "user_tz": -480
    },
    "id": "KLb8zY24sDig",
    "outputId": "ffd0883f-1d07-49b5-8198-5edf1ec5d587"
   },
   "outputs": [
    {
     "name": "stdout",
     "output_type": "stream",
     "text": [
      "         臺北市立美術館參觀人次    臺北市立動物園參觀人次  臺北市立兒童新樂園入園人次  臺北市立天文科學教育館參觀人次  \\\n",
      "count     330.000000     330.000000     330.000000       330.000000   \n",
      "mean    39962.160606  278039.969697  120657.742424     66681.315152   \n",
      "std     41105.298742  120830.168028   71898.810269     30935.693561   \n",
      "min         0.000000       0.000000       0.000000         0.000000   \n",
      "25%     23700.000000  206601.750000   72299.500000     46606.500000   \n",
      "50%     34251.000000  256344.500000  103512.500000     60921.000000   \n",
      "75%     47842.750000  333651.250000  150217.000000     85804.250000   \n",
      "max    330116.000000  871439.000000  568644.000000    275255.000000   \n",
      "\n",
      "          士林官邸公園參觀人次    臺北自來水園區參觀人次   北投溫泉博物館參觀人次     台北探索館參觀人次      藍色水路載客人次  \n",
      "count     330.000000     330.000000    330.000000    330.000000    330.000000  \n",
      "mean   130342.781818   58182.900000  19898.175758  13590.542424   5119.287879  \n",
      "std    129574.183938   50734.849598  16325.382148  10823.576420   8227.386423  \n",
      "min         0.000000       0.000000      0.000000      0.000000      0.000000  \n",
      "25%     58842.250000   11801.500000      0.000000   1382.500000      0.000000  \n",
      "50%    102605.000000   54755.000000  19219.500000  14242.500000   4287.000000  \n",
      "75%    150150.000000   89097.000000  32634.750000  19759.250000   7190.500000  \n",
      "max    771583.000000  206878.000000  61121.000000  48733.000000  89976.000000  \n"
     ]
    }
   ],
   "source": [
    "#print(df3.describe())\n",
    "print(df4.describe())#顯示數字類型欄位的統計值"
   ]
  },
  {
   "cell_type": "code",
   "execution_count": 15,
   "id": "-Wui_jU8siLZ",
   "metadata": {
    "id": "-Wui_jU8siLZ"
   },
   "outputs": [
    {
     "name": "stdout",
     "output_type": "stream",
     "text": [
      "<class 'pandas.core.frame.DataFrame'>\n",
      "RangeIndex: 3 entries, 0 to 2\n",
      "Data columns (total 6 columns):\n",
      " #   Column     Non-Null Count  Dtype \n",
      "---  ------     --------------  ----- \n",
      " 0   name       3 non-null      object\n",
      " 1   no         3 non-null      int64 \n",
      " 2   start_end  3 non-null      object\n",
      " 3   step       3 non-null      int64 \n",
      " 4   logo       3 non-null      object\n",
      " 5   car_no     3 non-null      object\n",
      "dtypes: int64(2), object(4)\n",
      "memory usage: 276.0+ bytes\n",
      "None\n",
      "               no      step\n",
      "count    3.000000  3.000000\n",
      "mean   134.666667  4.000000\n",
      "std     57.448528  1.732051\n",
      "min    101.000000  3.000000\n",
      "25%    101.500000  3.000000\n",
      "50%    102.000000  3.000000\n",
      "75%    151.500000  4.500000\n",
      "max    201.000000  6.000000\n"
     ]
    }
   ],
   "source": [
    "print(df3.info())\n",
    "print(df3.describe())"
   ]
  },
  {
   "cell_type": "markdown",
   "id": "4efbed47",
   "metadata": {
    "id": "4efbed47"
   },
   "source": [
    "### 元素的操作\n",
    "1. 指定\n",
    "2. loc[]\n",
    "3. iloc[]"
   ]
  },
  {
   "cell_type": "code",
   "execution_count": 16,
   "id": "vDYzo8QKt8ce",
   "metadata": {
    "colab": {
     "base_uri": "https://localhost:8080/"
    },
    "executionInfo": {
     "elapsed": 292,
     "status": "ok",
     "timestamp": 1716983107024,
     "user": {
      "displayName": "ELSA",
      "userId": "12819283556995342183"
     },
     "user_tz": -480
    },
    "id": "vDYzo8QKt8ce",
    "outputId": "e6a6ef13-f788-4ac8-f098-d02ad7498608"
   },
   "outputs": [
    {
     "name": "stdout",
     "output_type": "stream",
     "text": [
      "   a1  b1  c1\n",
      "X  11  22  33\n",
      "Y  31  32  33\n",
      "Z  51  52  53\n",
      "------------\n"
     ]
    }
   ],
   "source": [
    "df1 = pd.DataFrame([[11,22,33],\n",
    "                    [31,32,33],\n",
    "                    [51,52,53]],\n",
    "                   index= [\"X\",\"Y\",\"Z\"], #list(\"XYZ\")\n",
    "                   columns=['a1','b1','c1']\n",
    "                  )\n",
    "print(df1)\n",
    "print('------------')\n"
   ]
  },
  {
   "cell_type": "code",
   "execution_count": 17,
   "id": "43df1f11",
   "metadata": {
    "colab": {
     "base_uri": "https://localhost:8080/"
    },
    "executionInfo": {
     "elapsed": 340,
     "status": "ok",
     "timestamp": 1716983277713,
     "user": {
      "displayName": "ELSA",
      "userId": "12819283556995342183"
     },
     "user_tz": -480
    },
    "id": "43df1f11",
    "outputId": "87fe6d96-6dfa-4be3-9243-cbdbffebc799"
   },
   "outputs": [
    {
     "name": "stdout",
     "output_type": "stream",
     "text": [
      "X    33\n",
      "Y    33\n",
      "Z    53\n",
      "Name: c1, dtype: int64 <class 'pandas.core.series.Series'>\n",
      "X    33\n",
      "Y    33\n",
      "Z    53\n",
      "Name: c1, dtype: int64 <class 'pandas.core.series.Series'>\n",
      "   c1\n",
      "X  33\n",
      "Y  33\n",
      "Z  53 <class 'pandas.core.frame.DataFrame'>\n"
     ]
    }
   ],
   "source": [
    "\n",
    "# 指定：1)單一指定 2)範圍指定--> 適合只操作欄\n",
    "print(df1['c1'], type(df1['c1']))# Series\n",
    "print(df1.c1, type(df1.c1))# Series\n",
    "\n",
    "print(df1[['c1']], type(df1[['c1']]))# DataFrame\n"
   ]
  },
  {
   "cell_type": "code",
   "execution_count": 18,
   "id": "e0bd8b55",
   "metadata": {
    "colab": {
     "base_uri": "https://localhost:8080/"
    },
    "executionInfo": {
     "elapsed": 309,
     "status": "ok",
     "timestamp": 1716983491406,
     "user": {
      "displayName": "ELSA",
      "userId": "12819283556995342183"
     },
     "user_tz": -480
    },
    "id": "e0bd8b55",
    "outputId": "477cc589-86c5-40ee-8cd8-8d81d78d288f"
   },
   "outputs": [
    {
     "name": "stdout",
     "output_type": "stream",
     "text": [
      "不連續的多欄----------------\n",
      "   c1  b1\n",
      "X  33  22\n",
      "Y  33  32\n",
      "Z  53  52\n"
     ]
    }
   ],
   "source": [
    "\n",
    "print('不連續的多欄----------------')\n",
    "print(df1[['c1','b1']])#不連續的多欄\n"
   ]
  },
  {
   "cell_type": "code",
   "execution_count": 19,
   "id": "14b35b21",
   "metadata": {
    "colab": {
     "base_uri": "https://localhost:8080/"
    },
    "executionInfo": {
     "elapsed": 288,
     "status": "ok",
     "timestamp": 1716983902035,
     "user": {
      "displayName": "ELSA",
      "userId": "12819283556995342183"
     },
     "user_tz": -480
    },
    "id": "14b35b21",
    "outputId": "be970b5e-617c-438a-9797-486c39fcd907"
   },
   "outputs": [
    {
     "name": "stdout",
     "output_type": "stream",
     "text": [
      "連續的多列----------------\n",
      "   a1  b1  c1\n",
      "X  11  22  33\n",
      "Y  31  32  33\n",
      "   a1  b1  c1\n",
      "X  11  22  33\n",
      "Y  31  32  33\n",
      "Z  51  52  53\n",
      "----------------\n",
      "   a1  b1  c1\n",
      "X  11  22  33\n"
     ]
    }
   ],
   "source": [
    "\n",
    "print('連續的多列----------------')\n",
    "# []以範圍指定, 並且以數字,文字表示＝> 以列row為主\n",
    "print(df1[:2])#用數字表達連續的多列, 2不含，仿 numpy,list的操作\n",
    "print(df1[:\"Z\"])#用文字表達連續的多列, 會包含\n",
    "print('----------------')\n",
    "print(df1[:2][:1])#多個[範圍], 只會以最後一個為主\n",
    "#print(df1['a1':'c1'])\n"
   ]
  },
  {
   "cell_type": "code",
   "execution_count": 20,
   "id": "d3921e3c",
   "metadata": {
    "colab": {
     "base_uri": "https://localhost:8080/"
    },
    "executionInfo": {
     "elapsed": 312,
     "status": "ok",
     "timestamp": 1716985981504,
     "user": {
      "displayName": "ELSA",
      "userId": "12819283556995342183"
     },
     "user_tz": -480
    },
    "id": "d3921e3c",
    "outputId": "17bf0aa3-50e9-4c73-da97-fd5726e8faa0"
   },
   "outputs": [
    {
     "name": "stdout",
     "output_type": "stream",
     "text": [
      "連續的多列單欄----------------\n",
      "   a1\n",
      "X  11\n",
      "Y  31\n"
     ]
    }
   ],
   "source": [
    "\n",
    "print('連續的多列單欄----------------')\n",
    "print(df1[:\"Y\"][['a1']])#X、Y二列裡的a1欄"
   ]
  },
  {
   "cell_type": "code",
   "execution_count": 21,
   "id": "146b8a06",
   "metadata": {
    "colab": {
     "base_uri": "https://localhost:8080/"
    },
    "executionInfo": {
     "elapsed": 319,
     "status": "ok",
     "timestamp": 1716986110934,
     "user": {
      "displayName": "ELSA",
      "userId": "12819283556995342183"
     },
     "user_tz": -480
    },
    "id": "146b8a06",
    "outputId": "0631afad-a7cf-4fbb-ef64-e2e5cf9a02cb"
   },
   "outputs": [
    {
     "name": "stdout",
     "output_type": "stream",
     "text": [
      "連續範圍列+不連續的多欄----------------\n",
      "   a1  c1\n",
      "X  11  33\n",
      "Y  31  33\n"
     ]
    }
   ],
   "source": [
    "print('連續範圍列+不連續的多欄----------------')\n",
    "print(df1[:\"Y\"][['a1','c1']])#X、Y二列裡的a1，c1二欄\n"
   ]
  },
  {
   "cell_type": "code",
   "execution_count": 22,
   "id": "5aef4c93",
   "metadata": {
    "id": "5aef4c93"
   },
   "outputs": [
    {
     "name": "stdout",
     "output_type": "stream",
     "text": [
      "連續範圍列+連續的多欄----------------\n",
      "Empty DataFrame\n",
      "Columns: [a1, b1, c1]\n",
      "Index: []\n",
      "--------------------\n",
      "   a1  b1  c1\n",
      "X  11  22  33\n",
      "Y  31  32  33\n",
      "指定單欄----------------\n",
      "X    33\n",
      "Y    33\n",
      "Z    53\n",
      "Name: c1, dtype: int64\n"
     ]
    }
   ],
   "source": [
    "\n",
    "print('連續範圍列+連續的多欄----------------')\n",
    "print(df1[:\"Y\"]['a1':'c1']) #多個[範圍], 只會以最後一個為主\n",
    "print(\"--------------------\")\n",
    "print(df1[:\"Y\"][0:2])#多個[範圍], 只會以最後一個為主\n",
    "print('指定單欄----------------')\n",
    "print(df1.c1)"
   ]
  },
  {
   "cell_type": "code",
   "execution_count": 23,
   "id": "5ccf019a",
   "metadata": {
    "colab": {
     "base_uri": "https://localhost:8080/"
    },
    "executionInfo": {
     "elapsed": 480,
     "status": "ok",
     "timestamp": 1716986235774,
     "user": {
      "displayName": "ELSA",
      "userId": "12819283556995342183"
     },
     "user_tz": -480
    },
    "id": "5ccf019a",
    "outputId": "260f7bf6-d1f2-46b0-fa6a-d9c3870910f7"
   },
   "outputs": [
    {
     "name": "stdout",
     "output_type": "stream",
     "text": [
      "   a1  b1  c1\n",
      "X  11  22  33\n",
      "Y  31  32  33\n",
      "Z  51  52  53\n",
      "X    33\n",
      "Y    33\n",
      "Z    53\n",
      "Name: c1, dtype: int64\n",
      "   c1\n",
      "X  33\n",
      "Y  33\n",
      "Z  53\n",
      "   a1  c1\n",
      "X  11  33\n",
      "Y  31  33\n",
      "Z  51  53\n",
      "   a1  c1\n",
      "X  11  33\n",
      "-----------------\n",
      "X    11\n",
      "Y    31\n",
      "Z    51\n",
      "Name: a1, dtype: int64\n",
      "-----------------\n",
      "   a1  b1  c1\n",
      "X  11  22  33\n",
      "Y  31  32  33\n"
     ]
    }
   ],
   "source": [
    "print(df1)\n",
    "\n",
    "# 指定：1)單一指定 2)範圍指定\n",
    "print(df1['c1'])\n",
    "print(df1[['c1']])\n",
    "print(df1[['a1','c1']]) # 不連續的多欄\n",
    "print(df1[:1][['a1','c1']]) # \n",
    "print('-----------------')\n",
    "print(df1.a1)\n",
    "print('-----------------')\n",
    "#print(df1[:1][['a1':'c1']])\n",
    "print(df1[:2])"
   ]
  },
  {
   "cell_type": "code",
   "execution_count": 24,
   "id": "e7e6b364",
   "metadata": {
    "colab": {
     "base_uri": "https://localhost:8080/"
    },
    "executionInfo": {
     "elapsed": 318,
     "status": "ok",
     "timestamp": 1716987113897,
     "user": {
      "displayName": "ELSA",
      "userId": "12819283556995342183"
     },
     "user_tz": -480
    },
    "id": "e7e6b364",
    "outputId": "29bb13d3-03ec-445c-bebe-38d723365c5c"
   },
   "outputs": [
    {
     "name": "stdout",
     "output_type": "stream",
     "text": [
      "   a1  b1  c1\n",
      "X  11  22  33\n",
      "Y  31  32  33\n",
      "Z  51  52  53\n",
      "----------------\n",
      "a1    11\n",
      "b1    22\n",
      "Name: X, dtype: int64\n",
      "   b1  c1\n",
      "X  22  33\n",
      "Y  32  33\n",
      "   b1  c1\n",
      "X  22  33\n",
      "Y  32  33\n",
      "Z  52  53\n"
     ]
    }
   ],
   "source": [
    "# loc[]\n",
    "#loc[]：以標籤為主\n",
    "#loc[列 , 欄]：可採用單一/連續範圍/[不連續多個]\n",
    "print(df1)\n",
    "print('----------------')\n",
    "print(df1.loc['X','a1':'b1'])#'b1'有包含\n",
    "print(df1.loc[['X',\"Y\"], 'b1':])\n",
    "print(df1.loc[:, 'b1':])"
   ]
  },
  {
   "cell_type": "code",
   "execution_count": 25,
   "id": "7fbd2354",
   "metadata": {
    "id": "7fbd2354"
   },
   "outputs": [
    {
     "name": "stdout",
     "output_type": "stream",
     "text": [
      "   a1  b1  c1\n",
      "X  11  22  33\n",
      "Y  31  32  33\n",
      "Z  51  52  53\n",
      "----------------\n",
      "   a1  c1\n",
      "X  11  33\n",
      "Y  31  33\n",
      "Z  51  53\n",
      "----------------\n",
      "31\n"
     ]
    }
   ],
   "source": [
    "\n",
    "print(df1.loc[\"X\":\"Z\",'a1':'c1'])#\"Z\", \"c1\"有包含\n",
    "print('----------------')\n",
    "print(df1.loc[:,['a1','c1']])\n",
    "print('----------------')\n",
    "print(df1.loc['Y','a1'])#31"
   ]
  },
  {
   "cell_type": "code",
   "execution_count": 26,
   "id": "3b7ef30d",
   "metadata": {
    "colab": {
     "base_uri": "https://localhost:8080/"
    },
    "executionInfo": {
     "elapsed": 486,
     "status": "ok",
     "timestamp": 1716987383644,
     "user": {
      "displayName": "ELSA",
      "userId": "12819283556995342183"
     },
     "user_tz": -480
    },
    "id": "3b7ef30d",
    "outputId": "9f7a4815-1d54-4c72-a066-1815467c32bf"
   },
   "outputs": [
    {
     "name": "stdout",
     "output_type": "stream",
     "text": [
      "   a1  b1  c1\n",
      "X  11  22  33\n",
      "Y  31  32  33\n",
      "Z  51  52  53 \n",
      "\n",
      "a1    11\n",
      "b1    22\n",
      "c1    33\n",
      "Name: X, dtype: int64 \n",
      "\n",
      "   a1  c1\n",
      "X  11  33\n",
      "Y  31  33\n",
      "Z  51  53\n",
      "-----------------\n",
      "   a1  b1\n",
      "X  11  22\n",
      "Y  31  32\n",
      "-----------------\n",
      "   a1  b1  c1\n",
      "X  11  22  33\n",
      "Y  31  32  33\n",
      "Z  51  52  53\n",
      "-----------------\n",
      "   a1  c1\n",
      "X  11  33\n",
      "Y  31  33\n",
      "Z  51  53\n"
     ]
    }
   ],
   "source": [
    "#iloc[]\n",
    "#iloc[]：以數字為主\n",
    "#iloc[列 , 欄]：可採用單一/連續範圍/[不連續多個]\n",
    "\n",
    "print(df1, \"\\n\")\n",
    "print(df1.iloc[0, :],\"\\n\")\n",
    "print(df1.iloc[:, [0,2]])\n",
    "print(\"-----------------\")\n",
    "print(df1.iloc[0:2,0:2])#不包含尾\n",
    "print(\"-----------------\")\n",
    "print(df1.loc['X':'Z','a1':'c1'])#包含尾\n",
    "print(\"-----------------\")\n",
    "print(df1[:][['a1','c1']])"
   ]
  },
  {
   "cell_type": "code",
   "execution_count": 27,
   "id": "7502ec6f",
   "metadata": {
    "colab": {
     "base_uri": "https://localhost:8080/"
    },
    "executionInfo": {
     "elapsed": 311,
     "status": "ok",
     "timestamp": 1716987416126,
     "user": {
      "displayName": "ELSA",
      "userId": "12819283556995342183"
     },
     "user_tz": -480
    },
    "id": "7502ec6f",
    "outputId": "248ec860-f151-40c0-d4b3-5a22c8a41e5c"
   },
   "outputs": [
    {
     "name": "stdout",
     "output_type": "stream",
     "text": [
      "a1    11\n",
      "b1    22\n",
      "Name: X, dtype: int64\n",
      "   a1  b1\n",
      "X  11  22\n",
      "Y  31  32\n"
     ]
    }
   ],
   "source": [
    "print(df1.loc['X', 'a1':'b1'])#指定'X'(row), 'a1':'b1'(col,'b1'有包含)\n",
    "\n",
    "print(df1.loc[['X','Y'], :'b1'])#指定'X'+'Y'(row), 'a1':'b1'(col,'b1'有包含)"
   ]
  },
  {
   "cell_type": "markdown",
   "id": "f5d94b2a",
   "metadata": {
    "id": "f5d94b2a"
   },
   "source": [
    "## Python 內建迭代器 Itertools"
   ]
  },
  {
   "cell_type": "code",
   "execution_count": 28,
   "id": "e77ad245",
   "metadata": {
    "colab": {
     "base_uri": "https://localhost:8080/"
    },
    "executionInfo": {
     "elapsed": 327,
     "status": "ok",
     "timestamp": 1716988532963,
     "user": {
      "displayName": "ELSA",
      "userId": "12819283556995342183"
     },
     "user_tz": -480
    },
    "id": "e77ad245",
    "outputId": "eae6fd56-639b-4ada-c697-0c700cc353f9"
   },
   "outputs": [
    {
     "name": "stdout",
     "output_type": "stream",
     "text": [
      "0 --- 78\n",
      "1 --- 62\n",
      "2 --- 73\n",
      "3 --- 85\n",
      "4 --- 69\n",
      "-----------------\n",
      "(0, 78)\n",
      "(1, 62)\n",
      "(2, 73)\n",
      "(3, 85)\n",
      "(4, 69)\n",
      "-----------------\n",
      "(78, 10, 'a')\n",
      "(62, 20, 'v')\n",
      "(73, 30, 'r')\n",
      "(85, 40, 't')\n",
      "(69, 50, 'k')\n",
      "-----------------\n",
      "78 10 a\n",
      "62 20 v\n",
      "73 30 r\n",
      "85 40 t\n",
      "69 50 k\n"
     ]
    }
   ],
   "source": [
    "arr = [78,62,73,85,69]\n",
    "\n",
    "for i,j in enumerate(arr):#逐一取出資料並加上index\n",
    "    print(i,\"---\",j)\n",
    "print('-----------------')\n",
    "for i in enumerate(arr):#逐一取出資料並加上index\n",
    "    print(i)#包含 index + 值 -->()tuple\n",
    "\n",
    "print('-----------------')\n",
    "for x in zip(arr, [10,20,30,40,50],['a','v','r','t','k']):# 將各組資料依順序取出，組合成tuple\n",
    "    print(x)\n",
    "print('-----------------')\n",
    "for x,y,z in zip(arr, [10,20,30,40,50],['a','v','r','t','k']):# 將各組資料依順序取出，沒有組合\n",
    "    print(x, y, z)"
   ]
  },
  {
   "cell_type": "code",
   "execution_count": 29,
   "id": "6fb8ed07",
   "metadata": {
    "colab": {
     "base_uri": "https://localhost:8080/"
    },
    "executionInfo": {
     "elapsed": 327,
     "status": "ok",
     "timestamp": 1716989319540,
     "user": {
      "displayName": "ELSA",
      "userId": "12819283556995342183"
     },
     "user_tz": -480
    },
    "id": "6fb8ed07",
    "outputId": "2e81a39f-be1f-4ca3-8fa9-9949e9a1bb82"
   },
   "outputs": [
    {
     "name": "stdout",
     "output_type": "stream",
     "text": [
      "<itertools.combinations object at 0x000001C9E2FD67F0>\n",
      "[(55, 66), (55, 77), (55, 88), (66, 77), (66, 88), (77, 88)]\n",
      "6\n",
      "[(55, 66), (55, 77), (55, 88), (66, 55), (66, 77), (66, 88), (77, 55), (77, 66), (77, 88), (88, 55), (88, 66), (88, 77)]\n"
     ]
    }
   ],
   "source": [
    "import itertools\n",
    "\n",
    "# 組合：元素不可重覆\n",
    "p = itertools.combinations([55,66,77,88], 2)\n",
    "print(p)\n",
    "#print(list(p))#取出並展開形成list\n",
    "ps = list(p)\n",
    "print(ps)\n",
    "print(len(ps))\n",
    "\n",
    "#排列：元素可重覆\n",
    "q = itertools.permutations([55,66,77,88], 2)\n",
    "print(list(q))"
   ]
  },
  {
   "cell_type": "markdown",
   "id": "cc841293",
   "metadata": {
    "id": "cc841293"
   },
   "source": [
    "## 綜合練習：資料清理-空值轉換"
   ]
  },
  {
   "cell_type": "code",
   "execution_count": 30,
   "id": "8b8cbc88",
   "metadata": {
    "id": "8b8cbc88"
   },
   "outputs": [],
   "source": [
    "# No module named 'seaborn'\n",
    "# %pip install seaborn"
   ]
  },
  {
   "cell_type": "code",
   "execution_count": 31,
   "id": "18f3ece4",
   "metadata": {
    "executionInfo": {
     "elapsed": 1635,
     "status": "ok",
     "timestamp": 1717412669565,
     "user": {
      "displayName": "ELSA",
      "userId": "12819283556995342183"
     },
     "user_tz": -480
    },
    "id": "18f3ece4"
   },
   "outputs": [],
   "source": [
    "import seaborn as sns\n",
    "import numpy as np\n",
    "import pandas as pd"
   ]
  },
  {
   "cell_type": "code",
   "execution_count": 32,
   "id": "3c6e358d",
   "metadata": {
    "colab": {
     "base_uri": "https://localhost:8080/"
    },
    "executionInfo": {
     "elapsed": 309,
     "status": "ok",
     "timestamp": 1717412673214,
     "user": {
      "displayName": "ELSA",
      "userId": "12819283556995342183"
     },
     "user_tz": -480
    },
    "id": "3c6e358d",
    "outputId": "f7333767-54e6-40aa-d8a8-e461e6cf6d79"
   },
   "outputs": [
    {
     "name": "stdout",
     "output_type": "stream",
     "text": [
      "   Unnamed: 0  survived  pclass     sex   age  sibsp  parch     fare embarked  \\\n",
      "0           0         0       3    male  22.0      1      0   7.2500        S   \n",
      "1           1         1       1  female  38.0      1      0  71.2833        C   \n",
      "2           2         1       3  female  26.0      0      0   7.9250        S   \n",
      "3           3         1       1  female  35.0      1      0  53.1000        S   \n",
      "4           4         0       3    male  35.0      0      0   8.0500        S   \n",
      "5           5         0       3    male   NaN      0      0   8.4583        Q   \n",
      "6           6         0       1    male  54.0      0      0  51.8625        S   \n",
      "7           7         0       3    male   2.0      3      1  21.0750        S   \n",
      "8           8         1       3  female  27.0      0      2  11.1333        S   \n",
      "9           9         1       2  female  14.0      1      0  30.0708        C   \n",
      "\n",
      "    class    who  adult_male deck  embark_town alive  alone  \n",
      "0   Third    man        True  NaN  Southampton    no  False  \n",
      "1   First  woman       False    C    Cherbourg   yes  False  \n",
      "2   Third  woman       False  NaN  Southampton   yes   True  \n",
      "3   First  woman       False    C  Southampton   yes  False  \n",
      "4   Third    man        True  NaN  Southampton    no   True  \n",
      "5   Third    man        True  NaN   Queenstown    no   True  \n",
      "6   First    man        True    E  Southampton    no   True  \n",
      "7   Third  child       False  NaN  Southampton    no  False  \n",
      "8   Third  woman       False  NaN  Southampton   yes  False  \n",
      "9  Second  child       False  NaN    Cherbourg   yes  False  \n"
     ]
    }
   ],
   "source": [
    "#df = sns.load_dataset('titanic')\n",
    "df = pd.read_csv(\"titanic.csv\")\n",
    "print(df.head(10))#df.tail() # \n"
   ]
  },
  {
   "cell_type": "code",
   "execution_count": 33,
   "id": "8cca874a",
   "metadata": {},
   "outputs": [
    {
     "name": "stdout",
     "output_type": "stream",
     "text": [
      "<class 'pandas.core.frame.DataFrame'>\n",
      "RangeIndex: 891 entries, 0 to 890\n",
      "Data columns (total 16 columns):\n",
      " #   Column       Non-Null Count  Dtype  \n",
      "---  ------       --------------  -----  \n",
      " 0   Unnamed: 0   891 non-null    int64  \n",
      " 1   survived     891 non-null    int64  \n",
      " 2   pclass       891 non-null    int64  \n",
      " 3   sex          891 non-null    object \n",
      " 4   age          714 non-null    float64\n",
      " 5   sibsp        891 non-null    int64  \n",
      " 6   parch        891 non-null    int64  \n",
      " 7   fare         891 non-null    float64\n",
      " 8   embarked     889 non-null    object \n",
      " 9   class        891 non-null    object \n",
      " 10  who          891 non-null    object \n",
      " 11  adult_male   891 non-null    bool   \n",
      " 12  deck         203 non-null    object \n",
      " 13  embark_town  889 non-null    object \n",
      " 14  alive        891 non-null    object \n",
      " 15  alone        891 non-null    bool   \n",
      "dtypes: bool(2), float64(2), int64(5), object(7)\n",
      "memory usage: 99.3+ KB\n",
      "None\n"
     ]
    }
   ],
   "source": [
    "print(df.info()) # 顯示欄位名稱、資料型態、非空值數量、記憶體使用量等資訊"
   ]
  },
  {
   "cell_type": "code",
   "execution_count": 34,
   "id": "b7f9b006",
   "metadata": {
    "colab": {
     "base_uri": "https://localhost:8080/"
    },
    "executionInfo": {
     "elapsed": 304,
     "status": "ok",
     "timestamp": 1717412683698,
     "user": {
      "displayName": "ELSA",
      "userId": "12819283556995342183"
     },
     "user_tz": -480
    },
    "id": "b7f9b006",
    "outputId": "4808ad86-fbd5-4994-ad69-d8c591b63be9"
   },
   "outputs": [
    {
     "name": "stdout",
     "output_type": "stream",
     "text": [
      "       Unnamed: 0    survived      pclass         age       sibsp       parch  \\\n",
      "count  891.000000  891.000000  891.000000  714.000000  891.000000  891.000000   \n",
      "mean   445.000000    0.383838    2.308642   29.699118    0.523008    0.381594   \n",
      "std    257.353842    0.486592    0.836071   14.526497    1.102743    0.806057   \n",
      "min      0.000000    0.000000    1.000000    0.420000    0.000000    0.000000   \n",
      "25%    222.500000    0.000000    2.000000   20.125000    0.000000    0.000000   \n",
      "50%    445.000000    0.000000    3.000000   28.000000    0.000000    0.000000   \n",
      "75%    667.500000    1.000000    3.000000   38.000000    1.000000    0.000000   \n",
      "max    890.000000    1.000000    3.000000   80.000000    8.000000    6.000000   \n",
      "\n",
      "             fare  \n",
      "count  891.000000  \n",
      "mean    32.204208  \n",
      "std     49.693429  \n",
      "min      0.000000  \n",
      "25%      7.910400  \n",
      "50%     14.454200  \n",
      "75%     31.000000  \n",
      "max    512.329200  \n"
     ]
    }
   ],
   "source": [
    "print(df.describe()) # 顯示數字類型欄位的統計值"
   ]
  },
  {
   "cell_type": "code",
   "execution_count": 35,
   "id": "1e1f99d1",
   "metadata": {
    "id": "1e1f99d1"
   },
   "outputs": [
    {
     "name": "stdout",
     "output_type": "stream",
     "text": [
      "   Unnamed: 0  survived  pclass     sex   age  sibsp  parch     fare embarked  \\\n",
      "0           0         0       3    male  22.0      1      0   7.2500        S   \n",
      "1           1         1       1  female  38.0      1      0  71.2833        C   \n",
      "2           2         1       3  female  26.0      0      0   7.9250        S   \n",
      "3           3         1       1  female  35.0      1      0  53.1000        S   \n",
      "4           4         0       3    male  35.0      0      0   8.0500        S   \n",
      "5           5         0       3    male   NaN      0      0   8.4583        Q   \n",
      "6           6         0       1    male  54.0      0      0  51.8625        S   \n",
      "7           7         0       3    male   2.0      3      1  21.0750        S   \n",
      "8           8         1       3  female  27.0      0      2  11.1333        S   \n",
      "9           9         1       2  female  14.0      1      0  30.0708        C   \n",
      "\n",
      "    class    who  adult_male deck  embark_town alive  alone  \n",
      "0   Third    man        True  NaN  Southampton    no  False  \n",
      "1   First  woman       False    C    Cherbourg   yes  False  \n",
      "2   Third  woman       False  NaN  Southampton   yes   True  \n",
      "3   First  woman       False    C  Southampton   yes  False  \n",
      "4   Third    man        True  NaN  Southampton    no   True  \n",
      "5   Third    man        True  NaN   Queenstown    no   True  \n",
      "6   First    man        True    E  Southampton    no   True  \n",
      "7   Third  child       False  NaN  Southampton    no  False  \n",
      "8   Third  woman       False  NaN  Southampton   yes  False  \n",
      "9  Second  child       False  NaN    Cherbourg   yes  False  \n"
     ]
    }
   ],
   "source": [
    "print(df.head(10))# df.tail(10)"
   ]
  },
  {
   "cell_type": "code",
   "execution_count": 36,
   "id": "d288fbb6",
   "metadata": {
    "colab": {
     "base_uri": "https://localhost:8080/"
    },
    "executionInfo": {
     "elapsed": 340,
     "status": "ok",
     "timestamp": 1716990726913,
     "user": {
      "displayName": "ELSA",
      "userId": "12819283556995342183"
     },
     "user_tz": -480
    },
    "id": "d288fbb6",
    "outputId": "e51d5473-5fe5-4399-80f3-138d4cbc13ab"
   },
   "outputs": [
    {
     "name": "stdout",
     "output_type": "stream",
     "text": [
      "Unnamed: 0       0\n",
      "survived         0\n",
      "pclass           0\n",
      "sex              0\n",
      "age            177\n",
      "sibsp            0\n",
      "parch            0\n",
      "fare             0\n",
      "embarked         2\n",
      "class            0\n",
      "who              0\n",
      "adult_male       0\n",
      "deck           688\n",
      "embark_town      2\n",
      "alive            0\n",
      "alone            0\n",
      "dtype: int64\n"
     ]
    }
   ],
   "source": [
    "print(df.isnull().sum())#累計每一欄裡，空值的總數"
   ]
  },
  {
   "cell_type": "code",
   "execution_count": 37,
   "id": "5d3c2b3d",
   "metadata": {
    "colab": {
     "base_uri": "https://localhost:8080/"
    },
    "executionInfo": {
     "elapsed": 276,
     "status": "ok",
     "timestamp": 1717413411536,
     "user": {
      "displayName": "ELSA",
      "userId": "12819283556995342183"
     },
     "user_tz": -480
    },
    "id": "5d3c2b3d",
    "outputId": "fbb4ef78-1e9c-4fd6-c43b-1ab5b78204ca"
   },
   "outputs": [
    {
     "name": "stdout",
     "output_type": "stream",
     "text": [
      "<class 'pandas.core.frame.DataFrame'>\n",
      "RangeIndex: 891 entries, 0 to 890\n",
      "Data columns (total 16 columns):\n",
      " #   Column       Non-Null Count  Dtype  \n",
      "---  ------       --------------  -----  \n",
      " 0   Unnamed: 0   891 non-null    int64  \n",
      " 1   survived     891 non-null    int64  \n",
      " 2   pclass       891 non-null    int64  \n",
      " 3   sex          891 non-null    object \n",
      " 4   age          891 non-null    float64\n",
      " 5   sibsp        891 non-null    int64  \n",
      " 6   parch        891 non-null    int64  \n",
      " 7   fare         891 non-null    float64\n",
      " 8   embarked     889 non-null    object \n",
      " 9   class        891 non-null    object \n",
      " 10  who          891 non-null    object \n",
      " 11  adult_male   891 non-null    bool   \n",
      " 12  deck         203 non-null    object \n",
      " 13  embark_town  889 non-null    object \n",
      " 14  alive        891 non-null    object \n",
      " 15  alone        891 non-null    bool   \n",
      "dtypes: bool(2), float64(2), int64(5), object(7)\n",
      "memory usage: 99.3+ KB\n",
      "None\n"
     ]
    }
   ],
   "source": [
    "# age:數字\n",
    "\n",
    "#a = df.loc[:, 'age'].median()\n",
    "#df.loc[:, 'age'] = df.loc[:, 'age'].fillna(a)\n",
    "# 上面兩行=下面一行\n",
    "\n",
    "df.loc[:, 'age'] = df.loc[:, 'age'].fillna(df.loc[:, 'age'].median())\n",
    "print(df.info())"
   ]
  },
  {
   "cell_type": "code",
   "execution_count": 38,
   "id": "8632232e",
   "metadata": {
    "colab": {
     "base_uri": "https://localhost:8080/"
    },
    "executionInfo": {
     "elapsed": 277,
     "status": "ok",
     "timestamp": 1717413661803,
     "user": {
      "displayName": "ELSA",
      "userId": "12819283556995342183"
     },
     "user_tz": -480
    },
    "id": "8632232e",
    "outputId": "fdfedc91-b603-4470-ed5c-28a209e8eeba"
   },
   "outputs": [
    {
     "name": "stdout",
     "output_type": "stream",
     "text": [
      "['S' 'C' 'Q' nan]\n",
      "['S' 'C' 'Q' nan]\n",
      "embarked\n",
      "S    644\n",
      "C    168\n",
      "Q     77\n",
      "Name: count, dtype: int64\n"
     ]
    }
   ],
   "source": [
    "# embarked: 字串\n",
    "print(df.embarked.unique())#去重覆值\n",
    "print(df.loc[:,'embarked'].unique())\n",
    "print(df.embarked.value_counts())#計算每個值的數量"
   ]
  },
  {
   "cell_type": "code",
   "execution_count": 39,
   "id": "_jnN7JC3ukSt",
   "metadata": {
    "executionInfo": {
     "elapsed": 806,
     "status": "ok",
     "timestamp": 1717413766162,
     "user": {
      "displayName": "ELSA",
      "userId": "12819283556995342183"
     },
     "user_tz": -480
    },
    "id": "_jnN7JC3ukSt"
   },
   "outputs": [
    {
     "name": "stdout",
     "output_type": "stream",
     "text": [
      "\u001b[31mSignature:\u001b[39m\n",
      "df.fillna(\n",
      "    value: \u001b[33m'Hashable | Mapping | Series | DataFrame | None'\u001b[39m = \u001b[38;5;28;01mNone\u001b[39;00m,\n",
      "    *,\n",
      "    method: \u001b[33m'FillnaOptions | None'\u001b[39m = \u001b[38;5;28;01mNone\u001b[39;00m,\n",
      "    axis: \u001b[33m'Axis | None'\u001b[39m = \u001b[38;5;28;01mNone\u001b[39;00m,\n",
      "    inplace: \u001b[33m'bool_t'\u001b[39m = \u001b[38;5;28;01mFalse\u001b[39;00m,\n",
      "    limit: \u001b[33m'int | None'\u001b[39m = \u001b[38;5;28;01mNone\u001b[39;00m,\n",
      "    downcast: \u001b[33m'dict | None | lib.NoDefault'\u001b[39m = <no_default>,\n",
      ") -> \u001b[33m'Self | None'\u001b[39m\n",
      "\u001b[31mDocstring:\u001b[39m\n",
      "Fill NA/NaN values using the specified method.\n",
      "\n",
      "Parameters\n",
      "----------\n",
      "value : scalar, dict, Series, or DataFrame\n",
      "    Value to use to fill holes (e.g. 0), alternately a\n",
      "    dict/Series/DataFrame of values specifying which value to use for\n",
      "    each index (for a Series) or column (for a DataFrame).  Values not\n",
      "    in the dict/Series/DataFrame will not be filled. This value cannot\n",
      "    be a list.\n",
      "method : {'backfill', 'bfill', 'ffill', None}, default None\n",
      "    Method to use for filling holes in reindexed Series:\n",
      "\n",
      "    * ffill: propagate last valid observation forward to next valid.\n",
      "    * backfill / bfill: use next valid observation to fill gap.\n",
      "\n",
      "    .. deprecated:: 2.1.0\n",
      "        Use ffill or bfill instead.\n",
      "\n",
      "axis : {0 or 'index'} for Series, {0 or 'index', 1 or 'columns'} for DataFrame\n",
      "    Axis along which to fill missing values. For `Series`\n",
      "    this parameter is unused and defaults to 0.\n",
      "inplace : bool, default False\n",
      "    If True, fill in-place. Note: this will modify any\n",
      "    other views on this object (e.g., a no-copy slice for a column in a\n",
      "    DataFrame).\n",
      "limit : int, default None\n",
      "    If method is specified, this is the maximum number of consecutive\n",
      "    NaN values to forward/backward fill. In other words, if there is\n",
      "    a gap with more than this number of consecutive NaNs, it will only\n",
      "    be partially filled. If method is not specified, this is the\n",
      "    maximum number of entries along the entire axis where NaNs will be\n",
      "    filled. Must be greater than 0 if not None.\n",
      "downcast : dict, default is None\n",
      "    A dict of item->dtype of what to downcast if possible,\n",
      "    or the string 'infer' which will try to downcast to an appropriate\n",
      "    equal type (e.g. float64 to int64 if possible).\n",
      "\n",
      "    .. deprecated:: 2.2.0\n",
      "\n",
      "Returns\n",
      "-------\n",
      "Series/DataFrame or None\n",
      "    Object with missing values filled or None if ``inplace=True``.\n",
      "\n",
      "See Also\n",
      "--------\n",
      "ffill : Fill values by propagating the last valid observation to next valid.\n",
      "bfill : Fill values by using the next valid observation to fill the gap.\n",
      "interpolate : Fill NaN values using interpolation.\n",
      "reindex : Conform object to new index.\n",
      "asfreq : Convert TimeSeries to specified frequency.\n",
      "\n",
      "Examples\n",
      "--------\n",
      ">>> df = pd.DataFrame([[np.nan, 2, np.nan, 0],\n",
      "...                    [3, 4, np.nan, 1],\n",
      "...                    [np.nan, np.nan, np.nan, np.nan],\n",
      "...                    [np.nan, 3, np.nan, 4]],\n",
      "...                   columns=list(\"ABCD\"))\n",
      ">>> df\n",
      "     A    B   C    D\n",
      "0  NaN  2.0 NaN  0.0\n",
      "1  3.0  4.0 NaN  1.0\n",
      "2  NaN  NaN NaN  NaN\n",
      "3  NaN  3.0 NaN  4.0\n",
      "\n",
      "Replace all NaN elements with 0s.\n",
      "\n",
      ">>> df.fillna(0)\n",
      "     A    B    C    D\n",
      "0  0.0  2.0  0.0  0.0\n",
      "1  3.0  4.0  0.0  1.0\n",
      "2  0.0  0.0  0.0  0.0\n",
      "3  0.0  3.0  0.0  4.0\n",
      "\n",
      "Replace all NaN elements in column 'A', 'B', 'C', and 'D', with 0, 1,\n",
      "2, and 3 respectively.\n",
      "\n",
      ">>> values = {\"A\": 0, \"B\": 1, \"C\": 2, \"D\": 3}\n",
      ">>> df.fillna(value=values)\n",
      "     A    B    C    D\n",
      "0  0.0  2.0  2.0  0.0\n",
      "1  3.0  4.0  2.0  1.0\n",
      "2  0.0  1.0  2.0  3.0\n",
      "3  0.0  3.0  2.0  4.0\n",
      "\n",
      "Only replace the first NaN element.\n",
      "\n",
      ">>> df.fillna(value=values, limit=1)\n",
      "     A    B    C    D\n",
      "0  0.0  2.0  2.0  0.0\n",
      "1  3.0  4.0  NaN  1.0\n",
      "2  NaN  1.0  NaN  3.0\n",
      "3  NaN  3.0  NaN  4.0\n",
      "\n",
      "When filling using a DataFrame, replacement happens along\n",
      "the same column names and same indices\n",
      "\n",
      ">>> df2 = pd.DataFrame(np.zeros((4, 4)), columns=list(\"ABCE\"))\n",
      ">>> df.fillna(df2)\n",
      "     A    B    C    D\n",
      "0  0.0  2.0  0.0  0.0\n",
      "1  3.0  4.0  0.0  1.0\n",
      "2  0.0  0.0  0.0  NaN\n",
      "3  0.0  3.0  0.0  4.0\n",
      "\n",
      "Note that column D is not affected since it is not present in df2.\n",
      "\u001b[31mFile:\u001b[39m      c:\\users\\monic\\appdata\\local\\programs\\python\\python312\\lib\\site-packages\\pandas\\core\\generic.py\n",
      "\u001b[31mType:\u001b[39m      method"
     ]
    }
   ],
   "source": [
    "#查詢參數\n",
    "df.fillna?"
   ]
  },
  {
   "cell_type": "code",
   "execution_count": 40,
   "id": "282440f3",
   "metadata": {
    "colab": {
     "base_uri": "https://localhost:8080/"
    },
    "executionInfo": {
     "elapsed": 443,
     "status": "ok",
     "timestamp": 1717414075411,
     "user": {
      "displayName": "ELSA",
      "userId": "12819283556995342183"
     },
     "user_tz": -480
    },
    "id": "282440f3",
    "outputId": "81954156-5243-431b-86de-6764e643a4fe"
   },
   "outputs": [
    {
     "name": "stdout",
     "output_type": "stream",
     "text": [
      "<class 'pandas.core.frame.DataFrame'>\n",
      "RangeIndex: 891 entries, 0 to 890\n",
      "Data columns (total 16 columns):\n",
      " #   Column       Non-Null Count  Dtype  \n",
      "---  ------       --------------  -----  \n",
      " 0   Unnamed: 0   891 non-null    int64  \n",
      " 1   survived     891 non-null    int64  \n",
      " 2   pclass       891 non-null    int64  \n",
      " 3   sex          891 non-null    object \n",
      " 4   age          891 non-null    float64\n",
      " 5   sibsp        891 non-null    int64  \n",
      " 6   parch        891 non-null    int64  \n",
      " 7   fare         891 non-null    float64\n",
      " 8   embarked     891 non-null    object \n",
      " 9   class        891 non-null    object \n",
      " 10  who          891 non-null    object \n",
      " 11  adult_male   891 non-null    bool   \n",
      " 12  deck         203 non-null    object \n",
      " 13  embark_town  889 non-null    object \n",
      " 14  alive        891 non-null    object \n",
      " 15  alone        891 non-null    bool   \n",
      "dtypes: bool(2), float64(2), int64(5), object(7)\n",
      "memory usage: 99.3+ KB\n",
      "None\n"
     ]
    },
    {
     "name": "stderr",
     "output_type": "stream",
     "text": [
      "C:\\Users\\monic\\AppData\\Local\\Temp\\ipykernel_17312\\2089334776.py:1: FutureWarning: A value is trying to be set on a copy of a DataFrame or Series through chained assignment using an inplace method.\n",
      "The behavior will change in pandas 3.0. This inplace method will never work because the intermediate object on which we are setting values always behaves as a copy.\n",
      "\n",
      "For example, when doing 'df[col].method(value, inplace=True)', try using 'df.method({col: value}, inplace=True)' or df[col] = df[col].method(value) instead, to perform the operation inplace on the original object.\n",
      "\n",
      "\n",
      "  df.loc[:,'embarked'].fillna(method='ffill', inplace=True)\n",
      "C:\\Users\\monic\\AppData\\Local\\Temp\\ipykernel_17312\\2089334776.py:1: FutureWarning: Series.fillna with 'method' is deprecated and will raise in a future version. Use obj.ffill() or obj.bfill() instead.\n",
      "  df.loc[:,'embarked'].fillna(method='ffill', inplace=True)\n"
     ]
    }
   ],
   "source": [
    "df.loc[:,'embarked'].fillna(method='ffill', inplace=True)\n",
    "print(df.info())"
   ]
  },
  {
   "cell_type": "code",
   "execution_count": 41,
   "id": "e4cb645f",
   "metadata": {
    "colab": {
     "base_uri": "https://localhost:8080/"
    },
    "executionInfo": {
     "elapsed": 365,
     "status": "ok",
     "timestamp": 1717414364974,
     "user": {
      "displayName": "ELSA",
      "userId": "12819283556995342183"
     },
     "user_tz": -480
    },
    "id": "e4cb645f",
    "outputId": "86ba880f-c5e5-4f6e-ce6e-05a680385e7f"
   },
   "outputs": [
    {
     "name": "stdout",
     "output_type": "stream",
     "text": [
      "0    Southampton\n",
      "Name: embark_town, dtype: object\n",
      "<class 'pandas.core.series.Series'>\n",
      "Southampton\n",
      "<class 'pandas.core.frame.DataFrame'>\n",
      "RangeIndex: 891 entries, 0 to 890\n",
      "Data columns (total 16 columns):\n",
      " #   Column       Non-Null Count  Dtype  \n",
      "---  ------       --------------  -----  \n",
      " 0   Unnamed: 0   891 non-null    int64  \n",
      " 1   survived     891 non-null    int64  \n",
      " 2   pclass       891 non-null    int64  \n",
      " 3   sex          891 non-null    object \n",
      " 4   age          891 non-null    float64\n",
      " 5   sibsp        891 non-null    int64  \n",
      " 6   parch        891 non-null    int64  \n",
      " 7   fare         891 non-null    float64\n",
      " 8   embarked     891 non-null    object \n",
      " 9   class        891 non-null    object \n",
      " 10  who          891 non-null    object \n",
      " 11  adult_male   891 non-null    bool   \n",
      " 12  deck         203 non-null    object \n",
      " 13  embark_town  891 non-null    object \n",
      " 14  alive        891 non-null    object \n",
      " 15  alone        891 non-null    bool   \n",
      "dtypes: bool(2), float64(2), int64(5), object(7)\n",
      "memory usage: 99.3+ KB\n",
      "None\n"
     ]
    },
    {
     "name": "stderr",
     "output_type": "stream",
     "text": [
      "C:\\Users\\monic\\AppData\\Local\\Temp\\ipykernel_17312\\371221793.py:8: FutureWarning: A value is trying to be set on a copy of a DataFrame or Series through chained assignment using an inplace method.\n",
      "The behavior will change in pandas 3.0. This inplace method will never work because the intermediate object on which we are setting values always behaves as a copy.\n",
      "\n",
      "For example, when doing 'df[col].method(value, inplace=True)', try using 'df.method({col: value}, inplace=True)' or df[col] = df[col].method(value) instead, to perform the operation inplace on the original object.\n",
      "\n",
      "\n",
      "  df.loc[:,'embark_town'].fillna(mod[0], inplace=True)\n"
     ]
    }
   ],
   "source": [
    "# embark_town:字串\n",
    "\n",
    "mod = df.loc[:,'embark_town'].mode()#眾數(形成 Series)\n",
    "print(mod)\n",
    "print(type(mod))\n",
    "print(mod[0])\n",
    "\n",
    "df.loc[:,'embark_town'].fillna(mod[0], inplace=True)\n",
    "print(df.info())"
   ]
  },
  {
   "cell_type": "code",
   "execution_count": 42,
   "id": "1By9lh30zHx9",
   "metadata": {
    "id": "1By9lh30zHx9"
   },
   "outputs": [
    {
     "name": "stdout",
     "output_type": "stream",
     "text": [
      "\u001b[31mSignature:\u001b[39m\n",
      "df.drop(\n",
      "    labels: \u001b[33m'IndexLabel | None'\u001b[39m = \u001b[38;5;28;01mNone\u001b[39;00m,\n",
      "    *,\n",
      "    axis: \u001b[33m'Axis'\u001b[39m = \u001b[32m0\u001b[39m,\n",
      "    index: \u001b[33m'IndexLabel | None'\u001b[39m = \u001b[38;5;28;01mNone\u001b[39;00m,\n",
      "    columns: \u001b[33m'IndexLabel | None'\u001b[39m = \u001b[38;5;28;01mNone\u001b[39;00m,\n",
      "    level: \u001b[33m'Level | None'\u001b[39m = \u001b[38;5;28;01mNone\u001b[39;00m,\n",
      "    inplace: \u001b[33m'bool'\u001b[39m = \u001b[38;5;28;01mFalse\u001b[39;00m,\n",
      "    errors: \u001b[33m'IgnoreRaise'\u001b[39m = \u001b[33m'raise'\u001b[39m,\n",
      ") -> \u001b[33m'DataFrame | None'\u001b[39m\n",
      "\u001b[31mDocstring:\u001b[39m\n",
      "Drop specified labels from rows or columns.\n",
      "\n",
      "Remove rows or columns by specifying label names and corresponding\n",
      "axis, or by directly specifying index or column names. When using a\n",
      "multi-index, labels on different levels can be removed by specifying\n",
      "the level. See the :ref:`user guide <advanced.shown_levels>`\n",
      "for more information about the now unused levels.\n",
      "\n",
      "Parameters\n",
      "----------\n",
      "labels : single label or list-like\n",
      "    Index or column labels to drop. A tuple will be used as a single\n",
      "    label and not treated as a list-like.\n",
      "axis : {0 or 'index', 1 or 'columns'}, default 0\n",
      "    Whether to drop labels from the index (0 or 'index') or\n",
      "    columns (1 or 'columns').\n",
      "index : single label or list-like\n",
      "    Alternative to specifying axis (``labels, axis=0``\n",
      "    is equivalent to ``index=labels``).\n",
      "columns : single label or list-like\n",
      "    Alternative to specifying axis (``labels, axis=1``\n",
      "    is equivalent to ``columns=labels``).\n",
      "level : int or level name, optional\n",
      "    For MultiIndex, level from which the labels will be removed.\n",
      "inplace : bool, default False\n",
      "    If False, return a copy. Otherwise, do operation\n",
      "    in place and return None.\n",
      "errors : {'ignore', 'raise'}, default 'raise'\n",
      "    If 'ignore', suppress error and only existing labels are\n",
      "    dropped.\n",
      "\n",
      "Returns\n",
      "-------\n",
      "DataFrame or None\n",
      "    Returns DataFrame or None DataFrame with the specified\n",
      "    index or column labels removed or None if inplace=True.\n",
      "\n",
      "Raises\n",
      "------\n",
      "KeyError\n",
      "    If any of the labels is not found in the selected axis.\n",
      "\n",
      "See Also\n",
      "--------\n",
      "DataFrame.loc : Label-location based indexer for selection by label.\n",
      "DataFrame.dropna : Return DataFrame with labels on given axis omitted\n",
      "    where (all or any) data are missing.\n",
      "DataFrame.drop_duplicates : Return DataFrame with duplicate rows\n",
      "    removed, optionally only considering certain columns.\n",
      "Series.drop : Return Series with specified index labels removed.\n",
      "\n",
      "Examples\n",
      "--------\n",
      ">>> df = pd.DataFrame(np.arange(12).reshape(3, 4),\n",
      "...                   columns=['A', 'B', 'C', 'D'])\n",
      ">>> df\n",
      "   A  B   C   D\n",
      "0  0  1   2   3\n",
      "1  4  5   6   7\n",
      "2  8  9  10  11\n",
      "\n",
      "Drop columns\n",
      "\n",
      ">>> df.drop(['B', 'C'], axis=1)\n",
      "   A   D\n",
      "0  0   3\n",
      "1  4   7\n",
      "2  8  11\n",
      "\n",
      ">>> df.drop(columns=['B', 'C'])\n",
      "   A   D\n",
      "0  0   3\n",
      "1  4   7\n",
      "2  8  11\n",
      "\n",
      "Drop a row by index\n",
      "\n",
      ">>> df.drop([0, 1])\n",
      "   A  B   C   D\n",
      "2  8  9  10  11\n",
      "\n",
      "Drop columns and/or rows of MultiIndex DataFrame\n",
      "\n",
      ">>> midx = pd.MultiIndex(levels=[['llama', 'cow', 'falcon'],\n",
      "...                              ['speed', 'weight', 'length']],\n",
      "...                      codes=[[0, 0, 0, 1, 1, 1, 2, 2, 2],\n",
      "...                             [0, 1, 2, 0, 1, 2, 0, 1, 2]])\n",
      ">>> df = pd.DataFrame(index=midx, columns=['big', 'small'],\n",
      "...                   data=[[45, 30], [200, 100], [1.5, 1], [30, 20],\n",
      "...                         [250, 150], [1.5, 0.8], [320, 250],\n",
      "...                         [1, 0.8], [0.3, 0.2]])\n",
      ">>> df\n",
      "                big     small\n",
      "llama   speed   45.0    30.0\n",
      "        weight  200.0   100.0\n",
      "        length  1.5     1.0\n",
      "cow     speed   30.0    20.0\n",
      "        weight  250.0   150.0\n",
      "        length  1.5     0.8\n",
      "falcon  speed   320.0   250.0\n",
      "        weight  1.0     0.8\n",
      "        length  0.3     0.2\n",
      "\n",
      "Drop a specific index combination from the MultiIndex\n",
      "DataFrame, i.e., drop the combination ``'falcon'`` and\n",
      "``'weight'``, which deletes only the corresponding row\n",
      "\n",
      ">>> df.drop(index=('falcon', 'weight'))\n",
      "                big     small\n",
      "llama   speed   45.0    30.0\n",
      "        weight  200.0   100.0\n",
      "        length  1.5     1.0\n",
      "cow     speed   30.0    20.0\n",
      "        weight  250.0   150.0\n",
      "        length  1.5     0.8\n",
      "falcon  speed   320.0   250.0\n",
      "        length  0.3     0.2\n",
      "\n",
      ">>> df.drop(index='cow', columns='small')\n",
      "                big\n",
      "llama   speed   45.0\n",
      "        weight  200.0\n",
      "        length  1.5\n",
      "falcon  speed   320.0\n",
      "        weight  1.0\n",
      "        length  0.3\n",
      "\n",
      ">>> df.drop(index='length', level=1)\n",
      "                big     small\n",
      "llama   speed   45.0    30.0\n",
      "        weight  200.0   100.0\n",
      "cow     speed   30.0    20.0\n",
      "        weight  250.0   150.0\n",
      "falcon  speed   320.0   250.0\n",
      "        weight  1.0     0.8\n",
      "\u001b[31mFile:\u001b[39m      c:\\users\\monic\\appdata\\local\\programs\\python\\python312\\lib\\site-packages\\pandas\\core\\frame.py\n",
      "\u001b[31mType:\u001b[39m      method"
     ]
    }
   ],
   "source": [
    "df.drop?"
   ]
  },
  {
   "cell_type": "code",
   "execution_count": 43,
   "id": "4ac38129",
   "metadata": {
    "colab": {
     "base_uri": "https://localhost:8080/"
    },
    "executionInfo": {
     "elapsed": 464,
     "status": "ok",
     "timestamp": 1717414839898,
     "user": {
      "displayName": "ELSA",
      "userId": "12819283556995342183"
     },
     "user_tz": -480
    },
    "id": "4ac38129",
    "outputId": "90f2095a-6bcd-4727-81d2-c24ff1948a70"
   },
   "outputs": [
    {
     "name": "stdout",
     "output_type": "stream",
     "text": [
      "<class 'pandas.core.frame.DataFrame'>\n",
      "RangeIndex: 891 entries, 0 to 890\n",
      "Data columns (total 15 columns):\n",
      " #   Column       Non-Null Count  Dtype  \n",
      "---  ------       --------------  -----  \n",
      " 0   Unnamed: 0   891 non-null    int64  \n",
      " 1   survived     891 non-null    int64  \n",
      " 2   pclass       891 non-null    int64  \n",
      " 3   sex          891 non-null    object \n",
      " 4   age          891 non-null    float64\n",
      " 5   sibsp        891 non-null    int64  \n",
      " 6   parch        891 non-null    int64  \n",
      " 7   fare         891 non-null    float64\n",
      " 8   embarked     891 non-null    object \n",
      " 9   class        891 non-null    object \n",
      " 10  who          891 non-null    object \n",
      " 11  adult_male   891 non-null    bool   \n",
      " 12  embark_town  891 non-null    object \n",
      " 13  alive        891 non-null    object \n",
      " 14  alone        891 non-null    bool   \n",
      "dtypes: bool(2), float64(2), int64(5), object(6)\n",
      "memory usage: 92.4+ KB\n",
      "None\n"
     ]
    }
   ],
   "source": [
    "# deck\n",
    "df = df.drop(['deck'],axis=1) # axis=1表示刪除欄位\n",
    "print(df.info())"
   ]
  },
  {
   "cell_type": "code",
   "execution_count": null,
   "id": "2ef2e186",
   "metadata": {
    "id": "2ef2e186"
   },
   "outputs": [],
   "source": []
  }
 ],
 "metadata": {
  "colab": {
   "provenance": []
  },
  "kernelspec": {
   "display_name": "Python 3",
   "language": "python",
   "name": "python3"
  },
  "language_info": {
   "codemirror_mode": {
    "name": "ipython",
    "version": 3
   },
   "file_extension": ".py",
   "mimetype": "text/x-python",
   "name": "python",
   "nbconvert_exporter": "python",
   "pygments_lexer": "ipython3",
   "version": "3.12.10"
  }
 },
 "nbformat": 4,
 "nbformat_minor": 5
}
