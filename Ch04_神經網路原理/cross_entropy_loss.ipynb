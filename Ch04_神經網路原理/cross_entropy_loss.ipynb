{
 "cells": [
  {
   "cell_type": "markdown",
   "metadata": {
    "id": "fSvJffvu10on"
   },
   "source": [
    "### 交叉熵 (Cross Entropy) 損失函數"
   ]
  },
  {
   "cell_type": "code",
   "execution_count": 1,
   "metadata": {
    "executionInfo": {
     "elapsed": 27,
     "status": "ok",
     "timestamp": 1629432388534,
     "user": {
      "displayName": "Tristan Chang",
      "photoUrl": "https://lh3.googleusercontent.com/a-/AOh14Gh12xA8ZXwa1dgzXFsLj_MwkqJdmxu_hK6DdwmvTQ=s64",
      "userId": "01396821554749831700"
     },
     "user_tz": -480
    },
    "id": "YJPZdpKa10os"
   },
   "outputs": [],
   "source": [
    "from numpy import log"
   ]
  },
  {
   "cell_type": "code",
   "execution_count": 2,
   "metadata": {
    "executionInfo": {
     "elapsed": 23,
     "status": "ok",
     "timestamp": 1629432388535,
     "user": {
      "displayName": "Tristan Chang",
      "photoUrl": "https://lh3.googleusercontent.com/a-/AOh14Gh12xA8ZXwa1dgzXFsLj_MwkqJdmxu_hK6DdwmvTQ=s64",
      "userId": "01396821554749831700"
     },
     "user_tz": -480
    },
    "id": "60KW_c1Q10ot"
   },
   "outputs": [],
   "source": [
    "def cross_entropy(y, yhat):\n",
    "    return -1*(y*log(yhat) + (1-y)*log(1-yhat))"
   ]
  },
  {
   "cell_type": "code",
   "execution_count": 3,
   "metadata": {
    "colab": {
     "base_uri": "https://localhost:8080/"
    },
    "executionInfo": {
     "elapsed": 22,
     "status": "ok",
     "timestamp": 1629432388536,
     "user": {
      "displayName": "Tristan Chang",
      "photoUrl": "https://lh3.googleusercontent.com/a-/AOh14Gh12xA8ZXwa1dgzXFsLj_MwkqJdmxu_hK6DdwmvTQ=s64",
      "userId": "01396821554749831700"
     },
     "user_tz": -480
    },
    "id": "eJGLj9qF10ou",
    "outputId": "2b15a95c-f8e9-401e-f8eb-dd09f6ab86a6"
   },
   "outputs": [
    {
     "data": {
      "text/plain": [
       "0.00030004500900199243"
      ]
     },
     "execution_count": 3,
     "metadata": {},
     "output_type": "execute_result"
    }
   ],
   "source": [
    "cross_entropy(1, 0.9997)"
   ]
  },
  {
   "cell_type": "code",
   "execution_count": 4,
   "metadata": {
    "colab": {
     "base_uri": "https://localhost:8080/"
    },
    "executionInfo": {
     "elapsed": 17,
     "status": "ok",
     "timestamp": 1629432388537,
     "user": {
      "displayName": "Tristan Chang",
      "photoUrl": "https://lh3.googleusercontent.com/a-/AOh14Gh12xA8ZXwa1dgzXFsLj_MwkqJdmxu_hK6DdwmvTQ=s64",
      "userId": "01396821554749831700"
     },
     "user_tz": -480
    },
    "id": "hJ4TSi5y10ov",
    "outputId": "c93a5f84-755c-4845-fb95-e70f309f95ff"
   },
   "outputs": [
    {
     "data": {
      "text/plain": [
       "0.10536051565782628"
      ]
     },
     "execution_count": 4,
     "metadata": {},
     "output_type": "execute_result"
    }
   ],
   "source": [
    "cross_entropy(1, 0.9)"
   ]
  },
  {
   "cell_type": "code",
   "execution_count": 5,
   "metadata": {
    "colab": {
     "base_uri": "https://localhost:8080/"
    },
    "executionInfo": {
     "elapsed": 14,
     "status": "ok",
     "timestamp": 1629432388538,
     "user": {
      "displayName": "Tristan Chang",
      "photoUrl": "https://lh3.googleusercontent.com/a-/AOh14Gh12xA8ZXwa1dgzXFsLj_MwkqJdmxu_hK6DdwmvTQ=s64",
      "userId": "01396821554749831700"
     },
     "user_tz": -480
    },
    "id": "3daraaLJ10ow",
    "outputId": "427db873-0699-4176-f618-4bca46002763"
   },
   "outputs": [
    {
     "data": {
      "text/plain": [
       "0.5108256237659907"
      ]
     },
     "execution_count": 5,
     "metadata": {},
     "output_type": "execute_result"
    }
   ],
   "source": [
    "cross_entropy(1, 0.6)"
   ]
  },
  {
   "cell_type": "code",
   "execution_count": 6,
   "metadata": {
    "colab": {
     "base_uri": "https://localhost:8080/"
    },
    "executionInfo": {
     "elapsed": 11,
     "status": "ok",
     "timestamp": 1629432388538,
     "user": {
      "displayName": "Tristan Chang",
      "photoUrl": "https://lh3.googleusercontent.com/a-/AOh14Gh12xA8ZXwa1dgzXFsLj_MwkqJdmxu_hK6DdwmvTQ=s64",
      "userId": "01396821554749831700"
     },
     "user_tz": -480
    },
    "id": "QRRXJdI710ox",
    "outputId": "c0c06e30-bdc3-42e2-de14-65a874798c36"
   },
   "outputs": [
    {
     "data": {
      "text/plain": [
       "2.1269525243508878"
      ]
     },
     "execution_count": 6,
     "metadata": {},
     "output_type": "execute_result"
    }
   ],
   "source": [
    "cross_entropy(1, 0.1192)"
   ]
  },
  {
   "cell_type": "code",
   "execution_count": 7,
   "metadata": {
    "colab": {
     "base_uri": "https://localhost:8080/"
    },
    "executionInfo": {
     "elapsed": 736,
     "status": "ok",
     "timestamp": 1629432392667,
     "user": {
      "displayName": "Tristan Chang",
      "photoUrl": "https://lh3.googleusercontent.com/a-/AOh14Gh12xA8ZXwa1dgzXFsLj_MwkqJdmxu_hK6DdwmvTQ=s64",
      "userId": "01396821554749831700"
     },
     "user_tz": -480
    },
    "id": "_qdWxfIJ10ox",
    "outputId": "d8053cb1-e3d7-4c3a-aa3b-7272ce31df4e"
   },
   "outputs": [
    {
     "data": {
      "text/plain": [
       "0.1269246935736668"
      ]
     },
     "execution_count": 7,
     "metadata": {},
     "output_type": "execute_result"
    }
   ],
   "source": [
    "cross_entropy(0, 0.1192)"
   ]
  },
  {
   "cell_type": "code",
   "execution_count": 8,
   "metadata": {
    "colab": {
     "base_uri": "https://localhost:8080/"
    },
    "executionInfo": {
     "elapsed": 3,
     "status": "ok",
     "timestamp": 1629432393340,
     "user": {
      "displayName": "Tristan Chang",
      "photoUrl": "https://lh3.googleusercontent.com/a-/AOh14Gh12xA8ZXwa1dgzXFsLj_MwkqJdmxu_hK6DdwmvTQ=s64",
      "userId": "01396821554749831700"
     },
     "user_tz": -480
    },
    "id": "yez0F0QA10ox",
    "outputId": "1af5b8e4-e1c4-4292-be8d-a77a5ce71c02"
   },
   "outputs": [
    {
     "data": {
      "text/plain": [
       "0.1269246935736668"
      ]
     },
     "execution_count": 8,
     "metadata": {},
     "output_type": "execute_result"
    }
   ],
   "source": [
    "cross_entropy(1, 1-0.1192)"
   ]
  }
 ],
 "metadata": {
  "colab": {
   "collapsed_sections": [],
   "name": "ch08-cross_entropy_cost.ipynb",
   "provenance": []
  },
  "kernelspec": {
   "display_name": "mypy312",
   "language": "python",
   "name": "python3"
  },
  "language_info": {
   "codemirror_mode": {
    "name": "ipython",
    "version": 3
   },
   "file_extension": ".py",
   "mimetype": "text/x-python",
   "name": "python",
   "nbconvert_exporter": "python",
   "pygments_lexer": "ipython3",
   "version": "3.12.10"
  }
 },
 "nbformat": 4,
 "nbformat_minor": 0
}
