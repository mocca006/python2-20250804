{
 "cells": [
  {
   "cell_type": "code",
   "execution_count": 1,
   "metadata": {},
   "outputs": [],
   "source": [
    "import numpy as np\n",
    "import math"
   ]
  },
  {
   "cell_type": "markdown",
   "metadata": {
    "id": "CvvB8K0Ouh4b"
   },
   "source": [
    "### 均方誤差 (MSE) 損失函數"
   ]
  },
  {
   "cell_type": "code",
   "execution_count": 2,
   "metadata": {
    "executionInfo": {
     "elapsed": 1015,
     "status": "ok",
     "timestamp": 1629432225373,
     "user": {
      "displayName": "Tristan Chang",
      "photoUrl": "https://lh3.googleusercontent.com/a-/AOh14Gh12xA8ZXwa1dgzXFsLj_MwkqJdmxu_hK6DdwmvTQ=s64",
      "userId": "01396821554749831700"
     },
     "user_tz": -480
    },
    "id": "PdIT1_cDOK_F"
   },
   "outputs": [],
   "source": [
    "def MSE (y, yhat):\n",
    "   sq_error = (y - yhat) ** 2\n",
    "   sum_sq_error = np.sum(sq_error)\n",
    "   mse = sum_sq_error/y.size\n",
    "   return mse"
   ]
  },
  {
   "cell_type": "markdown",
   "metadata": {},
   "source": [
    "### 平均絕對誤差(MAE) 損失函數"
   ]
  },
  {
   "cell_type": "code",
   "execution_count": 3,
   "metadata": {
    "id": "DHNswoA1OK_c"
   },
   "outputs": [],
   "source": [
    "def MAE (y, yhat):\n",
    "   absolute_error = np.absolute(y - yhat)\n",
    "   total_absolute_error = np.sum(absolute_error)\n",
    "   mae = total_absolute_error/y.size\n",
    "   return mae"
   ]
  },
  {
   "cell_type": "markdown",
   "metadata": {},
   "source": [
    "### 均方根誤差(RMSE) 損失函數"
   ]
  },
  {
   "cell_type": "code",
   "execution_count": 4,
   "metadata": {},
   "outputs": [],
   "source": [
    "def RMSE (y, yhat):\n",
    "   sq_error = (yhat - y) ** 2\n",
    "   total_sq_error = np.sum(sq_error)\n",
    "   mse = total_sq_error/y.size\n",
    "   rmse = math.sqrt(mse)\n",
    "   return rmse"
   ]
  },
  {
   "cell_type": "code",
   "execution_count": 5,
   "metadata": {},
   "outputs": [
    {
     "name": "stdout",
     "output_type": "stream",
     "text": [
      "MSE 0.13857142857142843\n",
      "MAE 0.3285714285714282\n",
      "RMSE 0.3722518348798679\n"
     ]
    }
   ],
   "source": [
    "y = np.array([23.2, 29.3, 28.9, 21.1, 29.1, 25.7, 22.6])\n",
    "yhat = np.array([23.5, 28.9, 28.8, 20.8, 29.2, 26.2, 23.2])\n",
    "\n",
    "print(\"MSE\", MSE(y, yhat))\n",
    "print(\"MAE\",MAE(y, yhat))\n",
    "print(\"RMSE\",RMSE(y, yhat))"
   ]
  },
  {
   "cell_type": "markdown",
   "metadata": {},
   "source": [
    "### 最大似然損失(Likelihood Loss/LHL) 損失函數"
   ]
  },
  {
   "cell_type": "code",
   "execution_count": 1,
   "metadata": {},
   "outputs": [],
   "source": [
    "import numpy as np\n",
    "\n",
    "def LHL (y, y_predicted):\n",
    "   likelihood_loss = (y * y_predicted) + ((1-y) * (y_predicted))\n",
    "   total_likelihood_loss = np.sum(likelihood_loss)\n",
    "   lhl = total_likelihood_loss / y.size\n",
    "   return lhl\n"
   ]
  },
  {
   "cell_type": "code",
   "execution_count": 2,
   "metadata": {},
   "outputs": [
    {
     "data": {
      "text/plain": [
       "[0, 1, 1, 0, 1, 0]"
      ]
     },
     "execution_count": 2,
     "metadata": {},
     "output_type": "execute_result"
    }
   ],
   "source": [
    "data = np.array([0.3 ,0.7 ,0.8 ,0.5 ,0.6 ,0.4])\n",
    "data2 = [ ]\n",
    "for i in data:\n",
    "    data2.append(1 if i>0.5 else 0)\n",
    "data2"
   ]
  },
  {
   "cell_type": "code",
   "execution_count": 3,
   "metadata": {},
   "outputs": [
    {
     "name": "stdout",
     "output_type": "stream",
     "text": [
      "LHL 0.6666666666666666\n"
     ]
    }
   ],
   "source": [
    "yhat = np.array([0, 1, 1, 1, 1, 0])#預測類別\n",
    "y = np.array([0, 1, 1, 0, 1, 0])#實際類別\n",
    "\n",
    "print(\"LHL\", LHL(y, yhat))\n"
   ]
  },
  {
   "cell_type": "markdown",
   "metadata": {},
   "source": [
    "### 二元交叉熵(BCE) 損失函數"
   ]
  },
  {
   "cell_type": "code",
   "execution_count": 4,
   "metadata": {},
   "outputs": [
    {
     "name": "stdout",
     "output_type": "stream",
     "text": [
      "0.4418819778806002\n"
     ]
    }
   ],
   "source": [
    "from numpy import log\n",
    "\n",
    "def cross_entropy(y, yhat):\n",
    "\tloss = -1*(y*log(yhat) + (1-y)*log(1-yhat))\n",
    "\ttotal_loss = np.sum(loss)\n",
    "\tentropy = total_loss / y.size\n",
    "\treturn entropy\n",
    "\n",
    "yhat = np.array([0.3,0.7 ,0.8 ,0.5 ,0.6 ,0.4])# \n",
    "y = np.array([0, 1, 1, 0, 1, 0])#實際類別#\n",
    "\n",
    "print(cross_entropy(y, yhat))\n"
   ]
  }
 ],
 "metadata": {
  "colab": {
   "name": "●ch08-mean_square_loss.ipynb",
   "provenance": []
  },
  "kernelspec": {
   "display_name": "mypy312",
   "language": "python",
   "name": "python3"
  },
  "language_info": {
   "codemirror_mode": {
    "name": "ipython",
    "version": 3
   },
   "file_extension": ".py",
   "mimetype": "text/x-python",
   "name": "python",
   "nbconvert_exporter": "python",
   "pygments_lexer": "ipython3",
   "version": "3.12.10"
  }
 },
 "nbformat": 4,
 "nbformat_minor": 0
}
