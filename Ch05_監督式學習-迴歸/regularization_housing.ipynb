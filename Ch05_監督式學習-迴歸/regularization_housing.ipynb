{
 "cells": [
  {
   "cell_type": "markdown",
   "metadata": {},
   "source": [
    "# 過度擬合與regularization\n",
    "### 程式修改自 [Regularization of Linear Models with SKLearn](https://medium.com/coinmonks/regularization-of-linear-models-with-sklearn-f88633a93a2)"
   ]
  },
  {
   "cell_type": "markdown",
   "metadata": {},
   "source": [
    "## 載入相關套件"
   ]
  },
  {
   "cell_type": "code",
   "execution_count": 1,
   "metadata": {},
   "outputs": [],
   "source": [
    "import pandas as pd\n",
    "import numpy as np"
   ]
  },
  {
   "cell_type": "markdown",
   "metadata": {},
   "source": [
    "## 載入房價資料集"
   ]
  },
  {
   "cell_type": "code",
   "execution_count": 3,
   "metadata": {},
   "outputs": [],
   "source": [
    "# 載入訓練資料\n",
    "from sklearn.model_selection import train_test_split\n",
    "\n",
    "train_df = pd.read_csv('./data/train.csv', index_col='ID')\n",
    "\n",
    "# 指定 X、Y\n",
    "X = train_df.drop('medv', axis=1)\n",
    "y = train_df['medv']\n",
    "\n",
    "# 資料分割\n",
    "X_train, X_test, y_train, y_test = train_test_split(X, y, test_size=0.3\n",
    "                                                    , random_state=42)"
   ]
  },
  {
   "cell_type": "code",
   "execution_count": 4,
   "metadata": {},
   "outputs": [
    {
     "data": {
      "text/plain": [
       "((233, 13), (100, 13))"
      ]
     },
     "execution_count": 4,
     "metadata": {},
     "output_type": "execute_result"
    }
   ],
   "source": [
    "X_train.shape, X_test.shape"
   ]
  },
  {
   "cell_type": "markdown",
   "metadata": {},
   "source": [
    "## 模型訓練與評分"
   ]
  },
  {
   "cell_type": "code",
   "execution_count": 5,
   "metadata": {},
   "outputs": [
    {
     "name": "stdout",
     "output_type": "stream",
     "text": [
      "訓練結果評分: 0.7268827869293253\n",
      "測試結果評分: 0.7254687959254533\n"
     ]
    }
   ],
   "source": [
    "from sklearn.linear_model import LinearRegression, Ridge, Lasso\n",
    "\n",
    "# 模型訓練\n",
    "lr_model = LinearRegression()\n",
    "lr_model.fit(X_train, y_train)\n",
    "\n",
    "print(f'訓練結果評分: {lr_model.score(X_train, y_train)}')\n",
    "print(f'測試結果評分: {lr_model.score(X_test, y_test)}')\n",
    "\n",
    "# 模型評分\n",
    "y_pred = lr_model.predict(X_test)"
   ]
  },
  {
   "cell_type": "markdown",
   "metadata": {},
   "source": [
    "## 生成新特徵，為舊特徵的平方"
   ]
  },
  {
   "cell_type": "code",
   "execution_count": 6,
   "metadata": {},
   "outputs": [],
   "source": [
    "# 指定 X、Y\n",
    "X = train_df.drop('medv', axis=1)\n",
    "y = train_df['medv']\n",
    "\n",
    "# 生成新特徵，為舊特徵的平方\n",
    "X['crim_2'] = X['crim'] ** 2\n",
    "X['zn_2'] = X['zn'] ** 2\n",
    "X['indus_2'] = X['indus'] ** 2\n",
    "X['chas_2'] = X['chas'] ** 2\n",
    "X['nox_2'] = X['nox'] ** 2\n",
    "X['rm_2'] = X['rm'] ** 2\n",
    "X['age_2'] = X['age'] ** 2\n",
    "X['dis_2'] = X['dis'] ** 2\n",
    "X['rad_2'] = X['rad'] ** 2\n",
    "X['tax_2'] = X['tax'] ** 2\n",
    "X['ptratio_2'] = X['ptratio'] ** 2\n",
    "X['black_2'] = X['black'] ** 2\n",
    "X['lstat_2'] = X['lstat'] ** 2\n",
    "\n",
    "# 資料分割\n",
    "X_train, X_test, y_train, y_test = train_test_split(X, y, test_size=0.3\n",
    "                                                    , random_state=42)"
   ]
  },
  {
   "cell_type": "code",
   "execution_count": 7,
   "metadata": {},
   "outputs": [
    {
     "data": {
      "text/plain": [
       "((233, 26), (100, 26))"
      ]
     },
     "execution_count": 7,
     "metadata": {},
     "output_type": "execute_result"
    }
   ],
   "source": [
    "X_train.shape, X_test.shape"
   ]
  },
  {
   "cell_type": "markdown",
   "metadata": {},
   "source": [
    "## 模型訓練與評分"
   ]
  },
  {
   "cell_type": "code",
   "execution_count": 11,
   "metadata": {},
   "outputs": [
    {
     "name": "stdout",
     "output_type": "stream",
     "text": [
      "訓練結果: 1.0\n",
      "測試結果: -59.95522078093653\n"
     ]
    }
   ],
   "source": [
    "from sklearn.preprocessing import StandardScaler, PolynomialFeatures\n",
    "from sklearn.pipeline import Pipeline\n",
    "\n",
    "# 建立管線\n",
    "steps = [\n",
    "    ('scalar', StandardScaler()),\n",
    "    ('poly', PolynomialFeatures(degree=2)),\n",
    "    ('model', LinearRegression())\n",
    "]\n",
    "pipeline = Pipeline(steps)\n",
    "\n",
    "# 模型訓練\n",
    "pipeline.fit(X_train, y_train)\n",
    "\n",
    "# 模型評分\n",
    "print(f'訓練結果: {pipeline.score(X_train, y_train)}')\n",
    "print(f'測試結果: {pipeline.score(X_test, y_test)}')"
   ]
  },
  {
   "cell_type": "markdown",
   "metadata": {},
   "source": [
    "## l2 Regularization or Ridge Regression"
   ]
  },
  {
   "cell_type": "code",
   "execution_count": 12,
   "metadata": {},
   "outputs": [
    {
     "name": "stdout",
     "output_type": "stream",
     "text": [
      "訓練判定係數: 0.9411030494647765\n",
      "測試判定係數: 0.8158674422432348\n"
     ]
    }
   ],
   "source": [
    "steps = [\n",
    "    ('scalar', StandardScaler()),\n",
    "    ('poly', PolynomialFeatures(degree=2)),\n",
    "    ('model', Ridge(alpha=10, fit_intercept=True))\n",
    "]\n",
    "\n",
    "ridge_pipe = Pipeline(steps)\n",
    "ridge_pipe.fit(X_train, y_train)\n",
    "\n",
    "# 模型評分\n",
    "print(f'訓練判定係數: {ridge_pipe.score(X_train, y_train)}')\n",
    "print(f'測試判定係數: {ridge_pipe.score(X_test, y_test)}')"
   ]
  },
  {
   "cell_type": "markdown",
   "metadata": {},
   "source": [
    "## l1 Regularization or Lasso Regression"
   ]
  },
  {
   "cell_type": "code",
   "execution_count": 13,
   "metadata": {},
   "outputs": [
    {
     "name": "stdout",
     "output_type": "stream",
     "text": [
      "訓練判定係數: 0.8525646297860277\n",
      "測試判定係數: 0.8367938135279831\n"
     ]
    }
   ],
   "source": [
    "steps = [\n",
    "    ('scalar', StandardScaler()),\n",
    "    ('poly', PolynomialFeatures(degree=2)),\n",
    "    ('model', Lasso(alpha=0.3, fit_intercept=True))\n",
    "]\n",
    "\n",
    "lasso_pipe = Pipeline(steps)\n",
    "\n",
    "lasso_pipe.fit(X_train, y_train)\n",
    "\n",
    "# 模型評分\n",
    "print(f'訓練判定係數: {lasso_pipe.score(X_train, y_train)}')\n",
    "print(f'測試判定係數: {lasso_pipe.score(X_test, y_test)}')"
   ]
  },
  {
   "cell_type": "code",
   "execution_count": null,
   "metadata": {},
   "outputs": [],
   "source": []
  }
 ],
 "metadata": {
  "kernelspec": {
   "display_name": "mypy312",
   "language": "python",
   "name": "python3"
  },
  "language_info": {
   "codemirror_mode": {
    "name": "ipython",
    "version": 3
   },
   "file_extension": ".py",
   "mimetype": "text/x-python",
   "name": "python",
   "nbconvert_exporter": "python",
   "pygments_lexer": "ipython3",
   "version": "3.12.4"
  }
 },
 "nbformat": 4,
 "nbformat_minor": 2
}
