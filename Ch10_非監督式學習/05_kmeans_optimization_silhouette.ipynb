{
 "cells": [
  {
   "attachments": {},
   "cell_type": "markdown",
   "metadata": {},
   "source": [
    "# 輪廓圖分析(Silhouette Analysis)"
   ]
  },
  {
   "cell_type": "markdown",
   "metadata": {},
   "source": [
    "## 載入相關套件"
   ]
  },
  {
   "cell_type": "code",
   "execution_count": 1,
   "metadata": {},
   "outputs": [],
   "source": [
    "from sklearn.cluster import KMeans\n",
    "import numpy as np\n",
    "from matplotlib import cm\n",
    "from sklearn.metrics import silhouette_samples\n",
    "from sklearn.datasets import make_blobs\n",
    "import matplotlib.pyplot as plt"
   ]
  },
  {
   "cell_type": "markdown",
   "metadata": {},
   "source": [
    "## 生成分類資料"
   ]
  },
  {
   "cell_type": "code",
   "execution_count": 2,
   "metadata": {},
   "outputs": [],
   "source": [
    "X, y = make_blobs(n_samples=150, \n",
    "                  n_features=2, \n",
    "                  centers=3, \n",
    "                  cluster_std=0.5, \n",
    "                  shuffle=True, \n",
    "                  random_state=0)"
   ]
  },
  {
   "cell_type": "markdown",
   "metadata": {},
   "source": [
    "## 訓練模型"
   ]
  },
  {
   "cell_type": "code",
   "execution_count": 3,
   "metadata": {},
   "outputs": [],
   "source": [
    "km = KMeans(n_clusters=2, #應該要分 3 群最好\n",
    "            init='k-means++', \n",
    "            n_init=10, \n",
    "            max_iter=300,\n",
    "            tol=1e-04,\n",
    "            random_state=0)\n",
    "y_km = km.fit_predict(X)"
   ]
  },
  {
   "cell_type": "markdown",
   "metadata": {},
   "source": [
    "## 輪廓係數"
   ]
  },
  {
   "cell_type": "code",
   "execution_count": 4,
   "metadata": {},
   "outputs": [
    {
     "data": {
      "text/plain": [
       "array([ 0.7882953 ,  0.38923407,  0.52211982,  0.55501878,  0.78197122,\n",
       "        0.39231318,  0.36539069,  0.77034967,  0.52076799,  0.37139396,\n",
       "        0.68367198,  0.32525645,  0.54324939,  0.51018379,  0.57910842,\n",
       "        0.53478717,  0.59821967,  0.82440576,  0.55458851,  0.80019991,\n",
       "        0.52561077,  0.79221766,  0.39470861,  0.48367391,  0.52113582,\n",
       "        0.82876127,  0.78946442,  0.27934914,  0.54282261,  0.77181097,\n",
       "        0.60458888,  0.55403934,  0.52145436,  0.58807535,  0.56683775,\n",
       "        0.69138748,  0.72930406,  0.78659885,  0.52301938,  0.47328006,\n",
       "        0.25152598,  0.42241728,  0.56433071,  0.78051492,  0.81226172,\n",
       "        0.80916275,  0.59666707, -0.00119255,  0.52693014,  0.37746722,\n",
       "        0.6691821 ,  0.55603136,  0.48540481,  0.81115468,  0.81632036,\n",
       "        0.58519579,  0.44924776,  0.68651592,  0.60858223,  0.42074434,\n",
       "        0.55118637,  0.53010646,  0.57655269,  0.59118001,  0.4505824 ,\n",
       "        0.46840856,  0.49088486,  0.62495534,  0.59049654,  0.54580185,\n",
       "        0.2258517 ,  0.72125536,  0.81401509,  0.53290402,  0.75485587,\n",
       "        0.51701736,  0.34529882,  0.44822225,  0.59887566,  0.50387171,\n",
       "        0.80984972,  0.7934094 ,  0.47284556,  0.4591054 ,  0.756137  ,\n",
       "        0.69230847,  0.81031794,  0.5842746 ,  0.58104124,  0.7715848 ,\n",
       "        0.80455398,  0.47712047,  0.71639904,  0.52209993,  0.80988821,\n",
       "        0.08423803,  0.5384104 ,  0.57219866,  0.75436112,  0.70430335,\n",
       "        0.78613036,  0.8133511 ,  0.57201777,  0.82195085,  0.77536398,\n",
       "        0.48800374,  0.58609946,  0.29979014,  0.50926768,  0.56232908,\n",
       "        0.59984998,  0.50827116,  0.82078455,  0.57274759,  0.48469894,\n",
       "        0.52336326,  0.49407708,  0.33482475,  0.56025757,  0.56413022,\n",
       "        0.5260028 ,  0.79641254,  0.55167084,  0.57298119,  0.65251923,\n",
       "        0.79439846,  0.51762099,  0.79199223,  0.5362064 ,  0.55157585,\n",
       "        0.56560082,  0.57466232,  0.74927365,  0.52378749,  0.60410015,\n",
       "        0.25690452,  0.41595449,  0.54339201,  0.72752468,  0.53739559,\n",
       "        0.41669133,  0.40135894,  0.71174552,  0.82733491,  0.59772762,\n",
       "        0.5132418 ,  0.59243308,  0.45677801,  0.80462721,  0.73746698])"
      ]
     },
     "execution_count": 4,
     "metadata": {},
     "output_type": "execute_result"
    }
   ],
   "source": [
    "cluster_labels = np.unique(y_km)\n",
    "n_clusters = cluster_labels.shape[0]\n",
    "silhouette_vals = silhouette_samples(X, y_km, metric='euclidean')\n",
    "silhouette_vals "
   ]
  },
  {
   "cell_type": "markdown",
   "metadata": {},
   "source": [
    "## 繪製輪廓圖"
   ]
  },
  {
   "cell_type": "code",
   "execution_count": 5,
   "metadata": {
    "scrolled": true
   },
   "outputs": [
    {
     "data": {
      "image/png": "[encoded data removed]",
      "text/plain": [
       "<Figure size 640x480 with 1 Axes>"
      ]
     },
     "metadata": {},
     "output_type": "display_data"
    }
   ],
   "source": [
    "# 修正中文亂碼 \n",
    "#plt.rcParams['font.sans-serif'] = ['Arial Unicode MS'] \n",
    "plt.rcParams[\"font.family\"] = [\"Microsoft JhengHei\"]\n",
    "plt.rcParams['axes.unicode_minus'] = False\n",
    "\n",
    "# 輪廓圖\n",
    "y_ax_lower, y_ax_upper = 0, 0\n",
    "yticks = []\n",
    "for i, c in enumerate(cluster_labels):\n",
    "    c_silhouette_vals = silhouette_vals[y_km == c]\n",
    "    c_silhouette_vals.sort()\n",
    "    y_ax_upper += len(c_silhouette_vals)\n",
    "    color = cm.jet(float(i) / n_clusters)\n",
    "    plt.barh(range(y_ax_lower, y_ax_upper), c_silhouette_vals, height=1.0, \n",
    "             edgecolor='none', color=color)\n",
    "\n",
    "    yticks.append((y_ax_lower + y_ax_upper) / 2.)\n",
    "    y_ax_lower += len(c_silhouette_vals)\n",
    "    \n",
    "# 輪廓係數平均數的垂直線\n",
    "silhouette_avg = np.mean(silhouette_vals)\n",
    "plt.axvline(silhouette_avg, color=\"red\", linestyle=\"--\") \n",
    "\n",
    "plt.yticks(yticks, cluster_labels + 1)\n",
    "plt.ylabel('集群', fontsize=14)\n",
    "plt.xlabel('輪廓係數', fontsize=14);"
   ]
  },
  {
   "cell_type": "markdown",
   "metadata": {},
   "source": [
    "## 使用3個集群訓練模型"
   ]
  },
  {
   "cell_type": "code",
   "execution_count": 6,
   "metadata": {},
   "outputs": [],
   "source": [
    "km = KMeans(n_clusters=3, \n",
    "            init='k-means++', \n",
    "            n_init=10, \n",
    "            max_iter=300,\n",
    "            tol=1e-04,\n",
    "            random_state=0)\n",
    "y_km = km.fit_predict(X)"
   ]
  },
  {
   "cell_type": "markdown",
   "metadata": {},
   "source": [
    "## 繪製輪廓圖"
   ]
  },
  {
   "cell_type": "code",
   "execution_count": 7,
   "metadata": {
    "scrolled": true
   },
   "outputs": [
    {
     "data": {
      "image/png": "[encoded data removed]",
      "text/plain": [
       "<Figure size 640x480 with 1 Axes>"
      ]
     },
     "metadata": {},
     "output_type": "display_data"
    }
   ],
   "source": [
    "cluster_labels = np.unique(y_km)\n",
    "n_clusters = cluster_labels.shape[0]\n",
    "silhouette_vals = silhouette_samples(X, y_km, metric='euclidean')\n",
    "\n",
    "# 輪廓圖\n",
    "y_ax_lower, y_ax_upper = 0, 0\n",
    "yticks = []\n",
    "for i, c in enumerate(cluster_labels):\n",
    "    c_silhouette_vals = silhouette_vals[y_km == c]\n",
    "    c_silhouette_vals.sort()\n",
    "    y_ax_upper += len(c_silhouette_vals)\n",
    "    color = cm.jet(float(i) / n_clusters)\n",
    "    plt.barh(range(y_ax_lower, y_ax_upper), c_silhouette_vals, height=1.0, \n",
    "             edgecolor='none', color=color)\n",
    "\n",
    "    yticks.append((y_ax_lower + y_ax_upper) / 2.)\n",
    "    y_ax_lower += len(c_silhouette_vals)\n",
    "    \n",
    "# 輪廓係數平均數的垂直線\n",
    "silhouette_avg = np.mean(silhouette_vals)\n",
    "plt.axvline(silhouette_avg, color=\"red\", linestyle=\"--\") \n",
    "\n",
    "plt.yticks(yticks, cluster_labels + 1)\n",
    "plt.ylabel('集群', fontsize=14)\n",
    "plt.xlabel('輪廓係數', fontsize=14);"
   ]
  },
  {
   "cell_type": "markdown",
   "metadata": {},
   "source": [
    "## 計算輪廓分數"
   ]
  },
  {
   "cell_type": "code",
   "execution_count": 8,
   "metadata": {},
   "outputs": [
    {
     "data": {
      "text/plain": [
       "0.7143417887288686"
      ]
     },
     "execution_count": 8,
     "metadata": {},
     "output_type": "execute_result"
    }
   ],
   "source": [
    "from sklearn.metrics import silhouette_score\n",
    "silhouette_score(X, y)"
   ]
  },
  {
   "cell_type": "markdown",
   "metadata": {},
   "source": [
    "## 依據輪廓分數找最佳集群數量"
   ]
  },
  {
   "cell_type": "code",
   "execution_count": 9,
   "metadata": {},
   "outputs": [
    {
     "name": "stdout",
     "output_type": "stream",
     "text": [
      "輪廓分數:\n",
      "2:0.58\n",
      "3:0.71\n",
      "4:0.57\n",
      "5:0.44\n",
      "6:0.46\n",
      "7:0.32\n",
      "8:0.33\n",
      "9:0.34\n",
      "10:0.35\n",
      "最大值 3: 0.71\n"
     ]
    }
   ],
   "source": [
    "# 測試 2~10 群的分數\n",
    "silhouette_score_list = []\n",
    "print('輪廓分數:')\n",
    "for i in range(2, 11):\n",
    "    km = KMeans(n_clusters=i, \n",
    "                init='k-means++', \n",
    "                n_init=10, \n",
    "                max_iter=300, \n",
    "                random_state=0)\n",
    "    km.fit(X)\n",
    "    y_km = km.fit_predict(X)  \n",
    "    silhouette_score_list.append(silhouette_score(X, y_km))\n",
    "    print(f'{i}:{silhouette_score_list[-1]:.2f}')\n",
    "\n",
    "print(f'最大值 {np.argmax(silhouette_score_list)+2}: {np.max(silhouette_score_list):.2f}')"
   ]
  },
  {
   "cell_type": "code",
   "execution_count": null,
   "metadata": {},
   "outputs": [],
   "source": []
  }
 ],
 "metadata": {
  "kernelspec": {
   "display_name": "mypy312",
   "language": "python",
   "name": "python3"
  },
  "language_info": {
   "codemirror_mode": {
    "name": "ipython",
    "version": 3
   },
   "file_extension": ".py",
   "mimetype": "text/x-python",
   "name": "python",
   "nbconvert_exporter": "python",
   "pygments_lexer": "ipython3",
   "version": "3.12.10"
  }
 },
 "nbformat": 4,
 "nbformat_minor": 2
}
